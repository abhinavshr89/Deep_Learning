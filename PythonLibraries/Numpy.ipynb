{
 "cells": [
  {
   "cell_type": "code",
   "execution_count": 5,
   "id": "5a1b34f8-30f5-43a4-977f-655c37f45bdc",
   "metadata": {},
   "outputs": [],
   "source": [
    "import numpy as np "
   ]
  },
  {
   "cell_type": "code",
   "execution_count": 7,
   "id": "04b6801b-c850-41cf-a3da-03e495ffb0f9",
   "metadata": {},
   "outputs": [
    {
     "data": {
      "text/plain": [
       "array([1, 2, 3])"
      ]
     },
     "execution_count": 7,
     "metadata": {},
     "output_type": "execute_result"
    }
   ],
   "source": [
    "arr = np.array([1,2,3])\n",
    "arr"
   ]
  },
  {
   "cell_type": "code",
   "execution_count": 9,
   "id": "d23262d4-d0fa-4208-9063-a33e36940a0e",
   "metadata": {},
   "outputs": [
    {
     "data": {
      "text/plain": [
       "numpy.ndarray"
      ]
     },
     "execution_count": 9,
     "metadata": {},
     "output_type": "execute_result"
    }
   ],
   "source": [
    "type(arr)"
   ]
  },
  {
   "cell_type": "markdown",
   "id": "02713073-447d-4939-b978-746fb1b0e24a",
   "metadata": {},
   "source": [
    "### Creating specific types of arrays in numpy "
   ]
  },
  {
   "cell_type": "code",
   "execution_count": 13,
   "id": "264b0f2b-cca3-423d-a9d6-1a4df8a3865f",
   "metadata": {},
   "outputs": [
    {
     "data": {
      "text/plain": [
       "array([1.4, 2.4, 3.2])"
      ]
     },
     "execution_count": 13,
     "metadata": {},
     "output_type": "execute_result"
    }
   ],
   "source": [
    "arr_float = np.array([1.4,2.4,3.2],dtype=float)\n",
    "arr_float"
   ]
  },
  {
   "cell_type": "code",
   "execution_count": 26,
   "id": "7751c899-040e-4d86-81c4-cf8df3adf4d4",
   "metadata": {},
   "outputs": [
    {
     "data": {
      "text/plain": [
       "array([ True,  True,  True, False])"
      ]
     },
     "execution_count": 26,
     "metadata": {},
     "output_type": "execute_result"
    }
   ],
   "source": [
    "arr_bool = np.array([1,3,4,0],dtype=bool)\n",
    "arr_bool"
   ]
  },
  {
   "cell_type": "markdown",
   "id": "97c7a6eb-34cf-4139-9329-9a50fa588012",
   "metadata": {},
   "source": [
    "* **we can give the data type by giving dtype attribute while creating the arrays**  "
   ]
  },
  {
   "cell_type": "markdown",
   "id": "283fb280-2671-4f31-98a6-bbcefe14db95",
   "metadata": {},
   "source": [
    "## 2D Arrays\n",
    "* **We can call them matrix**"
   ]
  },
  {
   "cell_type": "code",
   "execution_count": 17,
   "id": "906b5aea-b2ee-48fd-b1d5-aa93ac70b7a3",
   "metadata": {},
   "outputs": [
    {
     "data": {
      "text/plain": [
       "array([[1, 2, 3],\n",
       "       [1, 2, 3]])"
      ]
     },
     "execution_count": 17,
     "metadata": {},
     "output_type": "execute_result"
    }
   ],
   "source": [
    "two_dim_array = np.array([[1,2,3],[1,2,3]])\n",
    "two_dim_array"
   ]
  },
  {
   "cell_type": "markdown",
   "id": "b9039216-26bc-41a2-ac0c-69e138e56a43",
   "metadata": {},
   "source": [
    "### Use of arange and reshape "
   ]
  },
  {
   "cell_type": "code",
   "execution_count": 29,
   "id": "9c7a0337-e48e-4f7f-9686-9a69fe77efee",
   "metadata": {},
   "outputs": [
    {
     "data": {
      "text/plain": [
       "array([ 1,  2,  3,  4,  5,  6,  7,  8,  9, 10])"
      ]
     },
     "execution_count": 29,
     "metadata": {},
     "output_type": "execute_result"
    }
   ],
   "source": [
    "np.arange(1,11)"
   ]
  },
  {
   "cell_type": "code",
   "execution_count": 35,
   "id": "fd905604-f8e2-447f-8e2c-9f9c9d8a52db",
   "metadata": {},
   "outputs": [
    {
     "data": {
      "text/plain": [
       "array([[ 1,  2],\n",
       "       [ 3,  4],\n",
       "       [ 5,  6],\n",
       "       [ 7,  8],\n",
       "       [ 9, 10]])"
      ]
     },
     "execution_count": 35,
     "metadata": {},
     "output_type": "execute_result"
    }
   ],
   "source": [
    "np.arange(1,11).reshape(5,2)\n",
    "# Here we got a 2D matrix with 5 rows and 2 coloumns "
   ]
  },
  {
   "cell_type": "markdown",
   "id": "f97052ee-603b-4702-8d19-17fdfd08341d",
   "metadata": {},
   "source": [
    "### np.ones"
   ]
  },
  {
   "cell_type": "code",
   "execution_count": 51,
   "id": "b1711a7a-e283-4d4a-9751-24d8cfbb1c41",
   "metadata": {},
   "outputs": [
    {
     "name": "stdout",
     "output_type": "stream",
     "text": [
      "[[1 1 1 1]\n",
      " [1 1 1 1]\n",
      " [1 1 1 1]]\n",
      "[[1. 1. 1. 1.]\n",
      " [1. 1. 1. 1.]\n",
      " [1. 1. 1. 1.]]\n"
     ]
    }
   ],
   "source": [
    "arrOne =np.ones((3,4),dtype=int)\n",
    "arrTwo =np.ones((3,4)) # This will contain float values \n",
    "print(arrOne)\n",
    "print(arrTwo)"
   ]
  },
  {
   "cell_type": "markdown",
   "id": "cb8d2519-6c69-4bbb-b52e-649a368d98ae",
   "metadata": {},
   "source": [
    "### np.zeros"
   ]
  },
  {
   "cell_type": "code",
   "execution_count": 45,
   "id": "9ba54305-ffed-4da3-846a-5b6a25b6abf9",
   "metadata": {},
   "outputs": [
    {
     "data": {
      "text/plain": [
       "array([[0, 0, 0],\n",
       "       [0, 0, 0],\n",
       "       [0, 0, 0]])"
      ]
     },
     "execution_count": 45,
     "metadata": {},
     "output_type": "execute_result"
    }
   ],
   "source": [
    "np.zeros((3,3),dtype=int)"
   ]
  },
  {
   "cell_type": "markdown",
   "id": "b4af384d-24a5-46a7-9c4a-d7d578d3e457",
   "metadata": {},
   "source": [
    "### np.random"
   ]
  },
  {
   "cell_type": "code",
   "execution_count": 57,
   "id": "c7daa001-9bad-45c0-83f3-cc8502cee1b7",
   "metadata": {},
   "outputs": [
    {
     "data": {
      "text/plain": [
       "array([[0.47434842, 0.53242082, 0.53517496],\n",
       "       [0.46116359, 0.96143648, 0.54951428],\n",
       "       [0.88258117, 0.37403505, 0.42762385]])"
      ]
     },
     "execution_count": 57,
     "metadata": {},
     "output_type": "execute_result"
    }
   ],
   "source": [
    "np.random.random((3,3))"
   ]
  },
  {
   "cell_type": "markdown",
   "id": "86c65469-b437-44e5-92ff-d542ce1b7f4d",
   "metadata": {},
   "source": [
    "### np.linspace"
   ]
  },
  {
   "cell_type": "code",
   "execution_count": 72,
   "id": "a741532a-0516-4895-998a-4dc463e08ab0",
   "metadata": {},
   "outputs": [
    {
     "data": {
      "text/plain": [
       "array([-10,  -8,  -6,  -4,  -2,   1,   3,   5,   7,  10])"
      ]
     },
     "execution_count": 72,
     "metadata": {},
     "output_type": "execute_result"
    }
   ],
   "source": [
    "np.linspace(-10,10,10,dtype=int)\n",
    "# (start, end , number of points)"
   ]
  },
  {
   "cell_type": "markdown",
   "id": "b7604022-0d59-489e-8bb0-326d5e1cb42f",
   "metadata": {},
   "source": [
    "### np.identity"
   ]
  },
  {
   "cell_type": "code",
   "execution_count": 70,
   "id": "b49b8651-7f14-4c95-b915-200949a364d9",
   "metadata": {},
   "outputs": [
    {
     "data": {
      "text/plain": [
       "array([[1, 0, 0],\n",
       "       [0, 1, 0],\n",
       "       [0, 0, 1]])"
      ]
     },
     "execution_count": 70,
     "metadata": {},
     "output_type": "execute_result"
    }
   ],
   "source": [
    "np.identity(3,dtype=int)"
   ]
  },
  {
   "cell_type": "code",
   "execution_count": null,
   "id": "d9374da1-a1bc-4312-9280-84c005e00b5c",
   "metadata": {},
   "outputs": [],
   "source": []
  }
 ],
 "metadata": {
  "kernelspec": {
   "display_name": "Python 3 (ipykernel)",
   "language": "python",
   "name": "python3"
  },
  "language_info": {
   "codemirror_mode": {
    "name": "ipython",
    "version": 3
   },
   "file_extension": ".py",
   "mimetype": "text/x-python",
   "name": "python",
   "nbconvert_exporter": "python",
   "pygments_lexer": "ipython3",
   "version": "3.12.4"
  }
 },
 "nbformat": 4,
 "nbformat_minor": 5
}
