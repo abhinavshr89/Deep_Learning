{
 "cells": [
  {
   "cell_type": "code",
   "execution_count": 5,
   "id": "5a1b34f8-30f5-43a4-977f-655c37f45bdc",
   "metadata": {},
   "outputs": [],
   "source": [
    "import numpy as np "
   ]
  },
  {
   "cell_type": "markdown",
   "id": "2ed574e2-410d-40a3-9bab-f765b3b6713b",
   "metadata": {},
   "source": [
    "### Creating a array in numpy using a list "
   ]
  },
  {
   "cell_type": "code",
   "execution_count": 7,
   "id": "04b6801b-c850-41cf-a3da-03e495ffb0f9",
   "metadata": {},
   "outputs": [
    {
     "data": {
      "text/plain": [
       "array([1, 2, 3])"
      ]
     },
     "execution_count": 7,
     "metadata": {},
     "output_type": "execute_result"
    }
   ],
   "source": [
    "arr = np.array([1,2,3])\n",
    "arr"
   ]
  },
  {
   "cell_type": "code",
   "execution_count": 9,
   "id": "d23262d4-d0fa-4208-9063-a33e36940a0e",
   "metadata": {},
   "outputs": [
    {
     "data": {
      "text/plain": [
       "numpy.ndarray"
      ]
     },
     "execution_count": 9,
     "metadata": {},
     "output_type": "execute_result"
    }
   ],
   "source": [
    "type(arr)"
   ]
  },
  {
   "cell_type": "markdown",
   "id": "02713073-447d-4939-b978-746fb1b0e24a",
   "metadata": {},
   "source": [
    "### Creating specific types of arrays in numpy "
   ]
  },
  {
   "cell_type": "code",
   "execution_count": 13,
   "id": "264b0f2b-cca3-423d-a9d6-1a4df8a3865f",
   "metadata": {},
   "outputs": [
    {
     "data": {
      "text/plain": [
       "array([1.4, 2.4, 3.2])"
      ]
     },
     "execution_count": 13,
     "metadata": {},
     "output_type": "execute_result"
    }
   ],
   "source": [
    "arr_float = np.array([1.4,2.4,3.2],dtype=float)\n",
    "arr_float"
   ]
  },
  {
   "cell_type": "code",
   "execution_count": 26,
   "id": "7751c899-040e-4d86-81c4-cf8df3adf4d4",
   "metadata": {},
   "outputs": [
    {
     "data": {
      "text/plain": [
       "array([ True,  True,  True, False])"
      ]
     },
     "execution_count": 26,
     "metadata": {},
     "output_type": "execute_result"
    }
   ],
   "source": [
    "arr_bool = np.array([1,3,4,0],dtype=bool)\n",
    "arr_bool"
   ]
  },
  {
   "cell_type": "markdown",
   "id": "97c7a6eb-34cf-4139-9329-9a50fa588012",
   "metadata": {},
   "source": [
    "* **we can give the data type by giving dtype attribute while creating the arrays**  "
   ]
  },
  {
   "cell_type": "markdown",
   "id": "283fb280-2671-4f31-98a6-bbcefe14db95",
   "metadata": {},
   "source": [
    "## 2D Arrays\n",
    "* **We can call them matrix**"
   ]
  },
  {
   "cell_type": "code",
   "execution_count": 17,
   "id": "906b5aea-b2ee-48fd-b1d5-aa93ac70b7a3",
   "metadata": {},
   "outputs": [
    {
     "data": {
      "text/plain": [
       "array([[1, 2, 3],\n",
       "       [1, 2, 3]])"
      ]
     },
     "execution_count": 17,
     "metadata": {},
     "output_type": "execute_result"
    }
   ],
   "source": [
    "two_dim_array = np.array([[1,2,3],[1,2,3]])\n",
    "two_dim_array"
   ]
  },
  {
   "cell_type": "markdown",
   "id": "9b68a6fe-0457-4cc4-a565-67ec59f03073",
   "metadata": {},
   "source": [
    "# Different ways to initialize arrays in numpy"
   ]
  },
  {
   "cell_type": "markdown",
   "id": "b9039216-26bc-41a2-ac0c-69e138e56a43",
   "metadata": {},
   "source": [
    "### Use of arange and reshape "
   ]
  },
  {
   "cell_type": "code",
   "execution_count": 29,
   "id": "9c7a0337-e48e-4f7f-9686-9a69fe77efee",
   "metadata": {},
   "outputs": [
    {
     "data": {
      "text/plain": [
       "array([ 1,  2,  3,  4,  5,  6,  7,  8,  9, 10])"
      ]
     },
     "execution_count": 29,
     "metadata": {},
     "output_type": "execute_result"
    }
   ],
   "source": [
    "np.arange(1,11)"
   ]
  },
  {
   "cell_type": "code",
   "execution_count": 35,
   "id": "fd905604-f8e2-447f-8e2c-9f9c9d8a52db",
   "metadata": {},
   "outputs": [
    {
     "data": {
      "text/plain": [
       "array([[ 1,  2],\n",
       "       [ 3,  4],\n",
       "       [ 5,  6],\n",
       "       [ 7,  8],\n",
       "       [ 9, 10]])"
      ]
     },
     "execution_count": 35,
     "metadata": {},
     "output_type": "execute_result"
    }
   ],
   "source": [
    "np.arange(1,11).reshape(5,2)\n",
    "# Here we got a 2D matrix with 5 rows and 2 coloumns "
   ]
  },
  {
   "cell_type": "markdown",
   "id": "f97052ee-603b-4702-8d19-17fdfd08341d",
   "metadata": {},
   "source": [
    "### np.ones"
   ]
  },
  {
   "cell_type": "code",
   "execution_count": 51,
   "id": "b1711a7a-e283-4d4a-9751-24d8cfbb1c41",
   "metadata": {},
   "outputs": [
    {
     "name": "stdout",
     "output_type": "stream",
     "text": [
      "[[1 1 1 1]\n",
      " [1 1 1 1]\n",
      " [1 1 1 1]]\n",
      "[[1. 1. 1. 1.]\n",
      " [1. 1. 1. 1.]\n",
      " [1. 1. 1. 1.]]\n"
     ]
    }
   ],
   "source": [
    "arrOne =np.ones((3,4),dtype=int)\n",
    "arrTwo =np.ones((3,4)) # This will contain float values \n",
    "print(arrOne)\n",
    "print(arrTwo)"
   ]
  },
  {
   "cell_type": "markdown",
   "id": "cb8d2519-6c69-4bbb-b52e-649a368d98ae",
   "metadata": {},
   "source": [
    "### np.zeros"
   ]
  },
  {
   "cell_type": "code",
   "execution_count": 45,
   "id": "9ba54305-ffed-4da3-846a-5b6a25b6abf9",
   "metadata": {},
   "outputs": [
    {
     "data": {
      "text/plain": [
       "array([[0, 0, 0],\n",
       "       [0, 0, 0],\n",
       "       [0, 0, 0]])"
      ]
     },
     "execution_count": 45,
     "metadata": {},
     "output_type": "execute_result"
    }
   ],
   "source": [
    "np.zeros((3,3),dtype=int)"
   ]
  },
  {
   "cell_type": "markdown",
   "id": "b4af384d-24a5-46a7-9c4a-d7d578d3e457",
   "metadata": {},
   "source": [
    "### np.random"
   ]
  },
  {
   "cell_type": "code",
   "execution_count": 57,
   "id": "c7daa001-9bad-45c0-83f3-cc8502cee1b7",
   "metadata": {},
   "outputs": [
    {
     "data": {
      "text/plain": [
       "array([[0.47434842, 0.53242082, 0.53517496],\n",
       "       [0.46116359, 0.96143648, 0.54951428],\n",
       "       [0.88258117, 0.37403505, 0.42762385]])"
      ]
     },
     "execution_count": 57,
     "metadata": {},
     "output_type": "execute_result"
    }
   ],
   "source": [
    "np.random.random((3,3))"
   ]
  },
  {
   "cell_type": "markdown",
   "id": "86c65469-b437-44e5-92ff-d542ce1b7f4d",
   "metadata": {},
   "source": [
    "### np.linspace"
   ]
  },
  {
   "cell_type": "code",
   "execution_count": 72,
   "id": "a741532a-0516-4895-998a-4dc463e08ab0",
   "metadata": {},
   "outputs": [
    {
     "data": {
      "text/plain": [
       "array([-10,  -8,  -6,  -4,  -2,   1,   3,   5,   7,  10])"
      ]
     },
     "execution_count": 72,
     "metadata": {},
     "output_type": "execute_result"
    }
   ],
   "source": [
    "np.linspace(-10,10,10,dtype=int)\n",
    "# (start, end , number of points)"
   ]
  },
  {
   "cell_type": "markdown",
   "id": "b7604022-0d59-489e-8bb0-326d5e1cb42f",
   "metadata": {},
   "source": [
    "### np.identity"
   ]
  },
  {
   "cell_type": "code",
   "execution_count": 70,
   "id": "b49b8651-7f14-4c95-b915-200949a364d9",
   "metadata": {},
   "outputs": [
    {
     "data": {
      "text/plain": [
       "array([[1, 0, 0],\n",
       "       [0, 1, 0],\n",
       "       [0, 0, 1]])"
      ]
     },
     "execution_count": 70,
     "metadata": {},
     "output_type": "execute_result"
    }
   ],
   "source": [
    "np.identity(3,dtype=int)"
   ]
  },
  {
   "cell_type": "markdown",
   "id": "7b089f92-348d-43ba-9570-223954495357",
   "metadata": {},
   "source": [
    "# Some important numpy attributes "
   ]
  },
  {
   "cell_type": "code",
   "execution_count": 108,
   "id": "f58992e6-95c0-4a9f-bb7a-88b0947ced2f",
   "metadata": {},
   "outputs": [
    {
     "name": "stdout",
     "output_type": "stream",
     "text": [
      "[[1 2 3]\n",
      " [4 5 6]]\n",
      "[[[1. 1. 1.]\n",
      "  [1. 1. 1.]\n",
      "  [1. 1. 1.]]\n",
      "\n",
      " [[1. 1. 1.]\n",
      "  [1. 1. 1.]\n",
      "  [1. 1. 1.]]]\n"
     ]
    }
   ],
   "source": [
    "a1 =np.array([[1,2,3],[4,5,6]])\n",
    "a2 =np.ones((2,3,3))\n",
    "\n",
    "print(a1)\n",
    "print(a2)"
   ]
  },
  {
   "cell_type": "markdown",
   "id": "8f260afb-2106-4046-82de-a1e7332d6638",
   "metadata": {},
   "source": [
    "### ndim : It tells us about the number of dimensions"
   ]
  },
  {
   "cell_type": "code",
   "execution_count": 110,
   "id": "6ce62cf1-c34b-4c6c-ada7-e2a3141853c4",
   "metadata": {},
   "outputs": [
    {
     "name": "stdout",
     "output_type": "stream",
     "text": [
      "2\n",
      "3\n"
     ]
    }
   ],
   "source": [
    "print(a1.ndim) \n",
    "print(a2.ndim)"
   ]
  },
  {
   "cell_type": "markdown",
   "id": "a83139da-4cca-45bf-93c7-6ddd54d22fce",
   "metadata": {},
   "source": [
    "### **shape**"
   ]
  },
  {
   "cell_type": "code",
   "execution_count": 112,
   "id": "6b41f9b3-f07a-44f8-9c79-5d62204ed0fb",
   "metadata": {},
   "outputs": [
    {
     "name": "stdout",
     "output_type": "stream",
     "text": [
      "(2, 3)\n",
      "(2, 3, 3)\n"
     ]
    }
   ],
   "source": [
    "print(a1.shape)\n",
    "print(a2.shape) # Tells us there are 2 ..3x3 matrices "
   ]
  },
  {
   "cell_type": "markdown",
   "id": "0612e1e2-70ee-4c84-83bd-a1acd989db1c",
   "metadata": {},
   "source": [
    "### size -> tells us about the number of elements"
   ]
  },
  {
   "cell_type": "code",
   "execution_count": 120,
   "id": "b7a41e4a-d511-4c52-b43f-82d64b04fe2b",
   "metadata": {},
   "outputs": [
    {
     "data": {
      "text/plain": [
       "6"
      ]
     },
     "execution_count": 120,
     "metadata": {},
     "output_type": "execute_result"
    },
    {
     "data": {
      "text/plain": [
       "18"
      ]
     },
     "execution_count": 120,
     "metadata": {},
     "output_type": "execute_result"
    }
   ],
   "source": [
    "# Tells us the number of items present in the array\n",
    "a1.size \n",
    "a2.size"
   ]
  },
  {
   "cell_type": "markdown",
   "id": "6cec4579-277b-4f49-8465-90710530c6dc",
   "metadata": {},
   "source": [
    "### itemsize\n"
   ]
  },
  {
   "cell_type": "markdown",
   "id": "4196f369-d186-4585-8f21-edd71b2dfe61",
   "metadata": {},
   "source": [
    "**int32 takes 4 bytes while int64 takes 8 bytes**"
   ]
  },
  {
   "cell_type": "code",
   "execution_count": 124,
   "id": "cfa5c2e0-8949-4db1-b609-b18627cdfcb2",
   "metadata": {},
   "outputs": [
    {
     "data": {
      "text/plain": [
       "4"
      ]
     },
     "execution_count": 124,
     "metadata": {},
     "output_type": "execute_result"
    },
    {
     "data": {
      "text/plain": [
       "8"
      ]
     },
     "execution_count": 124,
     "metadata": {},
     "output_type": "execute_result"
    }
   ],
   "source": [
    "a1.itemsize # int32 = 4\n",
    "a2.itemsize # float = 8"
   ]
  },
  {
   "cell_type": "code",
   "execution_count": 133,
   "id": "46034fc8-385d-4318-95b4-a19a5105a02f",
   "metadata": {},
   "outputs": [
    {
     "data": {
      "text/plain": [
       "4"
      ]
     },
     "execution_count": 133,
     "metadata": {},
     "output_type": "execute_result"
    },
    {
     "data": {
      "text/plain": [
       "8"
      ]
     },
     "execution_count": 133,
     "metadata": {},
     "output_type": "execute_result"
    },
    {
     "data": {
      "text/plain": [
       "8"
      ]
     },
     "execution_count": 133,
     "metadata": {},
     "output_type": "execute_result"
    }
   ],
   "source": [
    "array_one = np.array([1,3,4],dtype=np.int32)\n",
    "array_two = np.array([1,3,4],dtype=np.int64)\n",
    "array_three = np.array([1,3,4],dtype=float)\n",
    "\n",
    "array_one.itemsize\n",
    "array_two.itemsize\n",
    "array_three.itemsize\n"
   ]
  },
  {
   "cell_type": "markdown",
   "id": "95c11f85-4465-4408-809e-8c30d1ab0c17",
   "metadata": {},
   "source": [
    "# Changing Datatypes"
   ]
  },
  {
   "cell_type": "code",
   "execution_count": 194,
   "id": "0d0e1588-c544-4848-9ae9-9b05e865676d",
   "metadata": {},
   "outputs": [
    {
     "data": {
      "text/plain": [
       "dtype('int64')"
      ]
     },
     "execution_count": 194,
     "metadata": {},
     "output_type": "execute_result"
    }
   ],
   "source": [
    "array_four = np.array([1,2,3],dtype=np.int64)\n",
    "array_four.dtype"
   ]
  },
  {
   "cell_type": "markdown",
   "id": "e9db870f-0e45-4083-9cbb-43bf359646fa",
   "metadata": {},
   "source": [
    "**astype is used to change the datatype of already made arrays**\n",
    "* Note -> **`astype()`** method does not change the dtype of the original array in-place; instead, it returns a new array with the specified dtype"
   ]
  },
  {
   "cell_type": "code",
   "execution_count": 198,
   "id": "c2cb6c87-4aae-44f2-b259-10ec9392c8e0",
   "metadata": {},
   "outputs": [
    {
     "data": {
      "text/plain": [
       "dtype('int32')"
      ]
     },
     "execution_count": 198,
     "metadata": {},
     "output_type": "execute_result"
    }
   ],
   "source": [
    "array_four_new = array_four.astype(np.int32)\n",
    "array_four_new.dtype"
   ]
  },
  {
   "cell_type": "markdown",
   "id": "769268d0-1873-4072-a01d-add84dfed366",
   "metadata": {},
   "source": [
    "# Array Operations"
   ]
  },
  {
   "cell_type": "markdown",
   "id": "a00137d9-ae4d-4743-a8e3-fc011066a200",
   "metadata": {},
   "source": [
    "## Scalar Operations "
   ]
  },
  {
   "cell_type": "markdown",
   "id": "80f71356-706b-4b9e-98ae-00902df95038",
   "metadata": {},
   "source": [
    "**We can use all the mathematical operators here**"
   ]
  },
  {
   "cell_type": "code",
   "execution_count": 212,
   "id": "742bb00d-4e9b-4871-bb32-60d3e4e73af2",
   "metadata": {},
   "outputs": [
    {
     "data": {
      "text/plain": [
       "array([[1, 2, 3],\n",
       "       [4, 5, 6]])"
      ]
     },
     "execution_count": 212,
     "metadata": {},
     "output_type": "execute_result"
    },
    {
     "data": {
      "text/plain": [
       "array([[ 2,  4,  6],\n",
       "       [ 8, 10, 12]])"
      ]
     },
     "execution_count": 212,
     "metadata": {},
     "output_type": "execute_result"
    },
    {
     "data": {
      "text/plain": [
       "array([[ 1,  4,  9],\n",
       "       [16, 25, 36]])"
      ]
     },
     "execution_count": 212,
     "metadata": {},
     "output_type": "execute_result"
    },
    {
     "data": {
      "text/plain": [
       "array([[0.5, 1. , 1.5],\n",
       "       [2. , 2.5, 3. ]])"
      ]
     },
     "execution_count": 212,
     "metadata": {},
     "output_type": "execute_result"
    },
    {
     "data": {
      "text/plain": [
       "array([[False, False, False],\n",
       "       [False, False,  True]])"
      ]
     },
     "execution_count": 212,
     "metadata": {},
     "output_type": "execute_result"
    }
   ],
   "source": [
    "a1\n",
    "a1 *2\n",
    "a1**2\n",
    "a1/2\n",
    "a1>5"
   ]
  },
  {
   "cell_type": "markdown",
   "id": "16e3da58-29b9-497e-830a-3f506358513e",
   "metadata": {},
   "source": [
    "### Vector Operations \n"
   ]
  },
  {
   "cell_type": "code",
   "execution_count": 220,
   "id": "77dee115-fd54-4520-8c15-29ce15ed7ed1",
   "metadata": {},
   "outputs": [
    {
     "data": {
      "text/plain": [
       "array([5, 7, 9])"
      ]
     },
     "execution_count": 220,
     "metadata": {},
     "output_type": "execute_result"
    },
    {
     "data": {
      "text/plain": [
       "array([-3, -3, -3])"
      ]
     },
     "execution_count": 220,
     "metadata": {},
     "output_type": "execute_result"
    },
    {
     "data": {
      "text/plain": [
       "array([ 4, 10, 18])"
      ]
     },
     "execution_count": 220,
     "metadata": {},
     "output_type": "execute_result"
    }
   ],
   "source": [
    "first_arr = np.array([1,2,3])\n",
    "second_arr = np.array([4,5,6])\n",
    "first_arr + second_arr\n",
    "first_arr - second_arr\n",
    "first_arr * second_arr"
   ]
  },
  {
   "cell_type": "markdown",
   "id": "1cabf06a-25ce-4430-8b0d-0a8b7e22a3ea",
   "metadata": {},
   "source": [
    "### Some important operations "
   ]
  },
  {
   "cell_type": "code",
   "execution_count": 238,
   "id": "ee44a150-ba0b-4de4-970c-005db8bab03b",
   "metadata": {},
   "outputs": [
    {
     "data": {
      "text/plain": [
       "array([[ 3., 81., 71.],\n",
       "       [51., 73., 57.],\n",
       "       [69., 19., 51.]])"
      ]
     },
     "execution_count": 238,
     "metadata": {},
     "output_type": "execute_result"
    }
   ],
   "source": [
    "c1 = np.random.random((3,3))\n",
    "c1 = np.round(c1*100)\n",
    "c1"
   ]
  },
  {
   "cell_type": "markdown",
   "id": "6c35bc7d-b125-43fa-a627-c67524e02cb8",
   "metadata": {},
   "source": [
    "**`max` : finds the maximum element in the entire array or in a particular axis**"
   ]
  },
  {
   "cell_type": "code",
   "execution_count": 251,
   "id": "e64b72b7-0618-4ed6-bfc9-be551ce38d33",
   "metadata": {},
   "outputs": [
    {
     "data": {
      "text/plain": [
       "81.0"
      ]
     },
     "execution_count": 251,
     "metadata": {},
     "output_type": "execute_result"
    },
    {
     "data": {
      "text/plain": [
       "array([69., 81., 71.])"
      ]
     },
     "execution_count": 251,
     "metadata": {},
     "output_type": "execute_result"
    },
    {
     "data": {
      "text/plain": [
       "array([81., 73., 69.])"
      ]
     },
     "execution_count": 251,
     "metadata": {},
     "output_type": "execute_result"
    }
   ],
   "source": [
    "np.max(c1)\n",
    "np.max(c1,axis=0) # max from every coloumn\n",
    "np.max(c1,axis=1) # max from every row \n"
   ]
  },
  {
   "cell_type": "markdown",
   "id": "554cd451-2605-4b02-bd89-7a751ab9c158",
   "metadata": {},
   "source": [
    "**`min` : finds the minimum element in the entire array or in a particular axis**"
   ]
  },
  {
   "cell_type": "code",
   "execution_count": 243,
   "id": "4a7742b7-71b0-47e3-a55a-0f2cbc230159",
   "metadata": {},
   "outputs": [
    {
     "data": {
      "text/plain": [
       "3.0"
      ]
     },
     "execution_count": 243,
     "metadata": {},
     "output_type": "execute_result"
    }
   ],
   "source": [
    "np.min(c1)"
   ]
  },
  {
   "cell_type": "markdown",
   "id": "a68b9662-b944-49c3-85b4-b1d6126dd2a1",
   "metadata": {},
   "source": [
    "**`sum`: find the sum of the entire array or a particular axis**"
   ]
  },
  {
   "cell_type": "code",
   "execution_count": 253,
   "id": "e869e7ac-71b3-478f-90f9-d241bd853804",
   "metadata": {},
   "outputs": [
    {
     "data": {
      "text/plain": [
       "475.0"
      ]
     },
     "execution_count": 253,
     "metadata": {},
     "output_type": "execute_result"
    },
    {
     "data": {
      "text/plain": [
       "array([155., 181., 139.])"
      ]
     },
     "execution_count": 253,
     "metadata": {},
     "output_type": "execute_result"
    }
   ],
   "source": [
    "np.sum(c1)\n",
    "np.sum(c1,axis=1)\n"
   ]
  },
  {
   "cell_type": "markdown",
   "id": "0d6eee9b-d2b9-428a-8dd3-3c3c98e6df9b",
   "metadata": {},
   "source": [
    "**`prod` :finds the product of an array**"
   ]
  },
  {
   "cell_type": "code",
   "execution_count": 247,
   "id": "ffb83c8b-35bd-4942-8fdd-36ae14134e76",
   "metadata": {},
   "outputs": [
    {
     "data": {
      "text/plain": [
       "244796600243763.0"
      ]
     },
     "execution_count": 247,
     "metadata": {},
     "output_type": "execute_result"
    }
   ],
   "source": [
    "np.prod(c1)"
   ]
  },
  {
   "cell_type": "markdown",
   "id": "44d933a3-32ce-44cf-8a92-91d56aa4c484",
   "metadata": {},
   "source": [
    "**we can also find the mean of the entire array or along any axis**"
   ]
  },
  {
   "cell_type": "code",
   "execution_count": 257,
   "id": "1634a7dd-bcf3-4625-800f-94dfb0e8f812",
   "metadata": {},
   "outputs": [
    {
     "data": {
      "text/plain": [
       "52.77777777777778"
      ]
     },
     "execution_count": 257,
     "metadata": {},
     "output_type": "execute_result"
    },
    {
     "data": {
      "text/plain": [
       "array([41.        , 57.66666667, 59.66666667])"
      ]
     },
     "execution_count": 257,
     "metadata": {},
     "output_type": "execute_result"
    }
   ],
   "source": [
    "np.mean(c1)\n",
    "np.mean(c1,axis=0)"
   ]
  },
  {
   "cell_type": "code",
   "execution_count": 259,
   "id": "8637d033-c1aa-48ea-8e97-e78c776a5411",
   "metadata": {},
   "outputs": [
    {
     "data": {
      "text/plain": [
       "array([[ 0.14112001, -0.62988799,  0.95105465],\n",
       "       [ 0.67022918, -0.67677196,  0.43616476],\n",
       "       [-0.11478481,  0.14987721,  0.67022918]])"
      ]
     },
     "execution_count": 259,
     "metadata": {},
     "output_type": "execute_result"
    }
   ],
   "source": [
    "np.sin(c1) # trigonometric functions "
   ]
  },
  {
   "cell_type": "markdown",
   "id": "b8543796-e6b2-4551-97b8-41071a3f65a6",
   "metadata": {},
   "source": [
    "### Dot Product "
   ]
  },
  {
   "cell_type": "code",
   "execution_count": 276,
   "id": "a27ee9d1-2e48-45bd-9978-e31b4ea49960",
   "metadata": {},
   "outputs": [
    {
     "data": {
      "text/plain": [
       "32"
      ]
     },
     "execution_count": 276,
     "metadata": {},
     "output_type": "execute_result"
    }
   ],
   "source": [
    "a3 = np.array([1,2,3])\n",
    "a4 = np.array([4,5,6])\n",
    "a3.dot(a4)\n",
    "# 1*4 + 2*5 + 3*6 = 4 + 10 + 18 = 32"
   ]
  },
  {
   "cell_type": "code",
   "execution_count": 282,
   "id": "dad329ce-cacd-46f9-a4fb-cea6d2164757",
   "metadata": {},
   "outputs": [
    {
     "data": {
      "text/plain": [
       "array([[ 0,  1,  2,  3],\n",
       "       [ 4,  5,  6,  7],\n",
       "       [ 8,  9, 10, 11]])"
      ]
     },
     "execution_count": 282,
     "metadata": {},
     "output_type": "execute_result"
    },
    {
     "data": {
      "text/plain": [
       "array([[ 0,  1,  2],\n",
       "       [ 3,  4,  5],\n",
       "       [ 6,  7,  8],\n",
       "       [ 9, 10, 11]])"
      ]
     },
     "execution_count": 282,
     "metadata": {},
     "output_type": "execute_result"
    },
    {
     "data": {
      "text/plain": [
       "array([[ 42,  48,  54],\n",
       "       [114, 136, 158],\n",
       "       [186, 224, 262]])"
      ]
     },
     "execution_count": 282,
     "metadata": {},
     "output_type": "execute_result"
    }
   ],
   "source": [
    "# dot product \n",
    "a3_ = np.arange(12).reshape(3,4)\n",
    "a4_ = np.arange(12).reshape(4,3)\n",
    "a3_\n",
    "a4_\n",
    "a3_.dot(a4_)"
   ]
  },
  {
   "cell_type": "markdown",
   "id": "a93ba607-d09b-4904-abaf-fb83ea102af8",
   "metadata": {},
   "source": [
    "**log and exponents**"
   ]
  },
  {
   "cell_type": "code",
   "execution_count": 294,
   "id": "e87568b9-37a3-4edd-b62a-9f974f33d2ad",
   "metadata": {},
   "outputs": [
    {
     "data": {
      "text/plain": [
       "array([ 2.71828183,  7.3890561 , 20.08553692])"
      ]
     },
     "execution_count": 294,
     "metadata": {},
     "output_type": "execute_result"
    },
    {
     "data": {
      "text/plain": [
       "array([0.        , 0.69314718, 1.09861229])"
      ]
     },
     "execution_count": 294,
     "metadata": {},
     "output_type": "execute_result"
    }
   ],
   "source": [
    "np.exp(a3) # e^x\n",
    "np.log(a3) # ln(x)"
   ]
  },
  {
   "cell_type": "markdown",
   "id": "2bb1f896-1c7c-4c31-89a9-b27835347c56",
   "metadata": {},
   "source": [
    "**round/floor/ceil**"
   ]
  },
  {
   "cell_type": "markdown",
   "id": "f272f872-6d7a-49e8-aff8-ade3758c6ebc",
   "metadata": {},
   "source": [
    " `np.round()`:\n",
    "This function rounds each element of the array to the nearest integer. If the fractional part is 0.5 or greater, the value is rounded up; otherwise, it is rounded down."
   ]
  },
  {
   "cell_type": "code",
   "execution_count": 299,
   "id": "5d8b9460-5eb0-47ed-88e6-732cd492c7f3",
   "metadata": {},
   "outputs": [
    {
     "data": {
      "text/plain": [
       "array([2., 2., 2., 4.])"
      ]
     },
     "execution_count": 299,
     "metadata": {},
     "output_type": "execute_result"
    }
   ],
   "source": [
    "arr4 = np.array([1.5, 2.3, 2.5, 3.8])\n",
    "np.round(arr4) "
   ]
  },
  {
   "cell_type": "markdown",
   "id": "a178c24d-e090-49fb-8157-308f58d4c0c8",
   "metadata": {},
   "source": [
    " `np.ceil()`:\n",
    "This function rounds up each element to the nearest integer greater than or equal to the element (essentially truncating towards positive infinity).\n",
    "\n"
   ]
  },
  {
   "cell_type": "code",
   "execution_count": 301,
   "id": "f41f2a75-485d-4d7b-8a37-dce911e1be3a",
   "metadata": {},
   "outputs": [
    {
     "data": {
      "text/plain": [
       "array([ 2., -2.,  3.])"
      ]
     },
     "execution_count": 301,
     "metadata": {},
     "output_type": "execute_result"
    }
   ],
   "source": [
    "arr5 = np.array([1.2, -2.8, 2.3])\n",
    "np.ceil(arr5) \n"
   ]
  },
  {
   "cell_type": "markdown",
   "id": "86854e7c-15ba-4d77-813d-97952bc2194b",
   "metadata": {},
   "source": [
    " `np.floor()`:\n",
    "This function rounds down each element to the nearest integer less than or equal to the element (essentially truncating towards negative infinity)."
   ]
  },
  {
   "cell_type": "code",
   "execution_count": 303,
   "id": "3799e0d8-aacd-4a67-a69f-a03d8c5dbae7",
   "metadata": {},
   "outputs": [
    {
     "data": {
      "text/plain": [
       "array([ 1., -3.,  2.])"
      ]
     },
     "execution_count": 303,
     "metadata": {},
     "output_type": "execute_result"
    }
   ],
   "source": [
    "arr6 = np.array([1.7, -2.3, 2.9])\n",
    "np.floor(arr6)  # Output: array([ 1., -3.,  2.])\n"
   ]
  },
  {
   "cell_type": "markdown",
   "id": "c318bbd4-9132-4c7d-8e0d-bb27ab016628",
   "metadata": {},
   "source": [
    "# Indexing and Slicing \n"
   ]
  },
  {
   "cell_type": "markdown",
   "id": "05d32085-0b1d-47c8-8f15-c4ef4095f09f",
   "metadata": {},
   "source": [
    "**indexing**"
   ]
  },
  {
   "cell_type": "code",
   "execution_count": 309,
   "id": "f1ac68bb-7f29-419f-b0a1-084287d14c89",
   "metadata": {},
   "outputs": [
    {
     "data": {
      "text/plain": [
       "(array([0, 1, 2, 3, 4, 5, 6, 7, 8, 9]),\n",
       " array([[ 0,  1,  2,  3],\n",
       "        [ 4,  5,  6,  7],\n",
       "        [ 8,  9, 10, 11]]),\n",
       " array([[[0, 1],\n",
       "         [2, 3]],\n",
       " \n",
       "        [[4, 5],\n",
       "         [6, 7]]]))"
      ]
     },
     "execution_count": 309,
     "metadata": {},
     "output_type": "execute_result"
    }
   ],
   "source": [
    "v1 = np.arange(10)\n",
    "m1 = np.arange(12).reshape(3,4)\n",
    "t1 = np.arange(8).reshape(2,2,2)\n",
    "v1 , m1 , t1"
   ]
  },
  {
   "cell_type": "code",
   "execution_count": 316,
   "id": "5f6e20fa-31c0-4b39-9643-d6b5bfd8872d",
   "metadata": {},
   "outputs": [
    {
     "data": {
      "text/plain": [
       "11"
      ]
     },
     "execution_count": 316,
     "metadata": {},
     "output_type": "execute_result"
    }
   ],
   "source": [
    "m1[2,3] # 2nd row and 3rd coloumn"
   ]
  },
  {
   "cell_type": "code",
   "execution_count": 323,
   "id": "5b9e6e6c-5acc-4185-bcfc-31e9cbaf2132",
   "metadata": {},
   "outputs": [
    {
     "data": {
      "text/plain": [
       "array([[0, 1],\n",
       "       [2, 3]])"
      ]
     },
     "execution_count": 323,
     "metadata": {},
     "output_type": "execute_result"
    },
    {
     "data": {
      "text/plain": [
       "array([0, 1])"
      ]
     },
     "execution_count": 323,
     "metadata": {},
     "output_type": "execute_result"
    },
    {
     "data": {
      "text/plain": [
       "1"
      ]
     },
     "execution_count": 323,
     "metadata": {},
     "output_type": "execute_result"
    }
   ],
   "source": [
    "t1[0]\n",
    "t1[0,0]\n",
    "t1[0,0,1] # 0th matrix ..0 the row ... 1st coloumn"
   ]
  },
  {
   "cell_type": "markdown",
   "id": "77b28c9c-caa2-45c3-a4ec-7413eb16ef08",
   "metadata": {},
   "source": [
    "## Slicing "
   ]
  },
  {
   "cell_type": "markdown",
   "id": "0c5e1790-536d-4a00-9fed-be5a4f6b170b",
   "metadata": {},
   "source": [
    "`arr[start : end : step]`"
   ]
  },
  {
   "cell_type": "code",
   "execution_count": 332,
   "id": "5f35534f-be01-426a-b052-00a0550c00c5",
   "metadata": {},
   "outputs": [
    {
     "data": {
      "text/plain": [
       "array([0, 1, 2, 3, 4, 5, 6, 7, 8, 9])"
      ]
     },
     "execution_count": 332,
     "metadata": {},
     "output_type": "execute_result"
    },
    {
     "data": {
      "text/plain": [
       "array([2, 3, 4])"
      ]
     },
     "execution_count": 332,
     "metadata": {},
     "output_type": "execute_result"
    },
    {
     "data": {
      "text/plain": [
       "array([2, 4, 6, 8])"
      ]
     },
     "execution_count": 332,
     "metadata": {},
     "output_type": "execute_result"
    }
   ],
   "source": [
    "v1\n",
    "v1[2:5]\n",
    "v1[2::2]"
   ]
  },
  {
   "cell_type": "code",
   "execution_count": 352,
   "id": "fa2cb360-6149-4ca7-aa66-72872a037829",
   "metadata": {},
   "outputs": [
    {
     "data": {
      "text/plain": [
       "array([[ 0,  1,  2,  3],\n",
       "       [ 4,  5,  6,  7],\n",
       "       [ 8,  9, 10, 11]])"
      ]
     },
     "execution_count": 352,
     "metadata": {},
     "output_type": "execute_result"
    },
    {
     "data": {
      "text/plain": [
       "array([0, 1, 2, 3])"
      ]
     },
     "execution_count": 352,
     "metadata": {},
     "output_type": "execute_result"
    },
    {
     "data": {
      "text/plain": [
       "array([1, 2, 3])"
      ]
     },
     "execution_count": 352,
     "metadata": {},
     "output_type": "execute_result"
    },
    {
     "data": {
      "text/plain": [
       "array([[ 2],\n",
       "       [ 6],\n",
       "       [10]])"
      ]
     },
     "execution_count": 352,
     "metadata": {},
     "output_type": "execute_result"
    },
    {
     "data": {
      "text/plain": [
       "array([[ 6],\n",
       "       [10]])"
      ]
     },
     "execution_count": 352,
     "metadata": {},
     "output_type": "execute_result"
    },
    {
     "data": {
      "text/plain": [
       "array([[ 0,  3],\n",
       "       [ 8, 11]])"
      ]
     },
     "execution_count": 352,
     "metadata": {},
     "output_type": "execute_result"
    }
   ],
   "source": [
    "m1\n",
    "m1[0,:] # first row and all coloumns\n",
    "m1[0,1:] # first row and all coloumns from 1 to last \n",
    "m1[:,2:3] # all rows and 2 to 3-1 cols\n",
    "m1[1:,2:3]\n",
    "m1[::2,::3]"
   ]
  },
  {
   "cell_type": "code",
   "execution_count": 358,
   "id": "d5dfe4be-6afe-4102-8a13-54d44217f13c",
   "metadata": {},
   "outputs": [
    {
     "data": {
      "text/plain": [
       "array([[[ 0,  1,  2],\n",
       "        [ 3,  4,  5],\n",
       "        [ 6,  7,  8]],\n",
       "\n",
       "       [[ 9, 10, 11],\n",
       "        [12, 13, 14],\n",
       "        [15, 16, 17]],\n",
       "\n",
       "       [[18, 19, 20],\n",
       "        [21, 22, 23],\n",
       "        [24, 25, 26]]])"
      ]
     },
     "execution_count": 358,
     "metadata": {},
     "output_type": "execute_result"
    }
   ],
   "source": [
    "t2 = np.arange(27).reshape(3,3,3)\n",
    "t2"
   ]
  },
  {
   "cell_type": "code",
   "execution_count": 362,
   "id": "6b479780-27d5-44a4-b60a-ce479eebaaad",
   "metadata": {},
   "outputs": [
    {
     "data": {
      "text/plain": [
       "array([[ 9, 10, 11],\n",
       "       [12, 13, 14],\n",
       "       [15, 16, 17]])"
      ]
     },
     "execution_count": 362,
     "metadata": {},
     "output_type": "execute_result"
    },
    {
     "data": {
      "text/plain": [
       "array([[[ 0,  1,  2],\n",
       "        [ 3,  4,  5],\n",
       "        [ 6,  7,  8]],\n",
       "\n",
       "       [[18, 19, 20],\n",
       "        [21, 22, 23],\n",
       "        [24, 25, 26]]])"
      ]
     },
     "execution_count": 362,
     "metadata": {},
     "output_type": "execute_result"
    }
   ],
   "source": [
    "t2[1]\n",
    "t2[::2]"
   ]
  },
  {
   "cell_type": "code",
   "execution_count": null,
   "id": "275e3428-9705-4c7f-83f5-dc0465b5e5d8",
   "metadata": {},
   "outputs": [],
   "source": []
  }
 ],
 "metadata": {
  "kernelspec": {
   "display_name": "Python 3 (ipykernel)",
   "language": "python",
   "name": "python3"
  },
  "language_info": {
   "codemirror_mode": {
    "name": "ipython",
    "version": 3
   },
   "file_extension": ".py",
   "mimetype": "text/x-python",
   "name": "python",
   "nbconvert_exporter": "python",
   "pygments_lexer": "ipython3",
   "version": "3.12.4"
  }
 },
 "nbformat": 4,
 "nbformat_minor": 5
}
