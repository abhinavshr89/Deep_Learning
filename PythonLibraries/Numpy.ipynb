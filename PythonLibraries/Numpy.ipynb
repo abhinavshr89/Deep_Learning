{
 "cells": [
  {
   "cell_type": "code",
   "execution_count": 138,
   "id": "5a1b34f8-30f5-43a4-977f-655c37f45bdc",
   "metadata": {},
   "outputs": [],
   "source": [
    "import numpy as np "
   ]
  },
  {
   "cell_type": "markdown",
   "id": "2ed574e2-410d-40a3-9bab-f765b3b6713b",
   "metadata": {},
   "source": [
    "### Creating a array in numpy using a list "
   ]
  },
  {
   "cell_type": "code",
   "execution_count": 140,
   "id": "04b6801b-c850-41cf-a3da-03e495ffb0f9",
   "metadata": {},
   "outputs": [
    {
     "data": {
      "text/plain": [
       "array([1, 2, 3])"
      ]
     },
     "execution_count": 140,
     "metadata": {},
     "output_type": "execute_result"
    }
   ],
   "source": [
    "arr = np.array([1,2,3])\n",
    "arr"
   ]
  },
  {
   "cell_type": "code",
   "execution_count": 141,
   "id": "d23262d4-d0fa-4208-9063-a33e36940a0e",
   "metadata": {},
   "outputs": [
    {
     "data": {
      "text/plain": [
       "numpy.ndarray"
      ]
     },
     "execution_count": 141,
     "metadata": {},
     "output_type": "execute_result"
    }
   ],
   "source": [
    "type(arr)"
   ]
  },
  {
   "cell_type": "markdown",
   "id": "02713073-447d-4939-b978-746fb1b0e24a",
   "metadata": {},
   "source": [
    "### Creating specific types of arrays in numpy "
   ]
  },
  {
   "cell_type": "code",
   "execution_count": 143,
   "id": "264b0f2b-cca3-423d-a9d6-1a4df8a3865f",
   "metadata": {},
   "outputs": [
    {
     "data": {
      "text/plain": [
       "array([1.4, 2.4, 3.2])"
      ]
     },
     "execution_count": 143,
     "metadata": {},
     "output_type": "execute_result"
    }
   ],
   "source": [
    "arr_float = np.array([1.4,2.4,3.2],dtype=float)\n",
    "arr_float"
   ]
  },
  {
   "cell_type": "code",
   "execution_count": 144,
   "id": "7751c899-040e-4d86-81c4-cf8df3adf4d4",
   "metadata": {},
   "outputs": [
    {
     "data": {
      "text/plain": [
       "array([ True,  True,  True, False])"
      ]
     },
     "execution_count": 144,
     "metadata": {},
     "output_type": "execute_result"
    }
   ],
   "source": [
    "arr_bool = np.array([1,3,4,0],dtype=bool)\n",
    "arr_bool"
   ]
  },
  {
   "cell_type": "markdown",
   "id": "97c7a6eb-34cf-4139-9329-9a50fa588012",
   "metadata": {},
   "source": [
    "* **we can give the data type by giving dtype attribute while creating the arrays**  "
   ]
  },
  {
   "cell_type": "markdown",
   "id": "283fb280-2671-4f31-98a6-bbcefe14db95",
   "metadata": {},
   "source": [
    "## 2D Arrays\n",
    "* **We can call them matrix**"
   ]
  },
  {
   "cell_type": "code",
   "execution_count": 147,
   "id": "906b5aea-b2ee-48fd-b1d5-aa93ac70b7a3",
   "metadata": {},
   "outputs": [
    {
     "data": {
      "text/plain": [
       "array([[1, 2, 3],\n",
       "       [1, 2, 3]])"
      ]
     },
     "execution_count": 147,
     "metadata": {},
     "output_type": "execute_result"
    }
   ],
   "source": [
    "two_dim_array = np.array([[1,2,3],[1,2,3]])\n",
    "two_dim_array"
   ]
  },
  {
   "cell_type": "markdown",
   "id": "9b68a6fe-0457-4cc4-a565-67ec59f03073",
   "metadata": {},
   "source": [
    "# Different ways to initialize arrays in numpy"
   ]
  },
  {
   "cell_type": "markdown",
   "id": "b9039216-26bc-41a2-ac0c-69e138e56a43",
   "metadata": {},
   "source": [
    "### Use of arange and reshape "
   ]
  },
  {
   "cell_type": "code",
   "execution_count": 150,
   "id": "9c7a0337-e48e-4f7f-9686-9a69fe77efee",
   "metadata": {},
   "outputs": [
    {
     "data": {
      "text/plain": [
       "array([ 1,  2,  3,  4,  5,  6,  7,  8,  9, 10])"
      ]
     },
     "execution_count": 150,
     "metadata": {},
     "output_type": "execute_result"
    }
   ],
   "source": [
    "np.arange(1,11)"
   ]
  },
  {
   "cell_type": "code",
   "execution_count": 151,
   "id": "fd905604-f8e2-447f-8e2c-9f9c9d8a52db",
   "metadata": {},
   "outputs": [
    {
     "data": {
      "text/plain": [
       "array([[ 1,  2],\n",
       "       [ 3,  4],\n",
       "       [ 5,  6],\n",
       "       [ 7,  8],\n",
       "       [ 9, 10]])"
      ]
     },
     "execution_count": 151,
     "metadata": {},
     "output_type": "execute_result"
    }
   ],
   "source": [
    "np.arange(1,11).reshape(5,2)\n",
    "# Here we got a 2D matrix with 5 rows and 2 coloumns "
   ]
  },
  {
   "cell_type": "markdown",
   "id": "f97052ee-603b-4702-8d19-17fdfd08341d",
   "metadata": {},
   "source": [
    "### np.ones"
   ]
  },
  {
   "cell_type": "code",
   "execution_count": 153,
   "id": "b1711a7a-e283-4d4a-9751-24d8cfbb1c41",
   "metadata": {},
   "outputs": [
    {
     "name": "stdout",
     "output_type": "stream",
     "text": [
      "[[1 1 1 1]\n",
      " [1 1 1 1]\n",
      " [1 1 1 1]]\n",
      "[[1. 1. 1. 1.]\n",
      " [1. 1. 1. 1.]\n",
      " [1. 1. 1. 1.]]\n"
     ]
    }
   ],
   "source": [
    "arrOne =np.ones((3,4),dtype=int)\n",
    "arrTwo =np.ones((3,4)) # This will contain float values \n",
    "print(arrOne)\n",
    "print(arrTwo)"
   ]
  },
  {
   "cell_type": "markdown",
   "id": "cb8d2519-6c69-4bbb-b52e-649a368d98ae",
   "metadata": {},
   "source": [
    "### np.zeros"
   ]
  },
  {
   "cell_type": "code",
   "execution_count": 155,
   "id": "9ba54305-ffed-4da3-846a-5b6a25b6abf9",
   "metadata": {},
   "outputs": [
    {
     "data": {
      "text/plain": [
       "array([[0, 0, 0],\n",
       "       [0, 0, 0],\n",
       "       [0, 0, 0]])"
      ]
     },
     "execution_count": 155,
     "metadata": {},
     "output_type": "execute_result"
    }
   ],
   "source": [
    "np.zeros((3,3),dtype=int)"
   ]
  },
  {
   "cell_type": "markdown",
   "id": "b4af384d-24a5-46a7-9c4a-d7d578d3e457",
   "metadata": {},
   "source": [
    "### np.random"
   ]
  },
  {
   "cell_type": "code",
   "execution_count": 157,
   "id": "c7daa001-9bad-45c0-83f3-cc8502cee1b7",
   "metadata": {},
   "outputs": [
    {
     "data": {
      "text/plain": [
       "array([[0.39539499, 0.80544025, 0.58672007],\n",
       "       [0.92893221, 0.86328225, 0.84985456],\n",
       "       [0.51766924, 0.97273083, 0.1480494 ]])"
      ]
     },
     "execution_count": 157,
     "metadata": {},
     "output_type": "execute_result"
    }
   ],
   "source": [
    "np.random.random((3,3))"
   ]
  },
  {
   "cell_type": "markdown",
   "id": "86c65469-b437-44e5-92ff-d542ce1b7f4d",
   "metadata": {},
   "source": [
    "### np.linspace"
   ]
  },
  {
   "cell_type": "code",
   "execution_count": 159,
   "id": "a741532a-0516-4895-998a-4dc463e08ab0",
   "metadata": {},
   "outputs": [
    {
     "data": {
      "text/plain": [
       "array([-10,  -8,  -6,  -4,  -2,   1,   3,   5,   7,  10])"
      ]
     },
     "execution_count": 159,
     "metadata": {},
     "output_type": "execute_result"
    }
   ],
   "source": [
    "np.linspace(-10,10,10,dtype=int)\n",
    "# (start, end , number of points)"
   ]
  },
  {
   "cell_type": "markdown",
   "id": "b7604022-0d59-489e-8bb0-326d5e1cb42f",
   "metadata": {},
   "source": [
    "### np.identity"
   ]
  },
  {
   "cell_type": "code",
   "execution_count": 161,
   "id": "b49b8651-7f14-4c95-b915-200949a364d9",
   "metadata": {},
   "outputs": [
    {
     "data": {
      "text/plain": [
       "array([[1, 0, 0],\n",
       "       [0, 1, 0],\n",
       "       [0, 0, 1]])"
      ]
     },
     "execution_count": 161,
     "metadata": {},
     "output_type": "execute_result"
    }
   ],
   "source": [
    "np.identity(3,dtype=int)"
   ]
  },
  {
   "cell_type": "markdown",
   "id": "7b089f92-348d-43ba-9570-223954495357",
   "metadata": {},
   "source": [
    "# Some important numpy attributes "
   ]
  },
  {
   "cell_type": "code",
   "execution_count": 163,
   "id": "f58992e6-95c0-4a9f-bb7a-88b0947ced2f",
   "metadata": {},
   "outputs": [
    {
     "name": "stdout",
     "output_type": "stream",
     "text": [
      "[[1 2 3]\n",
      " [4 5 6]]\n",
      "[[[1. 1. 1.]\n",
      "  [1. 1. 1.]\n",
      "  [1. 1. 1.]]\n",
      "\n",
      " [[1. 1. 1.]\n",
      "  [1. 1. 1.]\n",
      "  [1. 1. 1.]]]\n"
     ]
    }
   ],
   "source": [
    "a1 =np.array([[1,2,3],[4,5,6]])\n",
    "a2 =np.ones((2,3,3))\n",
    "\n",
    "print(a1)\n",
    "print(a2)"
   ]
  },
  {
   "cell_type": "markdown",
   "id": "8f260afb-2106-4046-82de-a1e7332d6638",
   "metadata": {},
   "source": [
    "### ndim : It tells us about the number of dimensions"
   ]
  },
  {
   "cell_type": "code",
   "execution_count": 165,
   "id": "6ce62cf1-c34b-4c6c-ada7-e2a3141853c4",
   "metadata": {},
   "outputs": [
    {
     "name": "stdout",
     "output_type": "stream",
     "text": [
      "2\n",
      "3\n"
     ]
    }
   ],
   "source": [
    "print(a1.ndim) \n",
    "print(a2.ndim)"
   ]
  },
  {
   "cell_type": "markdown",
   "id": "a83139da-4cca-45bf-93c7-6ddd54d22fce",
   "metadata": {},
   "source": [
    "### **shape**"
   ]
  },
  {
   "cell_type": "code",
   "execution_count": 167,
   "id": "6b41f9b3-f07a-44f8-9c79-5d62204ed0fb",
   "metadata": {},
   "outputs": [
    {
     "name": "stdout",
     "output_type": "stream",
     "text": [
      "(2, 3)\n",
      "(2, 3, 3)\n"
     ]
    }
   ],
   "source": [
    "print(a1.shape)\n",
    "print(a2.shape) # Tells us there are 2 ..3x3 matrices "
   ]
  },
  {
   "cell_type": "markdown",
   "id": "0612e1e2-70ee-4c84-83bd-a1acd989db1c",
   "metadata": {},
   "source": [
    "### size -> tells us about the number of elements"
   ]
  },
  {
   "cell_type": "code",
   "execution_count": 169,
   "id": "b7a41e4a-d511-4c52-b43f-82d64b04fe2b",
   "metadata": {},
   "outputs": [
    {
     "data": {
      "text/plain": [
       "6"
      ]
     },
     "execution_count": 169,
     "metadata": {},
     "output_type": "execute_result"
    },
    {
     "data": {
      "text/plain": [
       "18"
      ]
     },
     "execution_count": 169,
     "metadata": {},
     "output_type": "execute_result"
    }
   ],
   "source": [
    "# Tells us the number of items present in the array\n",
    "a1.size \n",
    "a2.size"
   ]
  },
  {
   "cell_type": "markdown",
   "id": "6cec4579-277b-4f49-8465-90710530c6dc",
   "metadata": {},
   "source": [
    "### itemsize\n"
   ]
  },
  {
   "cell_type": "markdown",
   "id": "4196f369-d186-4585-8f21-edd71b2dfe61",
   "metadata": {},
   "source": [
    "**int32 takes 4 bytes while int64 takes 8 bytes**"
   ]
  },
  {
   "cell_type": "code",
   "execution_count": 172,
   "id": "cfa5c2e0-8949-4db1-b609-b18627cdfcb2",
   "metadata": {},
   "outputs": [
    {
     "data": {
      "text/plain": [
       "4"
      ]
     },
     "execution_count": 172,
     "metadata": {},
     "output_type": "execute_result"
    },
    {
     "data": {
      "text/plain": [
       "8"
      ]
     },
     "execution_count": 172,
     "metadata": {},
     "output_type": "execute_result"
    }
   ],
   "source": [
    "a1.itemsize # int32 = 4\n",
    "a2.itemsize # float = 8"
   ]
  },
  {
   "cell_type": "code",
   "execution_count": 173,
   "id": "46034fc8-385d-4318-95b4-a19a5105a02f",
   "metadata": {},
   "outputs": [
    {
     "data": {
      "text/plain": [
       "4"
      ]
     },
     "execution_count": 173,
     "metadata": {},
     "output_type": "execute_result"
    },
    {
     "data": {
      "text/plain": [
       "8"
      ]
     },
     "execution_count": 173,
     "metadata": {},
     "output_type": "execute_result"
    },
    {
     "data": {
      "text/plain": [
       "8"
      ]
     },
     "execution_count": 173,
     "metadata": {},
     "output_type": "execute_result"
    }
   ],
   "source": [
    "array_one = np.array([1,3,4],dtype=np.int32)\n",
    "array_two = np.array([1,3,4],dtype=np.int64)\n",
    "array_three = np.array([1,3,4],dtype=float)\n",
    "\n",
    "array_one.itemsize\n",
    "array_two.itemsize\n",
    "array_three.itemsize\n"
   ]
  },
  {
   "cell_type": "markdown",
   "id": "95c11f85-4465-4408-809e-8c30d1ab0c17",
   "metadata": {},
   "source": [
    "# Changing Datatypes"
   ]
  },
  {
   "cell_type": "code",
   "execution_count": 175,
   "id": "0d0e1588-c544-4848-9ae9-9b05e865676d",
   "metadata": {},
   "outputs": [
    {
     "data": {
      "text/plain": [
       "dtype('int64')"
      ]
     },
     "execution_count": 175,
     "metadata": {},
     "output_type": "execute_result"
    }
   ],
   "source": [
    "array_four = np.array([1,2,3],dtype=np.int64)\n",
    "array_four.dtype"
   ]
  },
  {
   "cell_type": "markdown",
   "id": "e9db870f-0e45-4083-9cbb-43bf359646fa",
   "metadata": {},
   "source": [
    "**astype is used to change the datatype of already made arrays**\n",
    "* Note -> **`astype()`** method does not change the dtype of the original array in-place; instead, it returns a new array with the specified dtype"
   ]
  },
  {
   "cell_type": "code",
   "execution_count": 177,
   "id": "c2cb6c87-4aae-44f2-b259-10ec9392c8e0",
   "metadata": {},
   "outputs": [
    {
     "data": {
      "text/plain": [
       "dtype('int32')"
      ]
     },
     "execution_count": 177,
     "metadata": {},
     "output_type": "execute_result"
    }
   ],
   "source": [
    "array_four_new = array_four.astype(np.int32)\n",
    "array_four_new.dtype"
   ]
  },
  {
   "cell_type": "markdown",
   "id": "769268d0-1873-4072-a01d-add84dfed366",
   "metadata": {},
   "source": [
    "# Array Operations"
   ]
  },
  {
   "cell_type": "markdown",
   "id": "a00137d9-ae4d-4743-a8e3-fc011066a200",
   "metadata": {},
   "source": [
    "## Scalar Operations "
   ]
  },
  {
   "cell_type": "markdown",
   "id": "80f71356-706b-4b9e-98ae-00902df95038",
   "metadata": {},
   "source": [
    "**We can use all the mathematical operators here**"
   ]
  },
  {
   "cell_type": "code",
   "execution_count": 181,
   "id": "742bb00d-4e9b-4871-bb32-60d3e4e73af2",
   "metadata": {},
   "outputs": [
    {
     "data": {
      "text/plain": [
       "array([[1, 2, 3],\n",
       "       [4, 5, 6]])"
      ]
     },
     "execution_count": 181,
     "metadata": {},
     "output_type": "execute_result"
    },
    {
     "data": {
      "text/plain": [
       "array([[ 2,  4,  6],\n",
       "       [ 8, 10, 12]])"
      ]
     },
     "execution_count": 181,
     "metadata": {},
     "output_type": "execute_result"
    },
    {
     "data": {
      "text/plain": [
       "array([[ 1,  4,  9],\n",
       "       [16, 25, 36]])"
      ]
     },
     "execution_count": 181,
     "metadata": {},
     "output_type": "execute_result"
    },
    {
     "data": {
      "text/plain": [
       "array([[0.5, 1. , 1.5],\n",
       "       [2. , 2.5, 3. ]])"
      ]
     },
     "execution_count": 181,
     "metadata": {},
     "output_type": "execute_result"
    },
    {
     "data": {
      "text/plain": [
       "array([[False, False, False],\n",
       "       [False, False,  True]])"
      ]
     },
     "execution_count": 181,
     "metadata": {},
     "output_type": "execute_result"
    }
   ],
   "source": [
    "a1\n",
    "a1 *2\n",
    "a1**2\n",
    "a1/2\n",
    "a1>5"
   ]
  },
  {
   "cell_type": "markdown",
   "id": "16e3da58-29b9-497e-830a-3f506358513e",
   "metadata": {},
   "source": [
    "### Vector Operations \n"
   ]
  },
  {
   "cell_type": "code",
   "execution_count": 183,
   "id": "77dee115-fd54-4520-8c15-29ce15ed7ed1",
   "metadata": {},
   "outputs": [
    {
     "data": {
      "text/plain": [
       "array([5, 7, 9])"
      ]
     },
     "execution_count": 183,
     "metadata": {},
     "output_type": "execute_result"
    },
    {
     "data": {
      "text/plain": [
       "array([-3, -3, -3])"
      ]
     },
     "execution_count": 183,
     "metadata": {},
     "output_type": "execute_result"
    },
    {
     "data": {
      "text/plain": [
       "array([ 4, 10, 18])"
      ]
     },
     "execution_count": 183,
     "metadata": {},
     "output_type": "execute_result"
    }
   ],
   "source": [
    "first_arr = np.array([1,2,3])\n",
    "second_arr = np.array([4,5,6])\n",
    "first_arr + second_arr\n",
    "first_arr - second_arr\n",
    "first_arr * second_arr"
   ]
  },
  {
   "cell_type": "markdown",
   "id": "1cabf06a-25ce-4430-8b0d-0a8b7e22a3ea",
   "metadata": {},
   "source": [
    "### Some important operations "
   ]
  },
  {
   "cell_type": "code",
   "execution_count": 185,
   "id": "ee44a150-ba0b-4de4-970c-005db8bab03b",
   "metadata": {},
   "outputs": [
    {
     "data": {
      "text/plain": [
       "array([[ 3., 81., 23.],\n",
       "       [74., 47., 57.],\n",
       "       [25.,  0., 92.]])"
      ]
     },
     "execution_count": 185,
     "metadata": {},
     "output_type": "execute_result"
    }
   ],
   "source": [
    "c1 = np.random.random((3,3))\n",
    "c1 = np.round(c1*100)\n",
    "c1"
   ]
  },
  {
   "cell_type": "markdown",
   "id": "6c35bc7d-b125-43fa-a627-c67524e02cb8",
   "metadata": {},
   "source": [
    "**`max` : finds the maximum element in the entire array or in a particular axis**"
   ]
  },
  {
   "cell_type": "code",
   "execution_count": 187,
   "id": "e64b72b7-0618-4ed6-bfc9-be551ce38d33",
   "metadata": {},
   "outputs": [
    {
     "data": {
      "text/plain": [
       "92.0"
      ]
     },
     "execution_count": 187,
     "metadata": {},
     "output_type": "execute_result"
    },
    {
     "data": {
      "text/plain": [
       "array([74., 81., 92.])"
      ]
     },
     "execution_count": 187,
     "metadata": {},
     "output_type": "execute_result"
    },
    {
     "data": {
      "text/plain": [
       "array([81., 74., 92.])"
      ]
     },
     "execution_count": 187,
     "metadata": {},
     "output_type": "execute_result"
    }
   ],
   "source": [
    "np.max(c1)\n",
    "np.max(c1,axis=0) # max from every coloumn\n",
    "np.max(c1,axis=1) # max from every row \n"
   ]
  },
  {
   "cell_type": "markdown",
   "id": "554cd451-2605-4b02-bd89-7a751ab9c158",
   "metadata": {},
   "source": [
    "**`min` : finds the minimum element in the entire array or in a particular axis**"
   ]
  },
  {
   "cell_type": "code",
   "execution_count": 189,
   "id": "4a7742b7-71b0-47e3-a55a-0f2cbc230159",
   "metadata": {},
   "outputs": [
    {
     "data": {
      "text/plain": [
       "0.0"
      ]
     },
     "execution_count": 189,
     "metadata": {},
     "output_type": "execute_result"
    }
   ],
   "source": [
    "np.min(c1)"
   ]
  },
  {
   "cell_type": "markdown",
   "id": "a68b9662-b944-49c3-85b4-b1d6126dd2a1",
   "metadata": {},
   "source": [
    "**`sum`: find the sum of the entire array or a particular axis**"
   ]
  },
  {
   "cell_type": "code",
   "execution_count": 191,
   "id": "e869e7ac-71b3-478f-90f9-d241bd853804",
   "metadata": {},
   "outputs": [
    {
     "data": {
      "text/plain": [
       "402.0"
      ]
     },
     "execution_count": 191,
     "metadata": {},
     "output_type": "execute_result"
    },
    {
     "data": {
      "text/plain": [
       "array([107., 178., 117.])"
      ]
     },
     "execution_count": 191,
     "metadata": {},
     "output_type": "execute_result"
    }
   ],
   "source": [
    "np.sum(c1)\n",
    "np.sum(c1,axis=1)\n"
   ]
  },
  {
   "cell_type": "markdown",
   "id": "0d6eee9b-d2b9-428a-8dd3-3c3c98e6df9b",
   "metadata": {},
   "source": [
    "**`prod` :finds the product of an array**"
   ]
  },
  {
   "cell_type": "code",
   "execution_count": 193,
   "id": "ffb83c8b-35bd-4942-8fdd-36ae14134e76",
   "metadata": {},
   "outputs": [
    {
     "data": {
      "text/plain": [
       "0.0"
      ]
     },
     "execution_count": 193,
     "metadata": {},
     "output_type": "execute_result"
    }
   ],
   "source": [
    "np.prod(c1)"
   ]
  },
  {
   "cell_type": "markdown",
   "id": "44d933a3-32ce-44cf-8a92-91d56aa4c484",
   "metadata": {},
   "source": [
    "**we can also find the mean of the entire array or along any axis**"
   ]
  },
  {
   "cell_type": "code",
   "execution_count": 195,
   "id": "1634a7dd-bcf3-4625-800f-94dfb0e8f812",
   "metadata": {},
   "outputs": [
    {
     "data": {
      "text/plain": [
       "44.666666666666664"
      ]
     },
     "execution_count": 195,
     "metadata": {},
     "output_type": "execute_result"
    },
    {
     "data": {
      "text/plain": [
       "array([34.        , 42.66666667, 57.33333333])"
      ]
     },
     "execution_count": 195,
     "metadata": {},
     "output_type": "execute_result"
    }
   ],
   "source": [
    "np.mean(c1)\n",
    "np.mean(c1,axis=0)"
   ]
  },
  {
   "cell_type": "code",
   "execution_count": 196,
   "id": "8637d033-c1aa-48ea-8e97-e78c776a5411",
   "metadata": {},
   "outputs": [
    {
     "data": {
      "text/plain": [
       "array([[ 0.14112001, -0.62988799, -0.8462204 ],\n",
       "       [-0.98514626,  0.12357312,  0.43616476],\n",
       "       [-0.13235175,  0.        , -0.77946607]])"
      ]
     },
     "execution_count": 196,
     "metadata": {},
     "output_type": "execute_result"
    }
   ],
   "source": [
    "np.sin(c1) # trigonometric functions "
   ]
  },
  {
   "cell_type": "markdown",
   "id": "b8543796-e6b2-4551-97b8-41071a3f65a6",
   "metadata": {},
   "source": [
    "### Dot Product "
   ]
  },
  {
   "cell_type": "code",
   "execution_count": 198,
   "id": "a27ee9d1-2e48-45bd-9978-e31b4ea49960",
   "metadata": {},
   "outputs": [
    {
     "data": {
      "text/plain": [
       "32"
      ]
     },
     "execution_count": 198,
     "metadata": {},
     "output_type": "execute_result"
    }
   ],
   "source": [
    "a3 = np.array([1,2,3])\n",
    "a4 = np.array([4,5,6])\n",
    "a3.dot(a4)\n",
    "# 1*4 + 2*5 + 3*6 = 4 + 10 + 18 = 32"
   ]
  },
  {
   "cell_type": "code",
   "execution_count": 199,
   "id": "dad329ce-cacd-46f9-a4fb-cea6d2164757",
   "metadata": {},
   "outputs": [
    {
     "data": {
      "text/plain": [
       "array([[ 0,  1,  2,  3],\n",
       "       [ 4,  5,  6,  7],\n",
       "       [ 8,  9, 10, 11]])"
      ]
     },
     "execution_count": 199,
     "metadata": {},
     "output_type": "execute_result"
    },
    {
     "data": {
      "text/plain": [
       "array([[ 0,  1,  2],\n",
       "       [ 3,  4,  5],\n",
       "       [ 6,  7,  8],\n",
       "       [ 9, 10, 11]])"
      ]
     },
     "execution_count": 199,
     "metadata": {},
     "output_type": "execute_result"
    },
    {
     "data": {
      "text/plain": [
       "array([[ 42,  48,  54],\n",
       "       [114, 136, 158],\n",
       "       [186, 224, 262]])"
      ]
     },
     "execution_count": 199,
     "metadata": {},
     "output_type": "execute_result"
    }
   ],
   "source": [
    "# dot product \n",
    "a3_ = np.arange(12).reshape(3,4)\n",
    "a4_ = np.arange(12).reshape(4,3)\n",
    "a3_\n",
    "a4_\n",
    "a3_.dot(a4_)"
   ]
  },
  {
   "cell_type": "markdown",
   "id": "a93ba607-d09b-4904-abaf-fb83ea102af8",
   "metadata": {},
   "source": [
    "**log and exponents**"
   ]
  },
  {
   "cell_type": "code",
   "execution_count": 201,
   "id": "e87568b9-37a3-4edd-b62a-9f974f33d2ad",
   "metadata": {},
   "outputs": [
    {
     "data": {
      "text/plain": [
       "array([ 2.71828183,  7.3890561 , 20.08553692])"
      ]
     },
     "execution_count": 201,
     "metadata": {},
     "output_type": "execute_result"
    },
    {
     "data": {
      "text/plain": [
       "array([0.        , 0.69314718, 1.09861229])"
      ]
     },
     "execution_count": 201,
     "metadata": {},
     "output_type": "execute_result"
    }
   ],
   "source": [
    "np.exp(a3) # e^x\n",
    "np.log(a3) # ln(x)"
   ]
  },
  {
   "cell_type": "markdown",
   "id": "2bb1f896-1c7c-4c31-89a9-b27835347c56",
   "metadata": {},
   "source": [
    "**round/floor/ceil**"
   ]
  },
  {
   "cell_type": "markdown",
   "id": "f272f872-6d7a-49e8-aff8-ade3758c6ebc",
   "metadata": {},
   "source": [
    " `np.round()`:\n",
    "This function rounds each element of the array to the nearest integer. If the fractional part is 0.5 or greater, the value is rounded up; otherwise, it is rounded down."
   ]
  },
  {
   "cell_type": "code",
   "execution_count": 204,
   "id": "5d8b9460-5eb0-47ed-88e6-732cd492c7f3",
   "metadata": {},
   "outputs": [
    {
     "data": {
      "text/plain": [
       "array([2., 2., 2., 4.])"
      ]
     },
     "execution_count": 204,
     "metadata": {},
     "output_type": "execute_result"
    }
   ],
   "source": [
    "arr4 = np.array([1.5, 2.3, 2.5, 3.8])\n",
    "np.round(arr4) "
   ]
  },
  {
   "cell_type": "markdown",
   "id": "a178c24d-e090-49fb-8157-308f58d4c0c8",
   "metadata": {},
   "source": [
    " `np.ceil()`:\n",
    "This function rounds up each element to the nearest integer greater than or equal to the element (essentially truncating towards positive infinity).\n",
    "\n"
   ]
  },
  {
   "cell_type": "code",
   "execution_count": 206,
   "id": "f41f2a75-485d-4d7b-8a37-dce911e1be3a",
   "metadata": {},
   "outputs": [
    {
     "data": {
      "text/plain": [
       "array([ 2., -2.,  3.])"
      ]
     },
     "execution_count": 206,
     "metadata": {},
     "output_type": "execute_result"
    }
   ],
   "source": [
    "arr5 = np.array([1.2, -2.8, 2.3])\n",
    "np.ceil(arr5) \n"
   ]
  },
  {
   "cell_type": "markdown",
   "id": "86854e7c-15ba-4d77-813d-97952bc2194b",
   "metadata": {},
   "source": [
    " `np.floor()`:\n",
    "This function rounds down each element to the nearest integer less than or equal to the element (essentially truncating towards negative infinity)."
   ]
  },
  {
   "cell_type": "code",
   "execution_count": 208,
   "id": "3799e0d8-aacd-4a67-a69f-a03d8c5dbae7",
   "metadata": {},
   "outputs": [
    {
     "data": {
      "text/plain": [
       "array([ 1., -3.,  2.])"
      ]
     },
     "execution_count": 208,
     "metadata": {},
     "output_type": "execute_result"
    }
   ],
   "source": [
    "arr6 = np.array([1.7, -2.3, 2.9])\n",
    "np.floor(arr6)  # Output: array([ 1., -3.,  2.])\n"
   ]
  },
  {
   "cell_type": "markdown",
   "id": "c318bbd4-9132-4c7d-8e0d-bb27ab016628",
   "metadata": {},
   "source": [
    "# Indexing and Slicing \n"
   ]
  },
  {
   "cell_type": "markdown",
   "id": "05d32085-0b1d-47c8-8f15-c4ef4095f09f",
   "metadata": {},
   "source": [
    "**indexing**"
   ]
  },
  {
   "cell_type": "code",
   "execution_count": 211,
   "id": "f1ac68bb-7f29-419f-b0a1-084287d14c89",
   "metadata": {},
   "outputs": [
    {
     "data": {
      "text/plain": [
       "(array([0, 1, 2, 3, 4, 5, 6, 7, 8, 9]),\n",
       " array([[ 0,  1,  2,  3],\n",
       "        [ 4,  5,  6,  7],\n",
       "        [ 8,  9, 10, 11]]),\n",
       " array([[[0, 1],\n",
       "         [2, 3]],\n",
       " \n",
       "        [[4, 5],\n",
       "         [6, 7]]]))"
      ]
     },
     "execution_count": 211,
     "metadata": {},
     "output_type": "execute_result"
    }
   ],
   "source": [
    "v1 = np.arange(10)\n",
    "m1 = np.arange(12).reshape(3,4)\n",
    "t1 = np.arange(8).reshape(2,2,2)\n",
    "v1 , m1 , t1"
   ]
  },
  {
   "cell_type": "code",
   "execution_count": 212,
   "id": "5f6e20fa-31c0-4b39-9643-d6b5bfd8872d",
   "metadata": {},
   "outputs": [
    {
     "data": {
      "text/plain": [
       "11"
      ]
     },
     "execution_count": 212,
     "metadata": {},
     "output_type": "execute_result"
    }
   ],
   "source": [
    "m1[2,3] # 2nd row and 3rd coloumn"
   ]
  },
  {
   "cell_type": "code",
   "execution_count": 213,
   "id": "5b9e6e6c-5acc-4185-bcfc-31e9cbaf2132",
   "metadata": {},
   "outputs": [
    {
     "data": {
      "text/plain": [
       "array([[0, 1],\n",
       "       [2, 3]])"
      ]
     },
     "execution_count": 213,
     "metadata": {},
     "output_type": "execute_result"
    },
    {
     "data": {
      "text/plain": [
       "array([0, 1])"
      ]
     },
     "execution_count": 213,
     "metadata": {},
     "output_type": "execute_result"
    },
    {
     "data": {
      "text/plain": [
       "1"
      ]
     },
     "execution_count": 213,
     "metadata": {},
     "output_type": "execute_result"
    }
   ],
   "source": [
    "t1[0]\n",
    "t1[0,0]\n",
    "t1[0,0,1] # 0th matrix ..0 the row ... 1st coloumn"
   ]
  },
  {
   "cell_type": "markdown",
   "id": "77b28c9c-caa2-45c3-a4ec-7413eb16ef08",
   "metadata": {},
   "source": [
    "## Slicing "
   ]
  },
  {
   "cell_type": "markdown",
   "id": "0c5e1790-536d-4a00-9fed-be5a4f6b170b",
   "metadata": {},
   "source": [
    "`arr[start : end : step]`"
   ]
  },
  {
   "cell_type": "code",
   "execution_count": 216,
   "id": "5f35534f-be01-426a-b052-00a0550c00c5",
   "metadata": {},
   "outputs": [
    {
     "data": {
      "text/plain": [
       "array([0, 1, 2, 3, 4, 5, 6, 7, 8, 9])"
      ]
     },
     "execution_count": 216,
     "metadata": {},
     "output_type": "execute_result"
    },
    {
     "data": {
      "text/plain": [
       "array([2, 3, 4])"
      ]
     },
     "execution_count": 216,
     "metadata": {},
     "output_type": "execute_result"
    },
    {
     "data": {
      "text/plain": [
       "array([2, 4, 6, 8])"
      ]
     },
     "execution_count": 216,
     "metadata": {},
     "output_type": "execute_result"
    }
   ],
   "source": [
    "v1\n",
    "v1[2:5]\n",
    "v1[2::2]"
   ]
  },
  {
   "cell_type": "code",
   "execution_count": 217,
   "id": "fa2cb360-6149-4ca7-aa66-72872a037829",
   "metadata": {},
   "outputs": [
    {
     "data": {
      "text/plain": [
       "array([[ 0,  1,  2,  3],\n",
       "       [ 4,  5,  6,  7],\n",
       "       [ 8,  9, 10, 11]])"
      ]
     },
     "execution_count": 217,
     "metadata": {},
     "output_type": "execute_result"
    },
    {
     "data": {
      "text/plain": [
       "array([0, 1, 2, 3])"
      ]
     },
     "execution_count": 217,
     "metadata": {},
     "output_type": "execute_result"
    },
    {
     "data": {
      "text/plain": [
       "array([1, 2, 3])"
      ]
     },
     "execution_count": 217,
     "metadata": {},
     "output_type": "execute_result"
    },
    {
     "data": {
      "text/plain": [
       "array([[ 2],\n",
       "       [ 6],\n",
       "       [10]])"
      ]
     },
     "execution_count": 217,
     "metadata": {},
     "output_type": "execute_result"
    },
    {
     "data": {
      "text/plain": [
       "array([[ 6],\n",
       "       [10]])"
      ]
     },
     "execution_count": 217,
     "metadata": {},
     "output_type": "execute_result"
    },
    {
     "data": {
      "text/plain": [
       "array([[ 0,  3],\n",
       "       [ 8, 11]])"
      ]
     },
     "execution_count": 217,
     "metadata": {},
     "output_type": "execute_result"
    }
   ],
   "source": [
    "m1\n",
    "m1[0,:] # first row and all coloumns\n",
    "m1[0,1:] # first row and all coloumns from 1 to last \n",
    "m1[:,2:3] # all rows and 2 to 3-1 cols\n",
    "m1[1:,2:3]\n",
    "m1[::2,::3]"
   ]
  },
  {
   "cell_type": "code",
   "execution_count": 218,
   "id": "d5dfe4be-6afe-4102-8a13-54d44217f13c",
   "metadata": {},
   "outputs": [
    {
     "data": {
      "text/plain": [
       "array([[[ 0,  1,  2],\n",
       "        [ 3,  4,  5],\n",
       "        [ 6,  7,  8]],\n",
       "\n",
       "       [[ 9, 10, 11],\n",
       "        [12, 13, 14],\n",
       "        [15, 16, 17]],\n",
       "\n",
       "       [[18, 19, 20],\n",
       "        [21, 22, 23],\n",
       "        [24, 25, 26]]])"
      ]
     },
     "execution_count": 218,
     "metadata": {},
     "output_type": "execute_result"
    }
   ],
   "source": [
    "t2 = np.arange(27).reshape(3,3,3)\n",
    "t2"
   ]
  },
  {
   "cell_type": "code",
   "execution_count": 219,
   "id": "6b479780-27d5-44a4-b60a-ce479eebaaad",
   "metadata": {},
   "outputs": [
    {
     "data": {
      "text/plain": [
       "array([[ 9, 10, 11],\n",
       "       [12, 13, 14],\n",
       "       [15, 16, 17]])"
      ]
     },
     "execution_count": 219,
     "metadata": {},
     "output_type": "execute_result"
    },
    {
     "data": {
      "text/plain": [
       "array([[[ 0,  1,  2],\n",
       "        [ 3,  4,  5],\n",
       "        [ 6,  7,  8]],\n",
       "\n",
       "       [[18, 19, 20],\n",
       "        [21, 22, 23],\n",
       "        [24, 25, 26]]])"
      ]
     },
     "execution_count": 219,
     "metadata": {},
     "output_type": "execute_result"
    }
   ],
   "source": [
    "t2[1]\n",
    "t2[::2]"
   ]
  },
  {
   "cell_type": "markdown",
   "id": "94ee2075-85c4-47f9-8a77-d507aa5b5a4a",
   "metadata": {},
   "source": [
    "### Iterating over numpy arrays "
   ]
  },
  {
   "cell_type": "code",
   "execution_count": 221,
   "id": "45e040cd-eed7-49e9-8691-f49b7880df01",
   "metadata": {},
   "outputs": [
    {
     "data": {
      "text/plain": [
       "array([0, 1, 2, 3, 4, 5, 6, 7, 8, 9])"
      ]
     },
     "execution_count": 221,
     "metadata": {},
     "output_type": "execute_result"
    },
    {
     "data": {
      "text/plain": [
       "array([[ 0,  1,  2,  3],\n",
       "       [ 4,  5,  6,  7],\n",
       "       [ 8,  9, 10, 11]])"
      ]
     },
     "execution_count": 221,
     "metadata": {},
     "output_type": "execute_result"
    },
    {
     "data": {
      "text/plain": [
       "array([[[0, 1],\n",
       "        [2, 3]],\n",
       "\n",
       "       [[4, 5],\n",
       "        [6, 7]]])"
      ]
     },
     "execution_count": 221,
     "metadata": {},
     "output_type": "execute_result"
    }
   ],
   "source": [
    "v1\n",
    "m1\n",
    "t1"
   ]
  },
  {
   "cell_type": "code",
   "execution_count": 269,
   "id": "b05d73a6-d3a0-47a7-a627-eab6c079f716",
   "metadata": {},
   "outputs": [
    {
     "name": "stdout",
     "output_type": "stream",
     "text": [
      "0 1 2 3 4 5 6 7 8 9 "
     ]
    }
   ],
   "source": [
    "for i in v1:\n",
    "    print(i,end=\" \")"
   ]
  },
  {
   "cell_type": "code",
   "execution_count": 275,
   "id": "9e786f2b-5f43-4bf7-bbf2-a350e778784a",
   "metadata": {},
   "outputs": [
    {
     "name": "stdout",
     "output_type": "stream",
     "text": [
      "[0 1 2 3] [4 5 6 7] [ 8  9 10 11] "
     ]
    }
   ],
   "source": [
    "\n",
    "for i in m1:\n",
    "    print(i,end=\" \")\n"
   ]
  },
  {
   "cell_type": "code",
   "execution_count": 279,
   "id": "7dff7ac0-7908-47c3-92a4-8204f536a4f0",
   "metadata": {},
   "outputs": [
    {
     "name": "stdout",
     "output_type": "stream",
     "text": [
      "[[0 1]\n",
      " [2 3]]\n",
      "[[4 5]\n",
      " [6 7]]\n"
     ]
    }
   ],
   "source": [
    "for i in t1:\n",
    "    print(i)"
   ]
  },
  {
   "cell_type": "markdown",
   "id": "f3b855ec-b0de-4d85-96a3-b594de7da4ab",
   "metadata": {},
   "source": [
    "**`np.nditer` : this function converts any dimensional array to single dimensional array and then prints each element**"
   ]
  },
  {
   "cell_type": "code",
   "execution_count": 283,
   "id": "33e9dd21-09d1-4950-b199-693b1a769c29",
   "metadata": {},
   "outputs": [
    {
     "name": "stdout",
     "output_type": "stream",
     "text": [
      "0 1 2 3 4 5 6 7 "
     ]
    }
   ],
   "source": [
    "for i in np.nditer(t1):\n",
    "    print(i,end=\" \")"
   ]
  },
  {
   "cell_type": "markdown",
   "id": "bf38ed66-accf-4834-936f-4dc41c98c61a",
   "metadata": {},
   "source": [
    "## Transpose and Ravel"
   ]
  },
  {
   "cell_type": "code",
   "execution_count": 289,
   "id": "5d80e8fc-f8a1-4243-bd4c-45fe541a5caa",
   "metadata": {},
   "outputs": [
    {
     "data": {
      "text/plain": [
       "array([[ 0,  1,  2,  3],\n",
       "       [ 4,  5,  6,  7],\n",
       "       [ 8,  9, 10, 11]])"
      ]
     },
     "execution_count": 289,
     "metadata": {},
     "output_type": "execute_result"
    }
   ],
   "source": [
    "\n",
    "m1"
   ]
  },
  {
   "cell_type": "code",
   "execution_count": 297,
   "id": "d45b22d0-94df-468e-a468-93f04c2210d3",
   "metadata": {},
   "outputs": [
    {
     "data": {
      "text/plain": [
       "array([[ 0,  4,  8],\n",
       "       [ 1,  5,  9],\n",
       "       [ 2,  6, 10],\n",
       "       [ 3,  7, 11]])"
      ]
     },
     "execution_count": 297,
     "metadata": {},
     "output_type": "execute_result"
    },
    {
     "data": {
      "text/plain": [
       "array([[ 0,  4,  8],\n",
       "       [ 1,  5,  9],\n",
       "       [ 2,  6, 10],\n",
       "       [ 3,  7, 11]])"
      ]
     },
     "execution_count": 297,
     "metadata": {},
     "output_type": "execute_result"
    }
   ],
   "source": [
    "np.transpose(m1)\n",
    "m1.T # easier syntax"
   ]
  },
  {
   "cell_type": "code",
   "execution_count": 307,
   "id": "38da151a-8f8d-4255-ba5e-ce70904a0c44",
   "metadata": {},
   "outputs": [
    {
     "data": {
      "text/plain": [
       "array([[[ 0,  1,  2],\n",
       "        [ 3,  4,  5],\n",
       "        [ 6,  7,  8]],\n",
       "\n",
       "       [[ 9, 10, 11],\n",
       "        [12, 13, 14],\n",
       "        [15, 16, 17]],\n",
       "\n",
       "       [[18, 19, 20],\n",
       "        [21, 22, 23],\n",
       "        [24, 25, 26]]])"
      ]
     },
     "execution_count": 307,
     "metadata": {},
     "output_type": "execute_result"
    },
    {
     "data": {
      "text/plain": [
       "array([ 0,  1,  2,  3,  4,  5,  6,  7,  8,  9, 10, 11, 12, 13, 14, 15, 16,\n",
       "       17, 18, 19, 20, 21, 22, 23, 24, 25, 26])"
      ]
     },
     "execution_count": 307,
     "metadata": {},
     "output_type": "execute_result"
    }
   ],
   "source": [
    "t2\n",
    "t2.ravel()"
   ]
  },
  {
   "cell_type": "markdown",
   "id": "6da7d538-6355-4b55-ad35-1f88546733b4",
   "metadata": {},
   "source": [
    "## Stacking"
   ]
  },
  {
   "cell_type": "code",
   "execution_count": 310,
   "id": "355ba024-cb08-4541-ba3c-90c4b6d6267e",
   "metadata": {},
   "outputs": [
    {
     "data": {
      "text/plain": [
       "array([[ 0,  1,  2,  3],\n",
       "       [ 4,  5,  6,  7],\n",
       "       [ 8,  9, 10, 11]])"
      ]
     },
     "execution_count": 310,
     "metadata": {},
     "output_type": "execute_result"
    },
    {
     "data": {
      "text/plain": [
       "array([[12, 13, 14, 15],\n",
       "       [16, 17, 18, 19],\n",
       "       [20, 21, 22, 23]])"
      ]
     },
     "execution_count": 310,
     "metadata": {},
     "output_type": "execute_result"
    }
   ],
   "source": [
    "a7 = np.array([1,2,3])\n",
    "a8 = np.array([1,2,3])\n",
    "a9 = np.arange(12).reshape(3,4)\n",
    "a10 = np.arange(12,24).reshape(3,4)\n",
    "a9\n",
    "a10"
   ]
  },
  {
   "cell_type": "markdown",
   "id": "c13633f4-a285-4b17-ad84-f02624434b64",
   "metadata": {},
   "source": [
    "**vertical Stacking**"
   ]
  },
  {
   "cell_type": "code",
   "execution_count": 315,
   "id": "7b55590e-ce05-4412-ac7b-ee5c8c7d7ff1",
   "metadata": {},
   "outputs": [
    {
     "data": {
      "text/plain": [
       "array([[ 0,  1,  2,  3, 12, 13, 14, 15],\n",
       "       [ 4,  5,  6,  7, 16, 17, 18, 19],\n",
       "       [ 8,  9, 10, 11, 20, 21, 22, 23]])"
      ]
     },
     "execution_count": 315,
     "metadata": {},
     "output_type": "execute_result"
    }
   ],
   "source": [
    "np.hstack((a9,a10))"
   ]
  },
  {
   "cell_type": "markdown",
   "id": "3147e5c7-e62a-43f0-bf27-a2c4c757b978",
   "metadata": {},
   "source": [
    "**horizontal stacking**"
   ]
  },
  {
   "cell_type": "code",
   "execution_count": 318,
   "id": "aba1a0ae-15dd-4166-a5c9-9f6391184af3",
   "metadata": {},
   "outputs": [
    {
     "data": {
      "text/plain": [
       "array([[ 0,  1,  2,  3],\n",
       "       [ 4,  5,  6,  7],\n",
       "       [ 8,  9, 10, 11],\n",
       "       [12, 13, 14, 15],\n",
       "       [16, 17, 18, 19],\n",
       "       [20, 21, 22, 23]])"
      ]
     },
     "execution_count": 318,
     "metadata": {},
     "output_type": "execute_result"
    }
   ],
   "source": [
    "np.vstack((a9,a10))"
   ]
  },
  {
   "cell_type": "markdown",
   "id": "3c663bad-5432-45a0-9684-a620fdfad14b",
   "metadata": {},
   "source": [
    "## Splitting"
   ]
  },
  {
   "cell_type": "markdown",
   "id": "897539ba-f3ef-43b5-9abc-574a645476b9",
   "metadata": {},
   "source": [
    "--------- v splitting\n",
    "      |\n",
    "      |   h splitting \n",
    "      |"
   ]
  },
  {
   "cell_type": "code",
   "execution_count": 325,
   "id": "c9fc747b-74da-4ac1-8394-9a3d07d894ca",
   "metadata": {},
   "outputs": [
    {
     "data": {
      "text/plain": [
       "array([[ 0,  1,  2,  3],\n",
       "       [ 4,  5,  6,  7],\n",
       "       [ 8,  9, 10, 11],\n",
       "       [12, 13, 14, 15],\n",
       "       [16, 17, 18, 19],\n",
       "       [20, 21, 22, 23]])"
      ]
     },
     "execution_count": 325,
     "metadata": {},
     "output_type": "execute_result"
    }
   ],
   "source": [
    "a11 = np.arange(24).reshape(6,4)\n",
    "a11"
   ]
  },
  {
   "cell_type": "code",
   "execution_count": 327,
   "id": "709b6f3a-1eb2-4d6f-a7b4-44171896f94b",
   "metadata": {},
   "outputs": [
    {
     "ename": "ValueError",
     "evalue": "array split does not result in an equal division",
     "output_type": "error",
     "traceback": [
      "\u001b[1;31m---------------------------------------------------------------------------\u001b[0m",
      "\u001b[1;31mValueError\u001b[0m                                Traceback (most recent call last)",
      "Cell \u001b[1;32mIn[327], line 1\u001b[0m\n\u001b[1;32m----> 1\u001b[0m \u001b[43mnp\u001b[49m\u001b[38;5;241;43m.\u001b[39;49m\u001b[43mhsplit\u001b[49m\u001b[43m(\u001b[49m\u001b[43ma11\u001b[49m\u001b[43m,\u001b[49m\u001b[38;5;241;43m3\u001b[39;49m\u001b[43m)\u001b[49m\n",
      "File \u001b[1;32m~\\AppData\\Roaming\\Python\\Python312\\site-packages\\numpy\\lib\\shape_base.py:938\u001b[0m, in \u001b[0;36mhsplit\u001b[1;34m(ary, indices_or_sections)\u001b[0m\n\u001b[0;32m    936\u001b[0m     \u001b[38;5;28;01mraise\u001b[39;00m \u001b[38;5;167;01mValueError\u001b[39;00m(\u001b[38;5;124m'\u001b[39m\u001b[38;5;124mhsplit only works on arrays of 1 or more dimensions\u001b[39m\u001b[38;5;124m'\u001b[39m)\n\u001b[0;32m    937\u001b[0m \u001b[38;5;28;01mif\u001b[39;00m ary\u001b[38;5;241m.\u001b[39mndim \u001b[38;5;241m>\u001b[39m \u001b[38;5;241m1\u001b[39m:\n\u001b[1;32m--> 938\u001b[0m     \u001b[38;5;28;01mreturn\u001b[39;00m \u001b[43msplit\u001b[49m\u001b[43m(\u001b[49m\u001b[43mary\u001b[49m\u001b[43m,\u001b[49m\u001b[43m \u001b[49m\u001b[43mindices_or_sections\u001b[49m\u001b[43m,\u001b[49m\u001b[43m \u001b[49m\u001b[38;5;241;43m1\u001b[39;49m\u001b[43m)\u001b[49m\n\u001b[0;32m    939\u001b[0m \u001b[38;5;28;01melse\u001b[39;00m:\n\u001b[0;32m    940\u001b[0m     \u001b[38;5;28;01mreturn\u001b[39;00m split(ary, indices_or_sections, \u001b[38;5;241m0\u001b[39m)\n",
      "File \u001b[1;32m~\\AppData\\Roaming\\Python\\Python312\\site-packages\\numpy\\lib\\shape_base.py:864\u001b[0m, in \u001b[0;36msplit\u001b[1;34m(ary, indices_or_sections, axis)\u001b[0m\n\u001b[0;32m    862\u001b[0m     N \u001b[38;5;241m=\u001b[39m ary\u001b[38;5;241m.\u001b[39mshape[axis]\n\u001b[0;32m    863\u001b[0m     \u001b[38;5;28;01mif\u001b[39;00m N \u001b[38;5;241m%\u001b[39m sections:\n\u001b[1;32m--> 864\u001b[0m         \u001b[38;5;28;01mraise\u001b[39;00m \u001b[38;5;167;01mValueError\u001b[39;00m(\n\u001b[0;32m    865\u001b[0m             \u001b[38;5;124m'\u001b[39m\u001b[38;5;124marray split does not result in an equal division\u001b[39m\u001b[38;5;124m'\u001b[39m) \u001b[38;5;28;01mfrom\u001b[39;00m \u001b[38;5;28;01mNone\u001b[39;00m\n\u001b[0;32m    866\u001b[0m \u001b[38;5;28;01mreturn\u001b[39;00m array_split(ary, indices_or_sections, axis)\n",
      "\u001b[1;31mValueError\u001b[0m: array split does not result in an equal division"
     ]
    }
   ],
   "source": [
    "np.hsplit(a11,3)"
   ]
  },
  {
   "cell_type": "code",
   "execution_count": null,
   "id": "c66d2635-aa2e-4d5f-a8ff-0ed270de14bc",
   "metadata": {},
   "outputs": [],
   "source": []
  }
 ],
 "metadata": {
  "kernelspec": {
   "display_name": "Python 3 (ipykernel)",
   "language": "python",
   "name": "python3"
  },
  "language_info": {
   "codemirror_mode": {
    "name": "ipython",
    "version": 3
   },
   "file_extension": ".py",
   "mimetype": "text/x-python",
   "name": "python",
   "nbconvert_exporter": "python",
   "pygments_lexer": "ipython3",
   "version": "3.12.4"
  }
 },
 "nbformat": 4,
 "nbformat_minor": 5
}
