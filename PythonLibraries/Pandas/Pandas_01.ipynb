{
 "cells": [
  {
   "cell_type": "code",
   "execution_count": 207,
   "id": "8ec61cca-8a54-499c-8e31-14f6919f88f1",
   "metadata": {},
   "outputs": [],
   "source": [
    "from IPython.core.interactiveshell import InteractiveShell\n",
    "InteractiveShell.ast_node_interactivity = \"all\""
   ]
  },
  {
   "cell_type": "markdown",
   "id": "1dfc8f63-fccf-4b02-bce4-19a4436fd45f",
   "metadata": {},
   "source": [
    "## Pandas\n",
    "**Pandas is a fast powerful , flexible and easy to use open source data analysis and manipulation tool,built on top of Python Programming Language**"
   ]
  },
  {
   "cell_type": "code",
   "execution_count": 209,
   "id": "3b48d072-a2d9-43ca-abf7-5be79366c958",
   "metadata": {},
   "outputs": [],
   "source": [
    "import pandas as pd \n",
    "import numpy as np"
   ]
  },
  {
   "cell_type": "markdown",
   "id": "a7240c89-1b68-4aef-81b4-3e1aba4bcc86",
   "metadata": {},
   "source": [
    "**Series** : A Pandas series is like a coloumn in a table "
   ]
  },
  {
   "cell_type": "markdown",
   "id": "3e367bef-47d3-436c-8354-f83584f442ab",
   "metadata": {},
   "source": [
    "### different ways to create a series\n"
   ]
  },
  {
   "cell_type": "code",
   "execution_count": 212,
   "id": "8f00ecbc-ac7d-40d9-940c-73a09a06e72c",
   "metadata": {},
   "outputs": [
    {
     "data": {
      "text/plain": [
       "0       India\n",
       "1       Nepal\n",
       "2    SriLanka\n",
       "dtype: object"
      ]
     },
     "execution_count": 212,
     "metadata": {},
     "output_type": "execute_result"
    },
    {
     "data": {
      "text/plain": [
       "'India'"
      ]
     },
     "execution_count": 212,
     "metadata": {},
     "output_type": "execute_result"
    }
   ],
   "source": [
    "country =['India','Nepal','SriLanka']\n",
    "countries = pd.Series(country) # in Pandas Series is a class and we are creating an object \n",
    "# by giving an input List \n",
    "countries\n",
    "countries[0]"
   ]
  },
  {
   "cell_type": "markdown",
   "id": "6ffa710b-51a6-4a6d-971c-bad0eb334ebb",
   "metadata": {},
   "source": [
    "#### Providing my own index name "
   ]
  },
  {
   "cell_type": "code",
   "execution_count": 214,
   "id": "cd1b42ed-8953-4ce1-9aa8-98669956fec9",
   "metadata": {},
   "outputs": [
    {
     "data": {
      "text/plain": [
       "Mathematics    80\n",
       "English        90\n",
       "Science        70\n",
       "dtype: int64"
      ]
     },
     "execution_count": 214,
     "metadata": {},
     "output_type": "execute_result"
    }
   ],
   "source": [
    "marks = [80,90,70]\n",
    "subjects =['Mathematics','English','Science']\n",
    "\n",
    "pd.Series(marks,index = subjects)"
   ]
  },
  {
   "cell_type": "code",
   "execution_count": 215,
   "id": "6a426626-9775-4f90-86df-1c6c5d1adfc2",
   "metadata": {},
   "outputs": [
    {
     "data": {
      "text/plain": [
       "Mathematics    80\n",
       "English        90\n",
       "Science        70\n",
       "Name: My Marks, dtype: int64"
      ]
     },
     "execution_count": 215,
     "metadata": {},
     "output_type": "execute_result"
    },
    {
     "data": {
      "text/plain": [
       "'My Marks'"
      ]
     },
     "execution_count": 215,
     "metadata": {},
     "output_type": "execute_result"
    },
    {
     "data": {
      "text/plain": [
       "80"
      ]
     },
     "execution_count": 215,
     "metadata": {},
     "output_type": "execute_result"
    }
   ],
   "source": [
    "marks = [80,90,70]\n",
    "subjects =['Mathematics','English','Science']\n",
    "                                                     # setting a name \n",
    "marks_data = pd.Series(marks,index = subjects ,name = \"My Marks\")\n",
    "marks_data\n",
    "marks_data.name\n",
    "marks_data['Mathematics'] # using custom index to access the value \n",
    "\n"
   ]
  },
  {
   "cell_type": "markdown",
   "id": "d50215e7-e18c-4679-9eaf-c1f7291de9cc",
   "metadata": {},
   "source": [
    "#### using a dictionary to create a series \n",
    "* In case of dictionary the keys automatically become the index of the series"
   ]
  },
  {
   "cell_type": "code",
   "execution_count": 217,
   "id": "43c1fcde-0059-4b21-87bf-f64388d54857",
   "metadata": {},
   "outputs": [
    {
     "data": {
      "text/plain": [
       "maths      78\n",
       "english    76\n",
       "science    79\n",
       "dtype: int64"
      ]
     },
     "execution_count": 217,
     "metadata": {},
     "output_type": "execute_result"
    }
   ],
   "source": [
    "\n",
    "\n",
    "marks_dict = {\n",
    "    'maths': 78,\n",
    "    'english': 76,\n",
    "    'science': 79\n",
    "}\n",
    "\n",
    "marks_series = pd.Series(marks_dict)\n",
    "marks_series\n"
   ]
  },
  {
   "cell_type": "markdown",
   "id": "17aa21e8-228b-424b-b609-c7ee25f9ecb5",
   "metadata": {},
   "source": [
    "## Series Attributes "
   ]
  },
  {
   "cell_type": "code",
   "execution_count": 219,
   "id": "ed66a8fa-2755-4bdb-bafa-20838ea15f31",
   "metadata": {},
   "outputs": [],
   "source": [
    "marks = [80,90,70]\n",
    "subjects =['Mathematics','English','Science']\n",
    "                                                     # setting a name \n",
    "marks_data = pd.Series(marks,index = subjects ,name = \"My Marks\")"
   ]
  },
  {
   "cell_type": "code",
   "execution_count": 220,
   "id": "7eb4690e-0e27-446b-abb3-c77da8fd5626",
   "metadata": {},
   "outputs": [
    {
     "data": {
      "text/plain": [
       "3"
      ]
     },
     "execution_count": 220,
     "metadata": {},
     "output_type": "execute_result"
    }
   ],
   "source": [
    "# size \n",
    "marks_data.size"
   ]
  },
  {
   "cell_type": "code",
   "execution_count": 221,
   "id": "a4dda814-ab81-4714-9f5f-886abeba706a",
   "metadata": {},
   "outputs": [
    {
     "data": {
      "text/plain": [
       "dtype('int64')"
      ]
     },
     "execution_count": 221,
     "metadata": {},
     "output_type": "execute_result"
    }
   ],
   "source": [
    "# dtype \n",
    "marks_data.dtype"
   ]
  },
  {
   "cell_type": "code",
   "execution_count": 222,
   "id": "4ea777cb-9155-422c-98e9-b0c5cca37ca5",
   "metadata": {},
   "outputs": [
    {
     "data": {
      "text/plain": [
       "'My Marks'"
      ]
     },
     "execution_count": 222,
     "metadata": {},
     "output_type": "execute_result"
    }
   ],
   "source": [
    "#name \n",
    "marks_data.name"
   ]
  },
  {
   "cell_type": "code",
   "execution_count": 223,
   "id": "91fbe467-7cad-4c4a-a97e-29abd484c71d",
   "metadata": {},
   "outputs": [
    {
     "data": {
      "text/plain": [
       "True"
      ]
     },
     "execution_count": 223,
     "metadata": {},
     "output_type": "execute_result"
    },
    {
     "data": {
      "text/plain": [
       "False"
      ]
     },
     "execution_count": 223,
     "metadata": {},
     "output_type": "execute_result"
    }
   ],
   "source": [
    "# is_unique \n",
    "marks_series.is_unique\n",
    "pd.Series([1,1,2,2]).is_unique\n"
   ]
  },
  {
   "cell_type": "code",
   "execution_count": 224,
   "id": "5eac99e8-2c87-470e-a086-dbfde1912a90",
   "metadata": {},
   "outputs": [
    {
     "data": {
      "text/plain": [
       "Index(['maths', 'english', 'science'], dtype='object')"
      ]
     },
     "execution_count": 224,
     "metadata": {},
     "output_type": "execute_result"
    }
   ],
   "source": [
    "# index \n",
    "marks_series.index"
   ]
  },
  {
   "cell_type": "markdown",
   "id": "aec5a47a-826c-4ca9-9d1c-940136e6bbb9",
   "metadata": {},
   "source": [
    "# Series using read_csv\n"
   ]
  },
  {
   "cell_type": "code",
   "execution_count": 226,
   "id": "1f7f57f9-8738-450f-bd20-d65dc58f3e12",
   "metadata": {},
   "outputs": [
    {
     "data": {
      "text/html": [
       "<div>\n",
       "<style scoped>\n",
       "    .dataframe tbody tr th:only-of-type {\n",
       "        vertical-align: middle;\n",
       "    }\n",
       "\n",
       "    .dataframe tbody tr th {\n",
       "        vertical-align: top;\n",
       "    }\n",
       "\n",
       "    .dataframe thead th {\n",
       "        text-align: right;\n",
       "    }\n",
       "</style>\n",
       "<table border=\"1\" class=\"dataframe\">\n",
       "  <thead>\n",
       "    <tr style=\"text-align: right;\">\n",
       "      <th></th>\n",
       "      <th>Subscribers gained</th>\n",
       "    </tr>\n",
       "  </thead>\n",
       "  <tbody>\n",
       "    <tr>\n",
       "      <th>0</th>\n",
       "      <td>48</td>\n",
       "    </tr>\n",
       "    <tr>\n",
       "      <th>1</th>\n",
       "      <td>57</td>\n",
       "    </tr>\n",
       "    <tr>\n",
       "      <th>2</th>\n",
       "      <td>40</td>\n",
       "    </tr>\n",
       "    <tr>\n",
       "      <th>3</th>\n",
       "      <td>43</td>\n",
       "    </tr>\n",
       "    <tr>\n",
       "      <th>4</th>\n",
       "      <td>44</td>\n",
       "    </tr>\n",
       "  </tbody>\n",
       "</table>\n",
       "</div>"
      ],
      "text/plain": [
       "   Subscribers gained\n",
       "0                  48\n",
       "1                  57\n",
       "2                  40\n",
       "3                  43\n",
       "4                  44"
      ]
     },
     "execution_count": 226,
     "metadata": {},
     "output_type": "execute_result"
    },
    {
     "data": {
      "text/plain": [
       "0    48\n",
       "1    57\n",
       "2    40\n",
       "3    43\n",
       "4    44\n",
       "Name: Subscribers gained, dtype: int64"
      ]
     },
     "execution_count": 226,
     "metadata": {},
     "output_type": "execute_result"
    }
   ],
   "source": [
    "# subs = pd.read_csv('subs.csv') \n",
    "# by default read_csv brings the data in the form of data frame\n",
    "\n",
    "subs = pd.read_csv('subs.csv')\n",
    "subs.head()\n",
    "subs_series = subs.iloc[:, 0]  # Selecting the first column as a Series\n",
    "subs_series.head()"
   ]
  },
  {
   "cell_type": "code",
   "execution_count": 227,
   "id": "d3e6aaf1-3b77-484b-b134-b58a3634d40c",
   "metadata": {},
   "outputs": [
    {
     "name": "stdout",
     "output_type": "stream",
     "text": [
      "match_no\n",
      "1     1\n",
      "2    23\n",
      "3    13\n",
      "4    12\n",
      "5     1\n",
      "Name: runs, dtype: int64\n"
     ]
    }
   ],
   "source": [
    "# Assuming you've already loaded the data into a DataFrame called kohli_ipl\n",
    "kohli_ipl = pd.read_csv('kohli_ipl.csv')  # Replace with actual file path if necessary\n",
    "\n",
    "# Set 'match_no' as the index\n",
    "kohli_ipl.set_index('match_no', inplace=True)\n",
    "\n",
    "# Now selecting the 'runs' column as a Series\n",
    "kohli_runs_series = kohli_ipl['runs']\n",
    "print(kohli_runs_series.head())\n"
   ]
  },
  {
   "cell_type": "code",
   "execution_count": 228,
   "id": "c8be7f3c-0a67-4ae8-b751-3d1d734966c9",
   "metadata": {},
   "outputs": [
    {
     "data": {
      "text/html": [
       "<div>\n",
       "<style scoped>\n",
       "    .dataframe tbody tr th:only-of-type {\n",
       "        vertical-align: middle;\n",
       "    }\n",
       "\n",
       "    .dataframe tbody tr th {\n",
       "        vertical-align: top;\n",
       "    }\n",
       "\n",
       "    .dataframe thead th {\n",
       "        text-align: right;\n",
       "    }\n",
       "</style>\n",
       "<table border=\"1\" class=\"dataframe\">\n",
       "  <thead>\n",
       "    <tr style=\"text-align: right;\">\n",
       "      <th></th>\n",
       "      <th>movie</th>\n",
       "      <th>lead</th>\n",
       "    </tr>\n",
       "  </thead>\n",
       "  <tbody>\n",
       "    <tr>\n",
       "      <th>0</th>\n",
       "      <td>Uri: The Surgical Strike</td>\n",
       "      <td>Vicky Kaushal</td>\n",
       "    </tr>\n",
       "    <tr>\n",
       "      <th>1</th>\n",
       "      <td>Battalion 609</td>\n",
       "      <td>Vicky Ahuja</td>\n",
       "    </tr>\n",
       "    <tr>\n",
       "      <th>2</th>\n",
       "      <td>The Accidental Prime Minister (film)</td>\n",
       "      <td>Anupam Kher</td>\n",
       "    </tr>\n",
       "    <tr>\n",
       "      <th>3</th>\n",
       "      <td>Why Cheat India</td>\n",
       "      <td>Emraan Hashmi</td>\n",
       "    </tr>\n",
       "    <tr>\n",
       "      <th>4</th>\n",
       "      <td>Evening Shadows</td>\n",
       "      <td>Mona Ambegaonkar</td>\n",
       "    </tr>\n",
       "  </tbody>\n",
       "</table>\n",
       "</div>"
      ],
      "text/plain": [
       "                                  movie              lead\n",
       "0              Uri: The Surgical Strike     Vicky Kaushal\n",
       "1                         Battalion 609       Vicky Ahuja\n",
       "2  The Accidental Prime Minister (film)       Anupam Kher\n",
       "3                       Why Cheat India     Emraan Hashmi\n",
       "4                       Evening Shadows  Mona Ambegaonkar"
      ]
     },
     "execution_count": 228,
     "metadata": {},
     "output_type": "execute_result"
    },
    {
     "data": {
      "text/plain": [
       "pandas.core.frame.DataFrame"
      ]
     },
     "execution_count": 228,
     "metadata": {},
     "output_type": "execute_result"
    },
    {
     "data": {
      "text/html": [
       "<div>\n",
       "<style scoped>\n",
       "    .dataframe tbody tr th:only-of-type {\n",
       "        vertical-align: middle;\n",
       "    }\n",
       "\n",
       "    .dataframe tbody tr th {\n",
       "        vertical-align: top;\n",
       "    }\n",
       "\n",
       "    .dataframe thead th {\n",
       "        text-align: right;\n",
       "    }\n",
       "</style>\n",
       "<table border=\"1\" class=\"dataframe\">\n",
       "  <thead>\n",
       "    <tr style=\"text-align: right;\">\n",
       "      <th></th>\n",
       "      <th>lead</th>\n",
       "    </tr>\n",
       "    <tr>\n",
       "      <th>movie</th>\n",
       "      <th></th>\n",
       "    </tr>\n",
       "  </thead>\n",
       "  <tbody>\n",
       "    <tr>\n",
       "      <th>Uri: The Surgical Strike</th>\n",
       "      <td>Vicky Kaushal</td>\n",
       "    </tr>\n",
       "    <tr>\n",
       "      <th>Battalion 609</th>\n",
       "      <td>Vicky Ahuja</td>\n",
       "    </tr>\n",
       "    <tr>\n",
       "      <th>The Accidental Prime Minister (film)</th>\n",
       "      <td>Anupam Kher</td>\n",
       "    </tr>\n",
       "    <tr>\n",
       "      <th>Why Cheat India</th>\n",
       "      <td>Emraan Hashmi</td>\n",
       "    </tr>\n",
       "    <tr>\n",
       "      <th>Evening Shadows</th>\n",
       "      <td>Mona Ambegaonkar</td>\n",
       "    </tr>\n",
       "  </tbody>\n",
       "</table>\n",
       "</div>"
      ],
      "text/plain": [
       "                                                  lead\n",
       "movie                                                 \n",
       "Uri: The Surgical Strike                 Vicky Kaushal\n",
       "Battalion 609                              Vicky Ahuja\n",
       "The Accidental Prime Minister (film)       Anupam Kher\n",
       "Why Cheat India                          Emraan Hashmi\n",
       "Evening Shadows                       Mona Ambegaonkar"
      ]
     },
     "execution_count": 228,
     "metadata": {},
     "output_type": "execute_result"
    },
    {
     "data": {
      "text/plain": [
       "pandas.core.frame.DataFrame"
      ]
     },
     "execution_count": 228,
     "metadata": {},
     "output_type": "execute_result"
    }
   ],
   "source": [
    "movies = pd.read_csv('bollywood.csv')\n",
    "movies.head()\n",
    "type(movies)\n",
    "movies.set_index('movie',inplace= True)\n",
    "movies.head()\n",
    "type(movies)"
   ]
  },
  {
   "cell_type": "markdown",
   "id": "f7b82291-a059-4397-ba85-72d88cc25b68",
   "metadata": {},
   "source": [
    "### Some important Attributes \n"
   ]
  },
  {
   "cell_type": "markdown",
   "id": "7362a295-b6ee-405a-bf40-18feef87500d",
   "metadata": {},
   "source": [
    "#### head and tail"
   ]
  },
  {
   "cell_type": "code",
   "execution_count": 231,
   "id": "7ad1b0c4-356f-44de-992b-ae85b86b802b",
   "metadata": {},
   "outputs": [
    {
     "data": {
      "text/plain": [
       "0     48\n",
       "1     57\n",
       "2     40\n",
       "3     43\n",
       "4     44\n",
       "5     46\n",
       "6     33\n",
       "7     40\n",
       "8     44\n",
       "9     74\n",
       "10    49\n",
       "11    56\n",
       "Name: Subscribers gained, dtype: int64"
      ]
     },
     "execution_count": 231,
     "metadata": {},
     "output_type": "execute_result"
    },
    {
     "data": {
      "text/plain": [
       "360    231\n",
       "361    226\n",
       "362    155\n",
       "363    144\n",
       "364    172\n",
       "Name: Subscribers gained, dtype: int64"
      ]
     },
     "execution_count": 231,
     "metadata": {},
     "output_type": "execute_result"
    }
   ],
   "source": [
    "subs_series.head(12) # 12 values from top\n",
    "subs_series.tail(5) # 5 values from bottom "
   ]
  },
  {
   "cell_type": "markdown",
   "id": "74f204c9-fb2e-4202-81bc-6837fa1f10ee",
   "metadata": {},
   "source": [
    "#### sample"
   ]
  },
  {
   "cell_type": "code",
   "execution_count": null,
   "id": "20ef1dbd-b53d-48bb-acff-2fc9e473a236",
   "metadata": {},
   "outputs": [],
   "source": [
    "# Sample \n",
    "movies.sample(4) # will return 4 randomly selected rows "
   ]
  },
  {
   "cell_type": "markdown",
   "id": "8a4326d3-6a4e-42ea-b904-07bea98e7c24",
   "metadata": {},
   "source": [
    "#### value_counts"
   ]
  },
  {
   "cell_type": "code",
   "execution_count": null,
   "id": "230b9f65-5dcd-4e3d-821a-b98b0273aad9",
   "metadata": {},
   "outputs": [],
   "source": [
    "# value_counts \n",
    "movies.value_counts().head() # finds how many times a value appeared "
   ]
  },
  {
   "cell_type": "markdown",
   "id": "8010d546-97e0-4818-9fc1-c7723265b471",
   "metadata": {},
   "source": [
    "### sort_values and sort_index"
   ]
  },
  {
   "cell_type": "markdown",
   "id": "b78cef24-6a80-4a7d-9bb5-368e14c2132e",
   "metadata": {},
   "source": [
    "**Note `sort_values` wont change the actual data if we need to store it somewhere or we can use this `inplace= True` argument**"
   ]
  },
  {
   "cell_type": "code",
   "execution_count": 235,
   "id": "4d5adbe4-c7d9-4747-8b95-4eee9c5e0b59",
   "metadata": {},
   "outputs": [
    {
     "data": {
      "text/plain": [
       "pandas.core.frame.DataFrame"
      ]
     },
     "execution_count": 235,
     "metadata": {},
     "output_type": "execute_result"
    },
    {
     "data": {
      "text/html": [
       "<div>\n",
       "<style scoped>\n",
       "    .dataframe tbody tr th:only-of-type {\n",
       "        vertical-align: middle;\n",
       "    }\n",
       "\n",
       "    .dataframe tbody tr th {\n",
       "        vertical-align: top;\n",
       "    }\n",
       "\n",
       "    .dataframe thead th {\n",
       "        text-align: right;\n",
       "    }\n",
       "</style>\n",
       "<table border=\"1\" class=\"dataframe\">\n",
       "  <thead>\n",
       "    <tr style=\"text-align: right;\">\n",
       "      <th></th>\n",
       "      <th>runs</th>\n",
       "    </tr>\n",
       "    <tr>\n",
       "      <th>match_no</th>\n",
       "      <th></th>\n",
       "    </tr>\n",
       "  </thead>\n",
       "  <tbody>\n",
       "    <tr>\n",
       "      <th>128</th>\n",
       "      <td>113</td>\n",
       "    </tr>\n",
       "    <tr>\n",
       "      <th>126</th>\n",
       "      <td>109</td>\n",
       "    </tr>\n",
       "    <tr>\n",
       "      <th>123</th>\n",
       "      <td>108</td>\n",
       "    </tr>\n",
       "    <tr>\n",
       "      <th>164</th>\n",
       "      <td>100</td>\n",
       "    </tr>\n",
       "    <tr>\n",
       "      <th>120</th>\n",
       "      <td>100</td>\n",
       "    </tr>\n",
       "  </tbody>\n",
       "</table>\n",
       "</div>"
      ],
      "text/plain": [
       "          runs\n",
       "match_no      \n",
       "128        113\n",
       "126        109\n",
       "123        108\n",
       "164        100\n",
       "120        100"
      ]
     },
     "execution_count": 235,
     "metadata": {},
     "output_type": "execute_result"
    },
    {
     "data": {
      "text/html": [
       "<div>\n",
       "<style scoped>\n",
       "    .dataframe tbody tr th:only-of-type {\n",
       "        vertical-align: middle;\n",
       "    }\n",
       "\n",
       "    .dataframe tbody tr th {\n",
       "        vertical-align: top;\n",
       "    }\n",
       "\n",
       "    .dataframe thead th {\n",
       "        text-align: right;\n",
       "    }\n",
       "</style>\n",
       "<table border=\"1\" class=\"dataframe\">\n",
       "  <thead>\n",
       "    <tr style=\"text-align: right;\">\n",
       "      <th></th>\n",
       "      <th>runs</th>\n",
       "    </tr>\n",
       "    <tr>\n",
       "      <th>match_no</th>\n",
       "      <th></th>\n",
       "    </tr>\n",
       "  </thead>\n",
       "  <tbody>\n",
       "    <tr>\n",
       "      <th>128</th>\n",
       "      <td>113</td>\n",
       "    </tr>\n",
       "    <tr>\n",
       "      <th>126</th>\n",
       "      <td>109</td>\n",
       "    </tr>\n",
       "    <tr>\n",
       "      <th>123</th>\n",
       "      <td>108</td>\n",
       "    </tr>\n",
       "    <tr>\n",
       "      <th>164</th>\n",
       "      <td>100</td>\n",
       "    </tr>\n",
       "    <tr>\n",
       "      <th>120</th>\n",
       "      <td>100</td>\n",
       "    </tr>\n",
       "  </tbody>\n",
       "</table>\n",
       "</div>"
      ],
      "text/plain": [
       "          runs\n",
       "match_no      \n",
       "128        113\n",
       "126        109\n",
       "123        108\n",
       "164        100\n",
       "120        100"
      ]
     },
     "execution_count": 235,
     "metadata": {},
     "output_type": "execute_result"
    }
   ],
   "source": [
    "type(kohli_ipl)\n",
    "sorted_kohli_runs = kohli_ipl.sort_values('runs',ascending=False) # we sorted the dataframe on the basis of runs\n",
    "sorted_kohli_runs.head()\n",
    "\n",
    "kohli_ipl.sort_values('runs',ascending=False,inplace=True)\n",
    "kohli_ipl.head()\n",
    "\n"
   ]
  },
  {
   "cell_type": "code",
   "execution_count": 262,
   "id": "6d2dc9df-f9a4-498b-8ecd-2a4a994960a0",
   "metadata": {},
   "outputs": [
    {
     "data": {
      "text/html": [
       "<div>\n",
       "<style scoped>\n",
       "    .dataframe tbody tr th:only-of-type {\n",
       "        vertical-align: middle;\n",
       "    }\n",
       "\n",
       "    .dataframe tbody tr th {\n",
       "        vertical-align: top;\n",
       "    }\n",
       "\n",
       "    .dataframe thead th {\n",
       "        text-align: right;\n",
       "    }\n",
       "</style>\n",
       "<table border=\"1\" class=\"dataframe\">\n",
       "  <thead>\n",
       "    <tr style=\"text-align: right;\">\n",
       "      <th></th>\n",
       "      <th>lead</th>\n",
       "    </tr>\n",
       "    <tr>\n",
       "      <th>movie</th>\n",
       "      <th></th>\n",
       "    </tr>\n",
       "  </thead>\n",
       "  <tbody>\n",
       "    <tr>\n",
       "      <th>Uri: The Surgical Strike</th>\n",
       "      <td>Vicky Kaushal</td>\n",
       "    </tr>\n",
       "    <tr>\n",
       "      <th>Battalion 609</th>\n",
       "      <td>Vicky Ahuja</td>\n",
       "    </tr>\n",
       "    <tr>\n",
       "      <th>The Accidental Prime Minister (film)</th>\n",
       "      <td>Anupam Kher</td>\n",
       "    </tr>\n",
       "    <tr>\n",
       "      <th>Why Cheat India</th>\n",
       "      <td>Emraan Hashmi</td>\n",
       "    </tr>\n",
       "    <tr>\n",
       "      <th>Evening Shadows</th>\n",
       "      <td>Mona Ambegaonkar</td>\n",
       "    </tr>\n",
       "  </tbody>\n",
       "</table>\n",
       "</div>"
      ],
      "text/plain": [
       "                                                  lead\n",
       "movie                                                 \n",
       "Uri: The Surgical Strike                 Vicky Kaushal\n",
       "Battalion 609                              Vicky Ahuja\n",
       "The Accidental Prime Minister (film)       Anupam Kher\n",
       "Why Cheat India                          Emraan Hashmi\n",
       "Evening Shadows                       Mona Ambegaonkar"
      ]
     },
     "execution_count": 262,
     "metadata": {},
     "output_type": "execute_result"
    },
    {
     "data": {
      "text/html": [
       "<div>\n",
       "<style scoped>\n",
       "    .dataframe tbody tr th:only-of-type {\n",
       "        vertical-align: middle;\n",
       "    }\n",
       "\n",
       "    .dataframe tbody tr th {\n",
       "        vertical-align: top;\n",
       "    }\n",
       "\n",
       "    .dataframe thead th {\n",
       "        text-align: right;\n",
       "    }\n",
       "</style>\n",
       "<table border=\"1\" class=\"dataframe\">\n",
       "  <thead>\n",
       "    <tr style=\"text-align: right;\">\n",
       "      <th></th>\n",
       "      <th>lead</th>\n",
       "    </tr>\n",
       "    <tr>\n",
       "      <th>movie</th>\n",
       "      <th></th>\n",
       "    </tr>\n",
       "  </thead>\n",
       "  <tbody>\n",
       "    <tr>\n",
       "      <th>1920 (film)</th>\n",
       "      <td>Rajniesh Duggall</td>\n",
       "    </tr>\n",
       "    <tr>\n",
       "      <th>1920: London</th>\n",
       "      <td>Sharman Joshi</td>\n",
       "    </tr>\n",
       "    <tr>\n",
       "      <th>1920: The Evil Returns</th>\n",
       "      <td>Vicky Ahuja</td>\n",
       "    </tr>\n",
       "    <tr>\n",
       "      <th>1971 (2007 film)</th>\n",
       "      <td>Manoj Bajpayee</td>\n",
       "    </tr>\n",
       "    <tr>\n",
       "      <th>2 States (2014 film)</th>\n",
       "      <td>Arjun Kapoor</td>\n",
       "    </tr>\n",
       "  </tbody>\n",
       "</table>\n",
       "</div>"
      ],
      "text/plain": [
       "                                    lead\n",
       "movie                                   \n",
       "1920 (film)             Rajniesh Duggall\n",
       "1920: London               Sharman Joshi\n",
       "1920: The Evil Returns       Vicky Ahuja\n",
       "1971 (2007 film)          Manoj Bajpayee\n",
       "2 States (2014 film)        Arjun Kapoor"
      ]
     },
     "execution_count": 262,
     "metadata": {},
     "output_type": "execute_result"
    }
   ],
   "source": [
    "movies.head()\n",
    "movies.sort_index().head()\n",
    "# movies.sort_index(inplace=True) -> we can use this if we want to change the original data \n"
   ]
  },
  {
   "cell_type": "markdown",
   "id": "a782f748-83d5-4b8e-8cd3-fbad79c3bd85",
   "metadata": {},
   "source": [
    "# Some important mathematical functions"
   ]
  },
  {
   "cell_type": "markdown",
   "id": "200b3b5a-e7a3-4eb7-90f7-31088727f688",
   "metadata": {},
   "source": [
    "* `size` : it also counts the missing values\n",
    "* `count`: it does not count the missing values"
   ]
  },
  {
   "cell_type": "code",
   "execution_count": 274,
   "id": "01d392b0-1ee3-4a69-8828-262bac949c9a",
   "metadata": {},
   "outputs": [
    {
     "data": {
      "text/plain": [
       "215"
      ]
     },
     "execution_count": 274,
     "metadata": {},
     "output_type": "execute_result"
    },
    {
     "data": {
      "text/plain": [
       "215"
      ]
     },
     "execution_count": 274,
     "metadata": {},
     "output_type": "execute_result"
    }
   ],
   "source": [
    "kohli_runs_series.size\n",
    "kohli_runs_series.count()\n",
    "\n"
   ]
  },
  {
   "cell_type": "code",
   "execution_count": 279,
   "id": "65b40c74-cffa-43c2-96c4-3566f0b24309",
   "metadata": {},
   "outputs": [
    {
     "data": {
      "text/html": [
       "<div>\n",
       "<style scoped>\n",
       "    .dataframe tbody tr th:only-of-type {\n",
       "        vertical-align: middle;\n",
       "    }\n",
       "\n",
       "    .dataframe tbody tr th {\n",
       "        vertical-align: top;\n",
       "    }\n",
       "\n",
       "    .dataframe thead th {\n",
       "        text-align: right;\n",
       "    }\n",
       "</style>\n",
       "<table border=\"1\" class=\"dataframe\">\n",
       "  <thead>\n",
       "    <tr style=\"text-align: right;\">\n",
       "      <th></th>\n",
       "      <th>Subscribers gained</th>\n",
       "    </tr>\n",
       "  </thead>\n",
       "  <tbody>\n",
       "    <tr>\n",
       "      <th>0</th>\n",
       "      <td>48</td>\n",
       "    </tr>\n",
       "    <tr>\n",
       "      <th>1</th>\n",
       "      <td>57</td>\n",
       "    </tr>\n",
       "    <tr>\n",
       "      <th>2</th>\n",
       "      <td>40</td>\n",
       "    </tr>\n",
       "    <tr>\n",
       "      <th>3</th>\n",
       "      <td>43</td>\n",
       "    </tr>\n",
       "    <tr>\n",
       "      <th>4</th>\n",
       "      <td>44</td>\n",
       "    </tr>\n",
       "  </tbody>\n",
       "</table>\n",
       "</div>"
      ],
      "text/plain": [
       "   Subscribers gained\n",
       "0                  48\n",
       "1                  57\n",
       "2                  40\n",
       "3                  43\n",
       "4                  44"
      ]
     },
     "execution_count": 279,
     "metadata": {},
     "output_type": "execute_result"
    },
    {
     "data": {
      "text/plain": [
       "Subscribers gained    49510\n",
       "dtype: int64"
      ]
     },
     "execution_count": 279,
     "metadata": {},
     "output_type": "execute_result"
    }
   ],
   "source": [
    "subs.head()\n",
    "subs.sum()"
   ]
  },
  {
   "cell_type": "code",
   "execution_count": 281,
   "id": "1c6ae5a9-c1d6-49b5-8bd1-5cc4ebc7c99d",
   "metadata": {},
   "outputs": [
    {
     "data": {
      "text/plain": [
       "Subscribers gained    135.643836\n",
       "dtype: float64"
      ]
     },
     "execution_count": 281,
     "metadata": {},
     "output_type": "execute_result"
    }
   ],
   "source": [
    "subs.mean()"
   ]
  },
  {
   "cell_type": "code",
   "execution_count": 291,
   "id": "2b19b25d-1b4e-4158-bd81-3f22fc0f1739",
   "metadata": {},
   "outputs": [
    {
     "data": {
      "text/plain": [
       "24.0"
      ]
     },
     "execution_count": 291,
     "metadata": {},
     "output_type": "execute_result"
    },
    {
     "data": {
      "text/html": [
       "<div>\n",
       "<style scoped>\n",
       "    .dataframe tbody tr th:only-of-type {\n",
       "        vertical-align: middle;\n",
       "    }\n",
       "\n",
       "    .dataframe tbody tr th {\n",
       "        vertical-align: top;\n",
       "    }\n",
       "\n",
       "    .dataframe thead th {\n",
       "        text-align: right;\n",
       "    }\n",
       "</style>\n",
       "<table border=\"1\" class=\"dataframe\">\n",
       "  <thead>\n",
       "    <tr style=\"text-align: right;\">\n",
       "      <th></th>\n",
       "      <th>lead</th>\n",
       "    </tr>\n",
       "  </thead>\n",
       "  <tbody>\n",
       "    <tr>\n",
       "      <th>0</th>\n",
       "      <td>Akshay Kumar</td>\n",
       "    </tr>\n",
       "  </tbody>\n",
       "</table>\n",
       "</div>"
      ],
      "text/plain": [
       "           lead\n",
       "0  Akshay Kumar"
      ]
     },
     "execution_count": 291,
     "metadata": {},
     "output_type": "execute_result"
    }
   ],
   "source": [
    "kohli_ipl['runs'].median()\n",
    "movies.mode()\n"
   ]
  },
  {
   "cell_type": "code",
   "execution_count": 295,
   "id": "a6d52c26-cf6a-435c-aa7e-99ea6c22629d",
   "metadata": {},
   "outputs": [
    {
     "data": {
      "text/plain": [
       "113"
      ]
     },
     "execution_count": 295,
     "metadata": {},
     "output_type": "execute_result"
    },
    {
     "data": {
      "text/plain": [
       "0"
      ]
     },
     "execution_count": 295,
     "metadata": {},
     "output_type": "execute_result"
    }
   ],
   "source": [
    "kohli_ipl['runs'].max()\n",
    "kohli_ipl['runs'].min()\n"
   ]
  },
  {
   "cell_type": "code",
   "execution_count": 297,
   "id": "725d5a33-1272-4878-abc9-3574d486abae",
   "metadata": {},
   "outputs": [
    {
     "data": {
      "text/plain": [
       "count    215.000000\n",
       "mean      30.855814\n",
       "std       26.229801\n",
       "min        0.000000\n",
       "25%        9.000000\n",
       "50%       24.000000\n",
       "75%       48.000000\n",
       "max      113.000000\n",
       "Name: runs, dtype: float64"
      ]
     },
     "execution_count": 297,
     "metadata": {},
     "output_type": "execute_result"
    }
   ],
   "source": [
    "kohli_ipl['runs'].describe()\n"
   ]
  },
  {
   "cell_type": "markdown",
   "id": "6b7a141b-834b-4e6b-be2e-6d02fc036672",
   "metadata": {},
   "source": [
    "# Series Indexing "
   ]
  },
  {
   "cell_type": "code",
   "execution_count": 306,
   "id": "8d0ee755-b1c9-4be8-a6ec-b9986e09c57f",
   "metadata": {},
   "outputs": [
    {
     "data": {
      "text/plain": [
       "0     12\n",
       "1     12\n",
       "2      3\n",
       "3     34\n",
       "4     43\n",
       "5    234\n",
       "6     35\n",
       "7     32\n",
       "8     34\n",
       "dtype: int64"
      ]
     },
     "execution_count": 306,
     "metadata": {},
     "output_type": "execute_result"
    }
   ],
   "source": [
    "x = pd.Series([12,12,3,34,43,234,35,32,34])\n",
    "x"
   ]
  },
  {
   "cell_type": "markdown",
   "id": "aa4e9652-701c-4bae-b7d0-c7baa7fc961d",
   "metadata": {},
   "source": [
    "## Editing an item in series "
   ]
  },
  {
   "cell_type": "code",
   "execution_count": 309,
   "id": "cc958b91-24a5-407d-8c10-2855e5b250eb",
   "metadata": {},
   "outputs": [
    {
     "name": "stdout",
     "output_type": "stream",
     "text": [
      "Before editing:\n",
      "maths      78\n",
      "english    76\n",
      "science    79\n",
      "dtype: int64\n"
     ]
    }
   ],
   "source": [
    "data = {'maths': 78, 'english': 76, 'science': 79}\n",
    "marks_series = pd.Series(data)\n",
    "print(\"Before editing:\")\n",
    "print(marks_series)"
   ]
  },
  {
   "cell_type": "code",
   "execution_count": 311,
   "id": "2b3dcd21-ff99-4d14-9b1a-178f24b9e6a0",
   "metadata": {},
   "outputs": [
    {
     "name": "stdout",
     "output_type": "stream",
     "text": [
      "\n",
      "After editing by label:\n",
      "maths      78\n",
      "english    85\n",
      "science    79\n",
      "dtype: int64\n"
     ]
    }
   ],
   "source": [
    "marks_series['english'] = 85\n",
    "print(\"\\nAfter editing by label:\")\n",
    "print(marks_series)\n"
   ]
  },
  {
   "cell_type": "code",
   "execution_count": null,
   "id": "d4f82e54-a13a-4ea9-80e5-2f39296ab9ec",
   "metadata": {},
   "outputs": [],
   "source": []
  }
 ],
 "metadata": {
  "kernelspec": {
   "display_name": "Python 3 (ipykernel)",
   "language": "python",
   "name": "python3"
  },
  "language_info": {
   "codemirror_mode": {
    "name": "ipython",
    "version": 3
   },
   "file_extension": ".py",
   "mimetype": "text/x-python",
   "name": "python",
   "nbconvert_exporter": "python",
   "pygments_lexer": "ipython3",
   "version": "3.12.4"
  }
 },
 "nbformat": 4,
 "nbformat_minor": 5
}
