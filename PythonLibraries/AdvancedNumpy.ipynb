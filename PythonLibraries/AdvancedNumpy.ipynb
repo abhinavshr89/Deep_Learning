{
 "cells": [
  {
   "cell_type": "markdown",
   "id": "acabbf70-e9c0-420d-bf22-4d8111a7d04a",
   "metadata": {},
   "source": [
    "# Numpy arrays vs Lists "
   ]
  },
  {
   "cell_type": "code",
   "execution_count": 45,
   "id": "90d8a3a2-5760-4ece-8378-c87827c242e2",
   "metadata": {},
   "outputs": [],
   "source": [
    "from IPython.core.interactiveshell import InteractiveShell\n",
    "InteractiveShell.ast_node_interactivity = \"all\""
   ]
  },
  {
   "cell_type": "code",
   "execution_count": 46,
   "id": "fc5a0f79-dad7-4fd0-90fd-d0d662d86a86",
   "metadata": {},
   "outputs": [
    {
     "name": "stdout",
     "output_type": "stream",
     "text": [
      "6.502791166305542\n"
     ]
    }
   ],
   "source": [
    "# speed\n",
    "# list\n",
    "a = [i for i in range(10000000)]\n",
    "b = [i for i in range(10000000,20000000)]\n",
    "\n",
    "c = []\n",
    "import time \n",
    "\n",
    "start = time.time()\n",
    "for i in range(len(a)):\n",
    "  c.append(a[i] + b[i])\n",
    "print(time.time()-start)"
   ]
  },
  {
   "cell_type": "code",
   "execution_count": 47,
   "id": "2dd85134-31e1-4db8-964e-e7cf6fcbe394",
   "metadata": {},
   "outputs": [
    {
     "name": "stdout",
     "output_type": "stream",
     "text": [
      "0.15894794464111328\n"
     ]
    }
   ],
   "source": [
    "# numpy\n",
    "import numpy as np\n",
    "a = np.arange(10000000)\n",
    "b = np.arange(10000000,20000000)\n",
    "\n",
    "start = time.time()\n",
    "c = a + b\n",
    "print(time.time()-start)"
   ]
  },
  {
   "cell_type": "markdown",
   "id": "5ed276c2-e61d-4cf5-ac2e-2dfe6e172a77",
   "metadata": {},
   "source": [
    "# Advanced Indexing "
   ]
  },
  {
   "cell_type": "code",
   "execution_count": 49,
   "id": "9cb7d474-e684-45fa-939a-c5d2810273a6",
   "metadata": {},
   "outputs": [
    {
     "data": {
      "text/plain": [
       "array([[ 0,  1,  2],\n",
       "       [ 3,  4,  5],\n",
       "       [ 6,  7,  8],\n",
       "       [ 9, 10, 11]])"
      ]
     },
     "execution_count": 49,
     "metadata": {},
     "output_type": "execute_result"
    }
   ],
   "source": [
    "# Normal Indexing and Slicing \n",
    "a = np.arange(12).reshape(4,3)\n",
    "a"
   ]
  },
  {
   "cell_type": "code",
   "execution_count": 50,
   "id": "81b9c49c-5f5b-4aaf-8e04-ba278da1d9ba",
   "metadata": {},
   "outputs": [
    {
     "data": {
      "text/plain": [
       "array([[4, 5],\n",
       "       [7, 8]])"
      ]
     },
     "execution_count": 50,
     "metadata": {},
     "output_type": "execute_result"
    }
   ],
   "source": [
    "a[1:3,1:3]"
   ]
  },
  {
   "cell_type": "markdown",
   "id": "9dbdc24f-6285-4c82-ab69-ca716e7ab8fe",
   "metadata": {},
   "source": [
    "### Fancy Indexing "
   ]
  },
  {
   "cell_type": "code",
   "execution_count": 52,
   "id": "e0ba108d-3df5-4f35-a35e-3b43e929f882",
   "metadata": {},
   "outputs": [
    {
     "data": {
      "text/plain": [
       "array([[ 0,  1,  2],\n",
       "       [ 3,  4,  5],\n",
       "       [ 6,  7,  8],\n",
       "       [ 9, 10, 11]])"
      ]
     },
     "execution_count": 52,
     "metadata": {},
     "output_type": "execute_result"
    },
    {
     "data": {
      "text/plain": [
       "array([[ 0,  1,  2],\n",
       "       [ 6,  7,  8],\n",
       "       [ 9, 10, 11]])"
      ]
     },
     "execution_count": 52,
     "metadata": {},
     "output_type": "execute_result"
    }
   ],
   "source": [
    "a\n",
    "a[[0,2,3]] # This is how we got the 0th , 2nd and the 3rd row "
   ]
  },
  {
   "cell_type": "markdown",
   "id": "a90fb7e2-a8aa-4940-9506-ea0a0c621689",
   "metadata": {},
   "source": [
    "* If we wanted 1st and 3rd row we could get it using slicing but in case we want 1st , 3rd and 4th row there is no pattern here in this case we need to use fancy indexing\n",
    "* In case of fancy indexing we just pass whatever rows we need in the form of a list  "
   ]
  },
  {
   "cell_type": "markdown",
   "id": "c868daff-1e9b-44eb-8692-7140c4b4fd21",
   "metadata": {},
   "source": [
    "# Boolean Indexing\n",
    "\n"
   ]
  },
  {
   "cell_type": "code",
   "execution_count": 55,
   "id": "a9954e51-1ccd-401d-a618-dab42dcb6bc9",
   "metadata": {},
   "outputs": [
    {
     "data": {
      "text/plain": [
       "array([[57, 49, 88, 42],\n",
       "       [90,  6, 65, 39],\n",
       "       [11, 30, 73,  3],\n",
       "       [48,  2,  2, 98],\n",
       "       [79, 33, 52, 21],\n",
       "       [ 2, 47, 36, 47]])"
      ]
     },
     "execution_count": 55,
     "metadata": {},
     "output_type": "execute_result"
    }
   ],
   "source": [
    "a = np.random.randint(1,100,24).reshape(6,4)\n",
    "a"
   ]
  },
  {
   "cell_type": "markdown",
   "id": "b941672c-9dc9-4c9e-813e-7a2207ebad6f",
   "metadata": {},
   "source": [
    "#### filtering using boolean indexing"
   ]
  },
  {
   "cell_type": "code",
   "execution_count": 57,
   "id": "ff28c12d-ee7d-4e37-abb2-263d27291f10",
   "metadata": {},
   "outputs": [
    {
     "data": {
      "text/plain": [
       "array([[ True, False,  True, False],\n",
       "       [ True, False,  True, False],\n",
       "       [False, False,  True, False],\n",
       "       [False, False, False,  True],\n",
       "       [ True, False,  True, False],\n",
       "       [False, False, False, False]])"
      ]
     },
     "execution_count": 57,
     "metadata": {},
     "output_type": "execute_result"
    },
    {
     "data": {
      "text/plain": [
       "array([57, 88, 90, 65, 73, 98, 79, 52])"
      ]
     },
     "execution_count": 57,
     "metadata": {},
     "output_type": "execute_result"
    }
   ],
   "source": [
    "# find all the numbers greater than 60\n",
    "a>50\n",
    "a[a>50] # filtering data by using the boolean array as a mask"
   ]
  },
  {
   "cell_type": "code",
   "execution_count": 58,
   "id": "2e2bef0a-75d1-4dce-9477-74cf0021ea80",
   "metadata": {},
   "outputs": [
    {
     "data": {
      "text/plain": [
       "array([88, 42, 90,  6, 30, 48,  2,  2, 98, 52,  2, 36])"
      ]
     },
     "execution_count": 58,
     "metadata": {},
     "output_type": "execute_result"
    }
   ],
   "source": [
    "# find out even numbers \n",
    "a[a%2==0]"
   ]
  },
  {
   "cell_type": "code",
   "execution_count": 59,
   "id": "d52fb5e9-f91a-44ce-829e-b300031cf6d8",
   "metadata": {},
   "outputs": [
    {
     "data": {
      "text/plain": [
       "array([88, 90, 98, 52])"
      ]
     },
     "execution_count": 59,
     "metadata": {},
     "output_type": "execute_result"
    }
   ],
   "source": [
    "# find all numbers that are greater than 50 and also even\n",
    "a[(a>50) & (a%2==0)]"
   ]
  },
  {
   "cell_type": "code",
   "execution_count": 60,
   "id": "050cb643-5c77-4d8f-9f9c-afe92f79e422",
   "metadata": {},
   "outputs": [
    {
     "data": {
      "text/plain": [
       "array([57, 88, 90,  6, 65, 39, 11, 30, 73,  3, 48,  2,  2, 79, 33, 52,  2,\n",
       "       47, 36, 47])"
      ]
     },
     "execution_count": 60,
     "metadata": {},
     "output_type": "execute_result"
    }
   ],
   "source": [
    "# find all numbers that are not divisible by 7\n",
    "a[~(a%7==0)]"
   ]
  },
  {
   "cell_type": "markdown",
   "id": "0b971e20-d29d-45a9-8ab2-ae4a99072154",
   "metadata": {},
   "source": [
    "# Broadcasting "
   ]
  },
  {
   "cell_type": "markdown",
   "id": "1dbadd83-6c52-4987-8274-bcba4cf9b669",
   "metadata": {},
   "source": [
    "* The term broadcasting describes how NumPy treates different shapes during arithemtic operations\n",
    "* The smaller array is `broadcast` across the larger so that they have compatible shapes "
   ]
  },
  {
   "cell_type": "code",
   "execution_count": 63,
   "id": "06a6a6fa-958d-4512-aa8f-d84d2d2f8d17",
   "metadata": {},
   "outputs": [],
   "source": [
    "import numpy as np"
   ]
  },
  {
   "cell_type": "code",
   "execution_count": 65,
   "id": "159ea375-96e6-4d0b-981e-60fdf2051e42",
   "metadata": {},
   "outputs": [
    {
     "data": {
      "text/plain": [
       "array([[0, 1, 2],\n",
       "       [3, 4, 5]])"
      ]
     },
     "execution_count": 65,
     "metadata": {},
     "output_type": "execute_result"
    },
    {
     "data": {
      "text/plain": [
       "array([[ 6,  7,  8],\n",
       "       [ 9, 10, 11]])"
      ]
     },
     "execution_count": 65,
     "metadata": {},
     "output_type": "execute_result"
    },
    {
     "data": {
      "text/plain": [
       "array([[ 6,  8, 10],\n",
       "       [12, 14, 16]])"
      ]
     },
     "execution_count": 65,
     "metadata": {},
     "output_type": "execute_result"
    }
   ],
   "source": [
    "# same shape \n",
    "a = np.arange(6).reshape(2,3)\n",
    "b = np.arange(6,12).reshape(2,3)\n",
    "a\n",
    "b\n",
    "a+b"
   ]
  },
  {
   "cell_type": "code",
   "execution_count": 66,
   "id": "6de1d76a-a3d6-48cf-aa2e-356249b65523",
   "metadata": {},
   "outputs": [
    {
     "data": {
      "text/plain": [
       "array([[0, 1, 2],\n",
       "       [3, 4, 5]])"
      ]
     },
     "execution_count": 66,
     "metadata": {},
     "output_type": "execute_result"
    },
    {
     "data": {
      "text/plain": [
       "array([[0, 1, 2]])"
      ]
     },
     "execution_count": 66,
     "metadata": {},
     "output_type": "execute_result"
    },
    {
     "data": {
      "text/plain": [
       "array([[0, 2, 4],\n",
       "       [3, 5, 7]])"
      ]
     },
     "execution_count": 66,
     "metadata": {},
     "output_type": "execute_result"
    }
   ],
   "source": [
    "# diff shape \n",
    "a = np.arange(6).reshape(2,3)\n",
    "b = np.arange(3).reshape(1,3)\n",
    "a\n",
    "b\n",
    "a+b"
   ]
  },
  {
   "cell_type": "markdown",
   "id": "e2664a2e-1325-456e-ab38-d2dfe4147957",
   "metadata": {},
   "source": [
    "* array([[0+0, 1+1, 2+2], \r\n",
    "       [3, 4, 5]])"
   ]
  },
  {
   "cell_type": "markdown",
   "id": "9b2b97fa-3833-49cc-8543-dd26d198bf3d",
   "metadata": {},
   "source": [
    "**1. Make the two arrays have the same number of dimensions.**\n",
    "* If the numbers of dimensions of the two arrays are different, add new dimensions with size 1 to the head of the array with the smaller dimension.\n",
    "aised."
   ]
  },
  {
   "cell_type": "markdown",
   "id": "8f65ff19-3df6-4a2a-89f4-bab52a429132",
   "metadata": {},
   "source": [
    "**2. Make each dimension of the two arrays the same size.**\n",
    "* If the sizes of each dimension of the two arrays do not match, dimensions with size 1 are stretched to the size of the other array.\n",
    "* If there is a dimension whose size is not 1 in either of the two arrays, it cannot be broadcasted, and an error is raised.\n"
   ]
  },
  {
   "attachments": {
    "69318ca2-4111-4c95-b866-de7da2907c67.png": {
     "image/png": "[encoded data removed]"
    }
   },
   "cell_type": "markdown",
   "id": "d31df370-9fa3-4596-a3a4-8778b7b49871",
   "metadata": {},
   "source": [
    "![image.png](attachment:69318ca2-4111-4c95-b866-de7da2907c67.png)"
   ]
  },
  {
   "cell_type": "code",
   "execution_count": 90,
   "id": "606ef5f8-ea09-4bd3-98a3-1d7b9d326c79",
   "metadata": {},
   "outputs": [
    {
     "data": {
      "text/plain": [
       "array([[ 0,  1,  2],\n",
       "       [ 3,  4,  5],\n",
       "       [ 6,  7,  8],\n",
       "       [ 9, 10, 11]])"
      ]
     },
     "execution_count": 90,
     "metadata": {},
     "output_type": "execute_result"
    },
    {
     "data": {
      "text/plain": [
       "array([0, 1, 2])"
      ]
     },
     "execution_count": 90,
     "metadata": {},
     "output_type": "execute_result"
    },
    {
     "data": {
      "text/plain": [
       "array([[ 0,  2,  4],\n",
       "       [ 3,  5,  7],\n",
       "       [ 6,  8, 10],\n",
       "       [ 9, 11, 13]])"
      ]
     },
     "execution_count": 90,
     "metadata": {},
     "output_type": "execute_result"
    }
   ],
   "source": [
    "# More examples\n",
    "\n",
    "a = np.arange(12).reshape(4,3)\n",
    "b = np.arange(3)\n",
    "\n",
    "a\n",
    "b \n",
    "a+b"
   ]
  },
  {
   "cell_type": "code",
   "execution_count": null,
   "id": "edf87846-aa78-4540-92b4-e5dd10947318",
   "metadata": {},
   "outputs": [],
   "source": []
  },
  {
   "cell_type": "code",
   "execution_count": null,
   "id": "2067c3cd-cc46-49e5-86ad-a081df1a3ffc",
   "metadata": {},
   "outputs": [],
   "source": []
  }
 ],
 "metadata": {
  "kernelspec": {
   "display_name": "Python 3 (ipykernel)",
   "language": "python",
   "name": "python3"
  },
  "language_info": {
   "codemirror_mode": {
    "name": "ipython",
    "version": 3
   },
   "file_extension": ".py",
   "mimetype": "text/x-python",
   "name": "python",
   "nbconvert_exporter": "python",
   "pygments_lexer": "ipython3",
   "version": "3.12.4"
  }
 },
 "nbformat": 4,
 "nbformat_minor": 5
}
