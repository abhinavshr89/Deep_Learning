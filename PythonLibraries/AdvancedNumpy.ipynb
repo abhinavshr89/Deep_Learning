{
 "cells": [
  {
   "cell_type": "markdown",
   "id": "acabbf70-e9c0-420d-bf22-4d8111a7d04a",
   "metadata": {},
   "source": [
    "# Numpy arrays vs Lists "
   ]
  },
  {
   "cell_type": "code",
   "execution_count": 5,
   "id": "fc5a0f79-dad7-4fd0-90fd-d0d662d86a86",
   "metadata": {},
   "outputs": [
    {
     "name": "stdout",
     "output_type": "stream",
     "text": [
      "1.7085316181182861\n"
     ]
    }
   ],
   "source": [
    "# speed\n",
    "# list\n",
    "a = [i for i in range(10000000)]\n",
    "b = [i for i in range(10000000,20000000)]\n",
    "\n",
    "c = []\n",
    "import time \n",
    "\n",
    "start = time.time()\n",
    "for i in range(len(a)):\n",
    "  c.append(a[i] + b[i])\n",
    "print(time.time()-start)"
   ]
  },
  {
   "cell_type": "code",
   "execution_count": 6,
   "id": "2dd85134-31e1-4db8-964e-e7cf6fcbe394",
   "metadata": {},
   "outputs": [
    {
     "name": "stdout",
     "output_type": "stream",
     "text": [
      "0.15777039527893066\n"
     ]
    }
   ],
   "source": [
    "# numpy\n",
    "import numpy as np\n",
    "a = np.arange(10000000)\n",
    "b = np.arange(10000000,20000000)\n",
    "\n",
    "start = time.time()\n",
    "c = a + b\n",
    "print(time.time()-start)"
   ]
  },
  {
   "cell_type": "markdown",
   "id": "5ed276c2-e61d-4cf5-ac2e-2dfe6e172a77",
   "metadata": {},
   "source": [
    "# Advanced Indexing "
   ]
  },
  {
   "cell_type": "code",
   "execution_count": 9,
   "id": "9cb7d474-e684-45fa-939a-c5d2810273a6",
   "metadata": {},
   "outputs": [
    {
     "data": {
      "text/plain": [
       "array([[ 0,  1,  2],\n",
       "       [ 3,  4,  5],\n",
       "       [ 6,  7,  8],\n",
       "       [ 9, 10, 11]])"
      ]
     },
     "execution_count": 9,
     "metadata": {},
     "output_type": "execute_result"
    }
   ],
   "source": [
    "# Normal Indexing and Slicing \n",
    "a = np.arange(12).reshape(4,3)\n",
    "a"
   ]
  },
  {
   "cell_type": "code",
   "execution_count": 11,
   "id": "81b9c49c-5f5b-4aaf-8e04-ba278da1d9ba",
   "metadata": {},
   "outputs": [
    {
     "data": {
      "text/plain": [
       "array([[4, 5],\n",
       "       [7, 8]])"
      ]
     },
     "execution_count": 11,
     "metadata": {},
     "output_type": "execute_result"
    }
   ],
   "source": [
    "a[1:3,1:3]"
   ]
  },
  {
   "cell_type": "markdown",
   "id": "9dbdc24f-6285-4c82-ab69-ca716e7ab8fe",
   "metadata": {},
   "source": [
    "### Fancy Indexing "
   ]
  },
  {
   "cell_type": "code",
   "execution_count": 24,
   "id": "e0ba108d-3df5-4f35-a35e-3b43e929f882",
   "metadata": {},
   "outputs": [
    {
     "data": {
      "text/plain": [
       "array([[ 0,  1,  2],\n",
       "       [ 3,  4,  5],\n",
       "       [ 6,  7,  8],\n",
       "       [ 9, 10, 11]])"
      ]
     },
     "execution_count": 24,
     "metadata": {},
     "output_type": "execute_result"
    },
    {
     "data": {
      "text/plain": [
       "array([[ 0,  1,  2],\n",
       "       [ 6,  7,  8],\n",
       "       [ 9, 10, 11]])"
      ]
     },
     "execution_count": 24,
     "metadata": {},
     "output_type": "execute_result"
    }
   ],
   "source": [
    "a\n",
    "a[[0,2,3]] "
   ]
  },
  {
   "cell_type": "markdown",
   "id": "a90fb7e2-a8aa-4940-9506-ea0a0c621689",
   "metadata": {},
   "source": [
    "* If we wanted 1st and 3rd row we could get it using slicing but in case we want 1st , 3rd and 4th row there is no pattern here in this case we need to use fancy indexing\n",
    "* In case of fancy indexing we just pass whatever rows we need in the form of a list  "
   ]
  },
  {
   "cell_type": "markdown",
   "id": "c868daff-1e9b-44eb-8692-7140c4b4fd21",
   "metadata": {},
   "source": [
    "# Boolean Indexing\n",
    "\n"
   ]
  },
  {
   "cell_type": "code",
   "execution_count": 29,
   "id": "a9954e51-1ccd-401d-a618-dab42dcb6bc9",
   "metadata": {},
   "outputs": [
    {
     "data": {
      "text/plain": [
       "array([[92,  6, 88, 17],\n",
       "       [33, 78, 90, 28],\n",
       "       [81, 81, 45,  1],\n",
       "       [14,  6, 21, 37],\n",
       "       [86,  1, 11, 31],\n",
       "       [39, 34, 71, 72]])"
      ]
     },
     "execution_count": 29,
     "metadata": {},
     "output_type": "execute_result"
    }
   ],
   "source": [
    "a = np.random.randint(1,100,24).reshape(6,4)\n",
    "a"
   ]
  },
  {
   "cell_type": "markdown",
   "id": "b941672c-9dc9-4c9e-813e-7a2207ebad6f",
   "metadata": {},
   "source": [
    "#### filtering using boolean indexing"
   ]
  },
  {
   "cell_type": "code",
   "execution_count": 45,
   "id": "ff28c12d-ee7d-4e37-abb2-263d27291f10",
   "metadata": {},
   "outputs": [
    {
     "data": {
      "text/plain": [
       "array([[ True, False,  True, False],\n",
       "       [False,  True,  True, False],\n",
       "       [ True,  True, False, False],\n",
       "       [False, False, False, False],\n",
       "       [ True, False, False, False],\n",
       "       [False, False,  True,  True]])"
      ]
     },
     "execution_count": 45,
     "metadata": {},
     "output_type": "execute_result"
    },
    {
     "data": {
      "text/plain": [
       "array([92, 88, 78, 90, 81, 81, 86, 71, 72])"
      ]
     },
     "execution_count": 45,
     "metadata": {},
     "output_type": "execute_result"
    }
   ],
   "source": [
    "# find all the numbers greater than 60\n",
    "a>50\n",
    "a[a>50] # filtering data by using the boolean array as a mask"
   ]
  },
  {
   "cell_type": "code",
   "execution_count": 46,
   "id": "2e2bef0a-75d1-4dce-9477-74cf0021ea80",
   "metadata": {},
   "outputs": [
    {
     "data": {
      "text/plain": [
       "array([92,  6, 88, 78, 90, 28, 14,  6, 86, 34, 72])"
      ]
     },
     "execution_count": 46,
     "metadata": {},
     "output_type": "execute_result"
    }
   ],
   "source": [
    "# find out even numbers \n",
    "a[a%2==0]"
   ]
  },
  {
   "cell_type": "code",
   "execution_count": 47,
   "id": "d52fb5e9-f91a-44ce-829e-b300031cf6d8",
   "metadata": {},
   "outputs": [
    {
     "data": {
      "text/plain": [
       "array([92, 88, 78, 90, 86, 72])"
      ]
     },
     "execution_count": 47,
     "metadata": {},
     "output_type": "execute_result"
    }
   ],
   "source": [
    "# find all numbers that are greater than 50 and also even\n",
    "a[(a>50) & (a%2==0)]"
   ]
  },
  {
   "cell_type": "code",
   "execution_count": 55,
   "id": "050cb643-5c77-4d8f-9f9c-afe92f79e422",
   "metadata": {},
   "outputs": [
    {
     "data": {
      "text/plain": [
       "array([92,  6, 88, 17, 33, 78, 90, 81, 81, 45,  1,  6, 37, 86,  1, 11, 31,\n",
       "       39, 34, 71, 72])"
      ]
     },
     "execution_count": 55,
     "metadata": {},
     "output_type": "execute_result"
    }
   ],
   "source": [
    "# find all numbers that are not divisible by 7\n",
    "a[~(a%7==0)].size("
   ]
  },
  {
   "cell_type": "code",
   "execution_count": null,
   "id": "7fb467ef-602f-4ff1-942a-312fbe6f6d71",
   "metadata": {},
   "outputs": [],
   "source": []
  }
 ],
 "metadata": {
  "kernelspec": {
   "display_name": "Python 3 (ipykernel)",
   "language": "python",
   "name": "python3"
  },
  "language_info": {
   "codemirror_mode": {
    "name": "ipython",
    "version": 3
   },
   "file_extension": ".py",
   "mimetype": "text/x-python",
   "name": "python",
   "nbconvert_exporter": "python",
   "pygments_lexer": "ipython3",
   "version": "3.12.4"
  }
 },
 "nbformat": 4,
 "nbformat_minor": 5
}
