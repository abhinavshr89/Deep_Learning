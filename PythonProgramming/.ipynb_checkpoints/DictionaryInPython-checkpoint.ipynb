{
 "cells": [
  {
   "cell_type": "code",
   "execution_count": null,
   "id": "83fc4f0c-b43e-4ee8-8b85-c6491a73ca7d",
   "metadata": {},
   "outputs": [],
   "source": [
    "TypeError                                 Traceback (most recent call last)\n",
    "Cell In[34], line 3\n",
    "      1 keys = ['a', 'b', 'c']\n",
    "      2 values = [1, 2, 3]\n",
    "----> 3 my_dict = dict(zip(keys, values))\n",
    "      4 print(my_dict)\n",
    "\n",
    "TypeError: 'dict' object is not callable"
   ]
  }
 ],
 "metadata": {
  "kernelspec": {
   "display_name": "Python 3 (ipykernel)",
   "language": "python",
   "name": "python3"
  },
  "language_info": {
   "codemirror_mode": {
    "name": "ipython",
    "version": 3
   },
   "file_extension": ".py",
   "mimetype": "text/x-python",
   "name": "python",
   "nbconvert_exporter": "python",
   "pygments_lexer": "ipython3",
   "version": "3.12.4"
  }
 },
 "nbformat": 4,
 "nbformat_minor": 5
}
