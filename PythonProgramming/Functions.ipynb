{
 "cells": [
  {
   "cell_type": "code",
   "execution_count": 22,
   "id": "a20f0661-6f64-428c-9fc0-04f0fc458d2e",
   "metadata": {},
   "outputs": [
    {
     "name": "stdout",
     "output_type": "stream",
     "text": [
      "my name is Abhinav , I am 20 years\n"
     ]
    }
   ],
   "source": [
    "def func(name,age):\n",
    "    print(f\"my name is {name} , I am {age} years\")\n",
    "func(\"Abhinav\",20);"
   ]
  },
  {
   "cell_type": "code",
   "execution_count": 42,
   "id": "a4b57365-2877-4f45-86a4-76c0d0c13d45",
   "metadata": {},
   "outputs": [
    {
     "name": "stdout",
     "output_type": "stream",
     "text": [
      "10 20 30 40 "
     ]
    }
   ],
   "source": [
    "# passing multiple arguments to a function\n",
    "def func(*args):\n",
    "    for i in args:\n",
    "        print(i,end=\" \")\n",
    "func(10,20,30,40)"
   ]
  },
  {
   "cell_type": "code",
   "execution_count": 20,
   "id": "44cea892-fe59-400e-a650-001d74565a85",
   "metadata": {},
   "outputs": [
    {
     "name": "stdout",
     "output_type": "stream",
     "text": [
      "add :  14\n",
      "sub :  6\n"
     ]
    }
   ],
   "source": [
    "# returning multiple values from a function \n",
    "def calc(a,b):\n",
    "    return a+b,a-b\n",
    "add , sub = calc(10,4)\n",
    "print(\"add : \", add)\n",
    "print(\"sub : \", sub)"
   ]
  },
  {
   "cell_type": "code",
   "execution_count": 44,
   "id": "e7ed2d27-5811-4042-a15c-40df2d500719",
   "metadata": {},
   "outputs": [
    {
     "name": "stdout",
     "output_type": "stream",
     "text": [
      "My name is Alice and I am 18 years old.\n",
      "My name is Bob and I am 25 years old.\n"
     ]
    }
   ],
   "source": [
    "# default argument\n",
    "def introduce(name, age=18):\n",
    "    print(f\"My name is {name} and I am {age} years old.\")\n",
    "\n",
    "introduce(\"Alice\")              \n",
    "introduce(\"Bob\", 25)            \n",
    "\n",
    "\n",
    "    "
   ]
  },
  {
   "cell_type": "code",
   "execution_count": 65,
   "id": "85a0f792-b1bb-492a-a675-61cb5792b8d1",
   "metadata": {},
   "outputs": [
    {
     "data": {
      "text/plain": [
       "30"
      ]
     },
     "execution_count": 65,
     "metadata": {},
     "output_type": "execute_result"
    }
   ],
   "source": [
    "# create an inner function to calculate the addition in the following way :\n",
    "# 1. create an outer function that will accept two parameters a and b \n",
    "# 2. create an inner function inside an outer function that will calculate the addition \n",
    "#    a and b at last outer function will add 5 into addition and return it \n",
    "\n",
    "def outer(a,b):\n",
    "    square = a**2\n",
    "    def inner(a,b):\n",
    "        return a+b\n",
    "    add = inner(a,b) \n",
    "    return add +5\n",
    "    \n",
    "\n",
    "outer(10,15)"
   ]
  },
  {
   "cell_type": "code",
   "execution_count": 67,
   "id": "620a3545-98a7-432c-8667-84d334b3c26b",
   "metadata": {},
   "outputs": [
    {
     "data": {
      "text/plain": [
       "120"
      ]
     },
     "execution_count": 67,
     "metadata": {},
     "output_type": "execute_result"
    }
   ],
   "source": [
    "def func(n):\n",
    "    if n == 0 :\n",
    "        return 1\n",
    "    return func(n-1)*n\n",
    "func(5)"
   ]
  },
  {
   "cell_type": "code",
   "execution_count": 73,
   "id": "cf2f3dac-b208-4ae8-9162-346d5956dbfc",
   "metadata": {},
   "outputs": [
    {
     "name": "stdout",
     "output_type": "stream",
     "text": [
      "Hello, Kid!\n"
     ]
    }
   ],
   "source": [
    "# assign a different name to a function and call it through the new name \n",
    "def greet(name):\n",
    "    print(f\"Hello, {name}!\")\n",
    "    \n",
    "say_hello = greet \n",
    "say_hello(\"Kid\") "
   ]
  },
  {
   "cell_type": "code",
   "execution_count": 93,
   "id": "dc6fd5fc-03ff-4ac6-98c3-6a7aa01ec946",
   "metadata": {},
   "outputs": [
    {
     "name": "stdout",
     "output_type": "stream",
     "text": [
      "10 12 14 16 18 20 22 24 26 28 30 32 34 36 38 40 42 44 46 48 \n",
      "\n",
      "48\n"
     ]
    }
   ],
   "source": [
    "# generate a list of all even numbers between 10 to 50\n",
    "def even(a,b):\n",
    "    even_list = []\n",
    "    for i in range(a,b):\n",
    "        if i % 2 == 0:\n",
    "            even_list.append(i)\n",
    "    return even_list\n",
    "\n",
    "even_list= even(10,50)\n",
    "for i in even_list:\n",
    "    print(i,end =\" \")\n",
    "print(\"\\n\")\n",
    "print(max(even_list))      "
   ]
  },
  {
   "cell_type": "code",
   "execution_count": null,
   "id": "3812880a-8370-4a31-862a-7b857ea526ea",
   "metadata": {},
   "outputs": [],
   "source": []
  }
 ],
 "metadata": {
  "kernelspec": {
   "display_name": "Python 3 (ipykernel)",
   "language": "python",
   "name": "python3"
  },
  "language_info": {
   "codemirror_mode": {
    "name": "ipython",
    "version": 3
   },
   "file_extension": ".py",
   "mimetype": "text/x-python",
   "name": "python",
   "nbconvert_exporter": "python",
   "pygments_lexer": "ipython3",
   "version": "3.12.4"
  }
 },
 "nbformat": 4,
 "nbformat_minor": 5
}
