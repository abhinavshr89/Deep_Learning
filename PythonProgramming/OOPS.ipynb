{
 "cells": [
  {
   "cell_type": "markdown",
   "id": "f2af7428-7e51-4bf9-b1e6-c2d3b73e80a5",
   "metadata": {},
   "source": [
    "# Object Oriented Programming "
   ]
  },
  {
   "cell_type": "markdown",
   "id": "43b5dcfb-90b2-4184-89dd-b9d219ecec5a",
   "metadata": {},
   "source": [
    "`class` : Class is a blueprint\n",
    "* class name should be in pascalCase\n",
    "* variable and method names should be in snake_case\n",
    "* functions inside class are called methods "
   ]
  },
  {
   "cell_type": "code",
   "execution_count": null,
   "id": "a6edd207-8f6b-4967-8c4e-e719e48a164f",
   "metadata": {},
   "outputs": [],
   "source": []
  },
  {
   "cell_type": "code",
   "execution_count": null,
   "id": "0ec801ad-3ade-4728-9024-4275f7a4cbf3",
   "metadata": {},
   "outputs": [],
   "source": []
  }
 ],
 "metadata": {
  "kernelspec": {
   "display_name": "Python 3 (ipykernel)",
   "language": "python",
   "name": "python3"
  },
  "language_info": {
   "codemirror_mode": {
    "name": "ipython",
    "version": 3
   },
   "file_extension": ".py",
   "mimetype": "text/x-python",
   "name": "python",
   "nbconvert_exporter": "python",
   "pygments_lexer": "ipython3",
   "version": "3.12.4"
  }
 },
 "nbformat": 4,
 "nbformat_minor": 5
}
