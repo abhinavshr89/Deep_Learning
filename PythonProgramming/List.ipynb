{
 "cells": [
  {
   "cell_type": "code",
   "execution_count": 2,
   "id": "f3cbb881-48c8-466c-9ee9-47f6f873eb70",
   "metadata": {},
   "outputs": [],
   "source": [
    "from IPython.core.interactiveshell import InteractiveShell\n",
    "InteractiveShell.ast_node_interactivity = \"all\""
   ]
  },
  {
   "cell_type": "markdown",
   "id": "8dbaa831-42e5-4fa7-81f9-e0b6faaa297a",
   "metadata": {},
   "source": [
    "## Accessing any particular index in a python List "
   ]
  },
  {
   "cell_type": "code",
   "execution_count": 4,
   "id": "6657d031-1c76-49bf-a661-0e6fb2950d64",
   "metadata": {},
   "outputs": [
    {
     "data": {
      "text/plain": [
       "[[1, 2, 3], [10, 8, 9]]"
      ]
     },
     "execution_count": 4,
     "metadata": {},
     "output_type": "execute_result"
    }
   ],
   "source": [
    "l1 =[[1,2,3],[8,9]]\n",
    "l1[1].insert(0,10)\n",
    "l1"
   ]
  },
  {
   "cell_type": "code",
   "execution_count": 5,
   "id": "3ab84fb8-a55e-4fa0-aa6d-fd31f9e4d90c",
   "metadata": {},
   "outputs": [
    {
     "data": {
      "text/plain": [
       "[300, 400, [5000, 6000], 500]"
      ]
     },
     "execution_count": 5,
     "metadata": {},
     "output_type": "execute_result"
    },
    {
     "data": {
      "text/plain": [
       "[5000, 6000]"
      ]
     },
     "execution_count": 5,
     "metadata": {},
     "output_type": "execute_result"
    },
    {
     "data": {
      "text/plain": [
       "[10, 20, [300, 400, [5000, 6000, 7000], 500], 30, 40]"
      ]
     },
     "execution_count": 5,
     "metadata": {},
     "output_type": "execute_result"
    },
    {
     "data": {
      "text/plain": [
       "30"
      ]
     },
     "execution_count": 5,
     "metadata": {},
     "output_type": "execute_result"
    }
   ],
   "source": [
    "list_1 =[10,20,[300,400,[5000,6000],500],30,40]\n",
    "list_1[2]\n",
    "list_1[2][2]\n",
    "list_1[2][2].append(7000) # we can also do list_1[2][2][2].insert(2,7000) here \n",
    "list_1\n",
    "list_1[3]"
   ]
  },
  {
   "cell_type": "code",
   "execution_count": 6,
   "id": "f45c67f1-c702-46ba-9588-a0976c01d473",
   "metadata": {},
   "outputs": [
    {
     "data": {
      "text/plain": [
       "['c', ['d', 'e', ['f', 'g'], 'k'], 'l']"
      ]
     },
     "execution_count": 6,
     "metadata": {},
     "output_type": "execute_result"
    },
    {
     "data": {
      "text/plain": [
       "['d', 'e', ['f', 'g'], 'k']"
      ]
     },
     "execution_count": 6,
     "metadata": {},
     "output_type": "execute_result"
    },
    {
     "data": {
      "text/plain": [
       "['f', 'g']"
      ]
     },
     "execution_count": 6,
     "metadata": {},
     "output_type": "execute_result"
    },
    {
     "data": {
      "text/plain": [
       "['a', 'b', ['c', ['d', 'e', ['f', 'g', 'h', 'i', 'j'], 'k'], 'l'], 'm', 'n']"
      ]
     },
     "execution_count": 6,
     "metadata": {},
     "output_type": "execute_result"
    }
   ],
   "source": [
    "list_2 =['a','b',['c',['d','e',['f','g'],'k'],'l'],'m','n']\n",
    "sub_list=['h','i','j']\n",
    "list_2[2]\n",
    "list_2[2][1]\n",
    "list_2[2][1][2]\n",
    "list_2[2][1][2].extend(sub_list)\n",
    "\n",
    "list_2"
   ]
  },
  {
   "cell_type": "markdown",
   "id": "06eadcd3-205a-42a5-8766-45b7b39071d0",
   "metadata": {},
   "source": [
    "### Finding the item in the list and if found updating the item "
   ]
  },
  {
   "cell_type": "code",
   "execution_count": 8,
   "id": "e2645c15-56db-4fd7-967d-8aa2fb600957",
   "metadata": {},
   "outputs": [
    {
     "name": "stdout",
     "output_type": "stream",
     "text": [
      "[1, 3, 20, 10]\n",
      "Item 7 not found in the list\n"
     ]
    }
   ],
   "source": [
    "list_3 = [1, 3, 4, 10]\n",
    "\n",
    "def find_and_replace(lst, item_to_find, item_to_replace):\n",
    "    if item_to_find in lst:\n",
    "        index = lst.index(item_to_find) \n",
    "        lst[index] = item_to_replace  \n",
    "    else:\n",
    "        print(f\"Item {item_to_find} not found in the list\")\n",
    "\n",
    "\n",
    "find_and_replace(list_3, 4, 20)  \n",
    "print(list_3)  \n",
    "\n",
    "find_and_replace(list_3, 7, 15) \n",
    "\n"
   ]
  },
  {
   "cell_type": "markdown",
   "id": "cb01a68d-e690-459c-853d-8ad9136a5a4c",
   "metadata": {},
   "source": [
    "### Remove all occurence of specific item in the list "
   ]
  },
  {
   "cell_type": "code",
   "execution_count": 10,
   "id": "4acf7487-2e2e-4c9b-95c3-5c1a6a1e6cda",
   "metadata": {},
   "outputs": [
    {
     "data": {
      "text/plain": [
       "[1, 4, 10, 4]"
      ]
     },
     "execution_count": 10,
     "metadata": {},
     "output_type": "execute_result"
    }
   ],
   "source": [
    "list_4 = [1, 3, 4, 10, 3, 4, 3]\n",
    "\n",
    "def remove_all(lst, item):\n",
    "    while item in lst:\n",
    "        lst.remove(item)\n",
    "\n",
    "\n",
    "remove_all(list_4, 3)\n",
    "list_4\n"
   ]
  },
  {
   "cell_type": "markdown",
   "id": "ca59a216-a3cd-44d1-b395-945401a572b3",
   "metadata": {},
   "source": [
    "# List slicing "
   ]
  },
  {
   "cell_type": "markdown",
   "id": "579b4409-4946-4b4a-8fe5-bf687b6d3813",
   "metadata": {},
   "source": [
    "**taking even indexed from list 2 and even indexing from the list 1 and appending in a new list**"
   ]
  },
  {
   "cell_type": "code",
   "execution_count": 23,
   "id": "07f1c1bd-9f81-420c-a86d-bd3b9b232226",
   "metadata": {},
   "outputs": [
    {
     "data": {
      "text/plain": [
       "[6, 12, 18]"
      ]
     },
     "execution_count": 23,
     "metadata": {},
     "output_type": "execute_result"
    },
    {
     "data": {
      "text/plain": [
       "[4, 12, 20, 28]"
      ]
     },
     "execution_count": 23,
     "metadata": {},
     "output_type": "execute_result"
    },
    {
     "data": {
      "text/plain": [
       "[6, 12, 18, 4, 12, 20, 28]"
      ]
     },
     "execution_count": 23,
     "metadata": {},
     "output_type": "execute_result"
    }
   ],
   "source": [
    "list_1 = [3,6,9,12,15,18,21]\n",
    "odd_indexed_values = list_1[1::2]\n",
    "odd_indexed_values\n",
    "\n",
    "list_2 = [4,8,12,16,20,24,28]\n",
    "even_indexed_values = list_2[0::2]\n",
    "even_indexed_values\n",
    "\n",
    "res =[]\n",
    "res.extend(odd_indexed_values)\n",
    "res.extend(even_indexed_values)\n",
    "res"
   ]
  },
  {
   "cell_type": "code",
   "execution_count": 52,
   "id": "9d11ea5d-f585-451b-9aa0-330cdacf1718",
   "metadata": {},
   "outputs": [
    {
     "data": {
      "text/plain": [
       "[34, 54, 67, 89, 11, 43, 94]"
      ]
     },
     "execution_count": 52,
     "metadata": {},
     "output_type": "execute_result"
    },
    {
     "data": {
      "text/plain": [
       "[34, 54, 67, 89, 43, 94]"
      ]
     },
     "execution_count": 52,
     "metadata": {},
     "output_type": "execute_result"
    },
    {
     "data": {
      "text/plain": [
       "11"
      ]
     },
     "execution_count": 52,
     "metadata": {},
     "output_type": "execute_result"
    },
    {
     "data": {
      "text/plain": [
       "[34, 54, 11, 67, 89, 43, 94]"
      ]
     },
     "execution_count": 52,
     "metadata": {},
     "output_type": "execute_result"
    }
   ],
   "source": [
    "list_one = [34,54,67,89,11,43,94] # remove element from index 2 \n",
    "list_one\n",
    "element = list_one.pop(4)\n",
    "list_one\n",
    "element\n",
    "list_one.insert(2,element)\n",
    "list_one\n"
   ]
  },
  {
   "cell_type": "markdown",
   "id": "337c8de2-8ecc-4d74-84b2-58d5a27e5567",
   "metadata": {},
   "source": [
    "### dividing list into chunks "
   ]
  },
  {
   "cell_type": "code",
   "execution_count": 66,
   "id": "283ee73b-d6b5-4aeb-a9bb-48e8e58ffc69",
   "metadata": {},
   "outputs": [
    {
     "name": "stdout",
     "output_type": "stream",
     "text": [
      "[[11, 45, 8], [23, 14, 12], [78, 45, 89]]\n"
     ]
    },
    {
     "data": {
      "text/plain": [
       "[[78, 45, 89], [23, 14, 12], [11, 45, 8]]"
      ]
     },
     "execution_count": 66,
     "metadata": {},
     "output_type": "execute_result"
    }
   ],
   "source": [
    "\n",
    "def divide_list(lst, chunk_size):\n",
    "    chunked_list = []\n",
    "    for i in range(0, len(lst), chunk_size):\n",
    "        chunked_list.append(lst[i:i + chunk_size])\n",
    "    return chunked_list\n",
    "    \n",
    "\n",
    "\n",
    "my_list = [11,45,8,23,14,12,78,45,89]\n",
    "\n",
    "# Divide the list into chunks of size 3\n",
    "chunked_list = divide_list(my_list, 3)\n",
    "\n",
    "# Display the result\n",
    "print(chunked_list)\n",
    "\n",
    "chunked_list[::-1]\n",
    "\n",
    "\n"
   ]
  },
  {
   "cell_type": "markdown",
   "id": "d4f2af70-cc8e-4719-af76-837e8c567f24",
   "metadata": {},
   "source": [
    "## Counting frequency in a list "
   ]
  },
  {
   "cell_type": "code",
   "execution_count": 78,
   "id": "13a7ec58-e490-4cdd-a403-3f7dc8d3a985",
   "metadata": {},
   "outputs": [
    {
     "data": {
      "text/plain": [
       "{1: 27, 2: 3, 3: 3, 4: 3, 5: 3, 6: 3, 7: 3, 8: 3, 9: 3, 10: 3}"
      ]
     },
     "execution_count": 78,
     "metadata": {},
     "output_type": "execute_result"
    }
   ],
   "source": [
    "freq_dict ={}\n",
    "repeating_list = [1, 2, 1, 3, 1, 4, 1, 5, 1, 6, 1, 7, 1, 8, 1, 9, 1, 10, \n",
    "                  1, 2, 1, 3, 1, 4, 1, 5, 1, 6, 1, 7, 1, 8, 1, 9, \n",
    "                  1, 10, 1, 2, 1, 3, 1, 4, 1, 5, 1, 6, 1, 7, 1, 8, \n",
    "                  1, 9, 1, 10]\n",
    "for item in repeating_list:\n",
    "    if item in freq_dict:\n",
    "        freq_dict[item] += 1\n",
    "    else:\n",
    "        freq_dict[item] = 1\n",
    "\n",
    "freq_dict"
   ]
  },
  {
   "cell_type": "markdown",
   "id": "48df9094-db9b-427c-a8c1-51fc5d9c7e1e",
   "metadata": {},
   "source": [
    "### making set on the basis of indexing of two lists"
   ]
  },
  {
   "cell_type": "code",
   "execution_count": 91,
   "id": "33246086-0613-4294-afa3-a9e7b35de010",
   "metadata": {},
   "outputs": [
    {
     "data": {
      "text/plain": [
       "{(2, 4), (3, 9), (4, 16), (5, 25), (6, 36), (7, 49), (8, 64)}"
      ]
     },
     "execution_count": 91,
     "metadata": {},
     "output_type": "execute_result"
    }
   ],
   "source": [
    "list_one = [2,3,4,5,6,7,8]\n",
    "list_two = [4,9,16,25,36,49,64]\n",
    "\n",
    "result = zip(list_one,list_two)\n",
    "my_set = set(result)\n",
    "my_set\n"
   ]
  },
  {
   "cell_type": "code",
   "execution_count": null,
   "id": "daa994b2-c0e5-4233-84c2-8f9af8fc98ce",
   "metadata": {},
   "outputs": [],
   "source": []
  }
 ],
 "metadata": {
  "kernelspec": {
   "display_name": "Python 3 (ipykernel)",
   "language": "python",
   "name": "python3"
  },
  "language_info": {
   "codemirror_mode": {
    "name": "ipython",
    "version": 3
   },
   "file_extension": ".py",
   "mimetype": "text/x-python",
   "name": "python",
   "nbconvert_exporter": "python",
   "pygments_lexer": "ipython3",
   "version": "3.12.4"
  }
 },
 "nbformat": 4,
 "nbformat_minor": 5
}
