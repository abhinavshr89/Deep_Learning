{
 "cells": [
  {
   "cell_type": "code",
   "execution_count": 68,
   "id": "f3cbb881-48c8-466c-9ee9-47f6f873eb70",
   "metadata": {},
   "outputs": [],
   "source": [
    "from IPython.core.interactiveshell import InteractiveShell\n",
    "InteractiveShell.ast_node_interactivity = \"all\""
   ]
  },
  {
   "cell_type": "markdown",
   "id": "8dbaa831-42e5-4fa7-81f9-e0b6faaa297a",
   "metadata": {},
   "source": [
    "## Accessing any particular index in a python List "
   ]
  },
  {
   "cell_type": "code",
   "execution_count": 70,
   "id": "6657d031-1c76-49bf-a661-0e6fb2950d64",
   "metadata": {},
   "outputs": [
    {
     "data": {
      "text/plain": [
       "[[1, 2, 3], [10, 8, 9]]"
      ]
     },
     "execution_count": 70,
     "metadata": {},
     "output_type": "execute_result"
    }
   ],
   "source": [
    "l1 =[[1,2,3],[8,9]]\n",
    "l1[1].insert(0,10)\n",
    "l1"
   ]
  },
  {
   "cell_type": "code",
   "execution_count": 71,
   "id": "3ab84fb8-a55e-4fa0-aa6d-fd31f9e4d90c",
   "metadata": {},
   "outputs": [
    {
     "data": {
      "text/plain": [
       "[300, 400, [5000, 6000], 500]"
      ]
     },
     "execution_count": 71,
     "metadata": {},
     "output_type": "execute_result"
    },
    {
     "data": {
      "text/plain": [
       "[5000, 6000]"
      ]
     },
     "execution_count": 71,
     "metadata": {},
     "output_type": "execute_result"
    },
    {
     "data": {
      "text/plain": [
       "[10, 20, [300, 400, [5000, 6000, 7000], 500], 30, 40]"
      ]
     },
     "execution_count": 71,
     "metadata": {},
     "output_type": "execute_result"
    },
    {
     "data": {
      "text/plain": [
       "30"
      ]
     },
     "execution_count": 71,
     "metadata": {},
     "output_type": "execute_result"
    }
   ],
   "source": [
    "list_1 =[10,20,[300,400,[5000,6000],500],30,40]\n",
    "list_1[2]\n",
    "list_1[2][2]\n",
    "list_1[2][2].append(7000) # we can also do list_1[2][2][2].insert(2,7000) here \n",
    "list_1\n",
    "list_1[3]"
   ]
  },
  {
   "cell_type": "code",
   "execution_count": 72,
   "id": "f45c67f1-c702-46ba-9588-a0976c01d473",
   "metadata": {},
   "outputs": [
    {
     "data": {
      "text/plain": [
       "['c', ['d', 'e', ['f', 'g'], 'k'], 'l']"
      ]
     },
     "execution_count": 72,
     "metadata": {},
     "output_type": "execute_result"
    },
    {
     "data": {
      "text/plain": [
       "['d', 'e', ['f', 'g'], 'k']"
      ]
     },
     "execution_count": 72,
     "metadata": {},
     "output_type": "execute_result"
    },
    {
     "data": {
      "text/plain": [
       "['f', 'g']"
      ]
     },
     "execution_count": 72,
     "metadata": {},
     "output_type": "execute_result"
    },
    {
     "data": {
      "text/plain": [
       "['a', 'b', ['c', ['d', 'e', ['f', 'g', 'h', 'i', 'j'], 'k'], 'l'], 'm', 'n']"
      ]
     },
     "execution_count": 72,
     "metadata": {},
     "output_type": "execute_result"
    }
   ],
   "source": [
    "list_2 =['a','b',['c',['d','e',['f','g'],'k'],'l'],'m','n']\n",
    "sub_list=['h','i','j']\n",
    "list_2[2]\n",
    "list_2[2][1]\n",
    "list_2[2][1][2]\n",
    "list_2[2][1][2].extend(sub_list)\n",
    "\n",
    "list_2"
   ]
  },
  {
   "cell_type": "markdown",
   "id": "06eadcd3-205a-42a5-8766-45b7b39071d0",
   "metadata": {},
   "source": [
    "### Finding the item in the list and if found updating the item "
   ]
  },
  {
   "cell_type": "code",
   "execution_count": 74,
   "id": "e2645c15-56db-4fd7-967d-8aa2fb600957",
   "metadata": {},
   "outputs": [
    {
     "name": "stdout",
     "output_type": "stream",
     "text": [
      "[1, 3, 20, 10]\n",
      "Item 7 not found in the list\n"
     ]
    }
   ],
   "source": [
    "list_3 = [1, 3, 4, 10]\n",
    "\n",
    "def find_and_replace(lst, item_to_find, item_to_replace):\n",
    "    if item_to_find in lst:\n",
    "        index = lst.index(item_to_find) \n",
    "        lst[index] = item_to_replace  \n",
    "    else:\n",
    "        print(f\"Item {item_to_find} not found in the list\")\n",
    "\n",
    "\n",
    "find_and_replace(list_3, 4, 20)  \n",
    "print(list_3)  \n",
    "\n",
    "find_and_replace(list_3, 7, 15) \n",
    "\n"
   ]
  },
  {
   "cell_type": "markdown",
   "id": "cb01a68d-e690-459c-853d-8ad9136a5a4c",
   "metadata": {},
   "source": [
    "### Remove all occurence of specific item in the list "
   ]
  },
  {
   "cell_type": "code",
   "execution_count": 76,
   "id": "4acf7487-2e2e-4c9b-95c3-5c1a6a1e6cda",
   "metadata": {},
   "outputs": [
    {
     "data": {
      "text/plain": [
       "[1, 4, 10, 4]"
      ]
     },
     "execution_count": 76,
     "metadata": {},
     "output_type": "execute_result"
    }
   ],
   "source": [
    "list_4 = [1, 3, 4, 10, 3, 4, 3]\n",
    "\n",
    "def remove_all(lst, item):\n",
    "    while item in lst:\n",
    "        lst.remove(item)\n",
    "\n",
    "\n",
    "remove_all(list_4, 3)\n",
    "list_4\n"
   ]
  },
  {
   "cell_type": "code",
   "execution_count": null,
   "id": "07f1c1bd-9f81-420c-a86d-bd3b9b232226",
   "metadata": {},
   "outputs": [],
   "source": []
  },
  {
   "cell_type": "code",
   "execution_count": null,
   "id": "9d11ea5d-f585-451b-9aa0-330cdacf1718",
   "metadata": {},
   "outputs": [],
   "source": []
  }
 ],
 "metadata": {
  "kernelspec": {
   "display_name": "Python 3 (ipykernel)",
   "language": "python",
   "name": "python3"
  },
  "language_info": {
   "codemirror_mode": {
    "name": "ipython",
    "version": 3
   },
   "file_extension": ".py",
   "mimetype": "text/x-python",
   "name": "python",
   "nbconvert_exporter": "python",
   "pygments_lexer": "ipython3",
   "version": "3.12.4"
  }
 },
 "nbformat": 4,
 "nbformat_minor": 5
}
