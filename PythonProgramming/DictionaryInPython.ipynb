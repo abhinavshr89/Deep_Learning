{
 "cells": [
  {
   "cell_type": "markdown",
   "id": "e3e186d0-82a5-4be6-b43d-09b13504137b",
   "metadata": {},
   "source": [
    "## Creating a dictionary from the list "
   ]
  },
  {
   "cell_type": "code",
   "execution_count": 97,
   "id": "83fc4f0c-b43e-4ee8-8b85-c6491a73ca7d",
   "metadata": {},
   "outputs": [
    {
     "name": "stdout",
     "output_type": "stream",
     "text": [
      "{'a': 1, 'b': 2, 'c': 3}\n"
     ]
    },
    {
     "data": {
      "text/plain": [
       "dict_values([1, 2, 3])"
      ]
     },
     "execution_count": 97,
     "metadata": {},
     "output_type": "execute_result"
    },
    {
     "data": {
      "text/plain": [
       "dict_keys(['a', 'b', 'c'])"
      ]
     },
     "execution_count": 97,
     "metadata": {},
     "output_type": "execute_result"
    }
   ],
   "source": [
    "keys = ['a', 'b', 'c']\n",
    "values = [1, 2, 3]\n",
    "my_dict = dict(zip(keys, values))\n",
    "print(my_dict)\n",
    "my_dict.values() ## accessing the values of the dictionary\n",
    "my_dict.keys() ## accessing the keys of the dictionary\n"
   ]
  },
  {
   "cell_type": "code",
   "execution_count": 37,
   "id": "e6ce8793-dcf7-41aa-841a-c307d9919b85",
   "metadata": {},
   "outputs": [
    {
     "data": {
      "text/plain": [
       "{'Ten': 10, 'Twenty': 20, 'Thirty': 30}"
      ]
     },
     "execution_count": 37,
     "metadata": {},
     "output_type": "execute_result"
    }
   ],
   "source": [
    "keys = ['Ten','Twenty','Thirty']\n",
    "values =[10,20,30]\n",
    "\n",
    "dict1 = {}\n",
    "for i , j in zip(keys,values):\n",
    "    dict1[i] =j\n",
    "\n",
    "dict1\n"
   ]
  },
  {
   "cell_type": "markdown",
   "id": "72d0d792-b88b-4e0a-acab-5db23d0dd901",
   "metadata": {},
   "source": [
    "## Merging two dictionaries  "
   ]
  },
  {
   "cell_type": "code",
   "execution_count": 39,
   "id": "0f1e1d0c-1054-45d6-945a-15a91830b4c4",
   "metadata": {},
   "outputs": [
    {
     "name": "stdout",
     "output_type": "stream",
     "text": [
      "{'a': 1, 'b': 2, 'c': 3, 'd': 4}\n"
     ]
    }
   ],
   "source": [
    "dict1 = {'a': 1, 'b': 2}\n",
    "dict2 = {'c': 3, 'd': 4}\n",
    "\n",
    "dict1.update(dict2)\n",
    "print(dict1)\n"
   ]
  },
  {
   "cell_type": "markdown",
   "id": "d2fd778d-dca2-4a32-9832-49e0bdbac624",
   "metadata": {},
   "source": [
    "### Accessing an element in a dictionary "
   ]
  },
  {
   "cell_type": "code",
   "execution_count": 41,
   "id": "bd759c15-fb27-4a27-9c0a-c144562395ee",
   "metadata": {},
   "outputs": [
    {
     "name": "stdout",
     "output_type": "stream",
     "text": [
      "Mukesh\n",
      "80\n"
     ]
    }
   ],
   "source": [
    "Sample_dict = {\n",
    "    \"class\": {\n",
    "        \"student\": {\n",
    "            \"Name\": \"Mukesh\",  \n",
    "            \"Marks\": {\n",
    "               \"Physics\" :70,\n",
    "                \"History\":80,\n",
    "            }\n",
    "        }\n",
    "    }\n",
    "}\n",
    "print(Sample_dict[\"class\"][\"student\"][\"Name\"])\n",
    "print(Sample_dict['class']['student']['Marks']['History'])"
   ]
  },
  {
   "cell_type": "markdown",
   "id": "d30e4b34-c40d-4a51-9b2e-873c531f5343",
   "metadata": {},
   "source": [
    "## Initializing the dictionary with default values "
   ]
  },
  {
   "cell_type": "code",
   "execution_count": 43,
   "id": "27c2a39e-0898-4de4-8cd5-b3d4c3a7e744",
   "metadata": {},
   "outputs": [
    {
     "name": "stdout",
     "output_type": "stream",
     "text": [
      "{'Emma': {8000, 'Salary', 'developers', 'Designation'}, 'Kelly': {8000, 'Salary', 'developers', 'Designation'}}\n",
      "{'Emma': {8000, 'Salary', 'developers', 'Designation'}, 'Kelly': {8000, 'Salary', 'developers', 'Designation'}}\n"
     ]
    }
   ],
   "source": [
    "employees = {'Kelly','Emma'}\n",
    "defaults ={'Designation','developers','Salary',8000}\n",
    "\n",
    "# Two ways to  initialize the dictionary with the default values \n",
    "res = {employee: defaults.copy() for employee in employees}\n",
    "res2 = dict.fromkeys(employees,defaults)\n",
    "print(res2)\n",
    "print(res)\n"
   ]
  },
  {
   "cell_type": "markdown",
   "id": "6e95b2c8-8313-4168-8149-7a354d2681c6",
   "metadata": {},
   "source": [
    "### creating a dictionary with some specific values from other dictionary "
   ]
  },
  {
   "cell_type": "code",
   "execution_count": 58,
   "id": "e2c79bd5-ab40-43c1-b90e-158f704ee20f",
   "metadata": {},
   "outputs": [
    {
     "data": {
      "text/plain": [
       "{'Name': 'Kelly', 'Salary': 8000}"
      ]
     },
     "execution_count": 58,
     "metadata": {},
     "output_type": "execute_result"
    }
   ],
   "source": [
    "sample_dict ={\n",
    "    'Name': \"Kelly\",\n",
    "    'age':25,\n",
    "    'Salary':8000,\n",
    "    'City':\"New York\"\n",
    "}\n",
    "keys = ['Name','Salary']\n",
    "new_dict = {k :sample_dict[k] for k in keys}\n",
    "new_dict"
   ]
  },
  {
   "cell_type": "markdown",
   "id": "1c379701-fd79-4699-bbcf-14f7dfe65470",
   "metadata": {},
   "source": [
    "### Delete a list of keys from a dictionary "
   ]
  },
  {
   "cell_type": "code",
   "execution_count": 62,
   "id": "a14ab172-e859-4b42-85f6-ad4cfcc45d4e",
   "metadata": {},
   "outputs": [
    {
     "name": "stdout",
     "output_type": "stream",
     "text": [
      "{'age': 25, 'City': 'New York'}\n"
     ]
    }
   ],
   "source": [
    "sample_dict = {\n",
    "    'Name': \"Kelly\",\n",
    "    'age': 25,\n",
    "    'Salary': 8000,\n",
    "    'City': \"New York\"\n",
    "}\n",
    "\n",
    "keys = ['Name', 'Salary']\n",
    "\n",
    "for key in keys:\n",
    "    if key in sample_dict:  \n",
    "        del sample_dict[key]\n",
    "\n",
    "print(sample_dict)"
   ]
  },
  {
   "cell_type": "code",
   "execution_count": 66,
   "id": "c728a963-7dcb-49f4-a828-1969b606c186",
   "metadata": {},
   "outputs": [
    {
     "data": {
      "text/plain": [
       "'Kelly'"
      ]
     },
     "execution_count": 66,
     "metadata": {},
     "output_type": "execute_result"
    },
    {
     "data": {
      "text/plain": [
       "8000"
      ]
     },
     "execution_count": 66,
     "metadata": {},
     "output_type": "execute_result"
    },
    {
     "name": "stdout",
     "output_type": "stream",
     "text": [
      "{'age': 25, 'City': 'New York'}\n"
     ]
    }
   ],
   "source": [
    "sample_dict = {\n",
    "    'Name': \"Kelly\",\n",
    "    'age': 25,\n",
    "    'Salary': 8000,\n",
    "    'City': \"New York\"\n",
    "}\n",
    "\n",
    "keys = ['Name', 'Salary']\n",
    "\n",
    "for key in keys:\n",
    "    if key in sample_dict:  # Ensure the key exists in the dictionary before deletion\n",
    "        sample_dict.pop(key)\n",
    "\n",
    "print(sample_dict)"
   ]
  },
  {
   "cell_type": "markdown",
   "id": "37adf742-e17b-4531-80c7-ec47f48ebabb",
   "metadata": {},
   "source": [
    "### Check if the element exists in the dictionary or not "
   ]
  },
  {
   "cell_type": "code",
   "execution_count": 81,
   "id": "5f830e1c-e106-4ddf-a3b0-fea071be7815",
   "metadata": {},
   "outputs": [
    {
     "name": "stdout",
     "output_type": "stream",
     "text": [
      "'Name' is present in the dictionary\n",
      "8000 is present in the dictionary\n"
     ]
    }
   ],
   "source": [
    "sample_dict = {\n",
    "    'Name': \"Kelly\",\n",
    "    'age': 25,\n",
    "    'Salary': 8000,\n",
    "    'City': \"New York\"\n",
    "}\n",
    "# finding a particular key in the dictionary\n",
    "if 'Name' in sample_dict:\n",
    "    print(\"'Name' is present in the dictionary\")\n",
    "\n",
    "# finding a particular key value in the dictionary \n",
    "if 8000 in sample_dict.values():\n",
    "    print(\"8000 is present in the dictionary\")\n",
    "        "
   ]
  },
  {
   "cell_type": "markdown",
   "id": "6418e659-8bf9-4fdb-96d9-4da861723999",
   "metadata": {},
   "source": [
    "### Renaming a key in the dictionary"
   ]
  },
  {
   "cell_type": "code",
   "execution_count": 88,
   "id": "4c15d99f-fcce-48bd-a59b-35c86d55735f",
   "metadata": {},
   "outputs": [
    {
     "name": "stdout",
     "output_type": "stream",
     "text": [
      "{'age': 25, 'Salary': 8000, 'City': 'New York', 'First Name': 'Kelly'}\n"
     ]
    }
   ],
   "source": [
    "# Original dictionary\n",
    "sample_dict = {\n",
    "    'Name': \"Kelly\",\n",
    "    'age': 25,\n",
    "    'Salary': 8000,\n",
    "    'City': \"New York\"\n",
    "}\n",
    "\n",
    "# Renaming the key 'Name' to 'First Name'\n",
    "# POP -> returns the value then deletes the value \n",
    "# the returned value is stored in the new key \n",
    "sample_dict['First Name'] = sample_dict.pop('Name')\n",
    "\n",
    "\n",
    "# Output the modified dictionary\n",
    "print(sample_dict)\n"
   ]
  },
  {
   "cell_type": "markdown",
   "id": "2075b43b-a55a-494c-9b78-53f4319a5a2e",
   "metadata": {},
   "source": [
    "### finding the minimum value in the dictionary "
   ]
  },
  {
   "cell_type": "code",
   "execution_count": 101,
   "id": "c0e46419-1a1e-4832-a65c-07decc1d1c99",
   "metadata": {},
   "outputs": [
    {
     "name": "stdout",
     "output_type": "stream",
     "text": [
      "The minimum value in the dictionary is: 3\n",
      "The maximum value in the dictionary is: 20\n"
     ]
    }
   ],
   "source": [
    "# Sample dictionary\n",
    "sample_dict = {\n",
    "    'a': 10,\n",
    "    'b': 5,\n",
    "    'c': 20,\n",
    "    'd': 3\n",
    "}\n",
    "\n",
    "# Finding the minimum value in the dictionary\n",
    "min_value = min(sample_dict.values())\n",
    "max_value = max(sample_dict.values())\n",
    "\n",
    "# Output the minimum value\n",
    "print(f\"The minimum value in the dictionary is: {min_value}\")\n",
    "print(f\"The maximum value in the dictionary is: {max_value}\")\n",
    "\n"
   ]
  },
  {
   "cell_type": "markdown",
   "id": "4f66c69b-ba5f-4ed2-8fdd-7a6347b61d0f",
   "metadata": {},
   "source": [
    "### Change value of a key in a nested dictionary"
   ]
  },
  {
   "cell_type": "code",
   "execution_count": null,
   "id": "bfbff79a-ca37-4d7a-af9e-31d47a391ebc",
   "metadata": {},
   "outputs": [],
   "source": [
    "# Sample nested dictionary\n",
    "nested_dict = {\n",
    "    'employee': {\n",
    "        'Name': \"Kelly\",\n",
    "        'age': 25,\n",
    "        'Salary': 8000,\n",
    "        'City': \"New York\"\n",
    "    },\n",
    "    'department': {\n",
    "        'Name': \"Sales\",\n",
    "        'Location': \"Floor 1\"\n",
    "    }\n",
    "}\n",
    "\n",
    "# Changing the salary of the employee\n",
    "nested_dict['employee']['Salary'] = 8500\n",
    "\n",
    "# Output the modified nested dictionary\n",
    "print(nested_dict)\n"
   ]
  }
 ],
 "metadata": {
  "kernelspec": {
   "display_name": "Python 3 (ipykernel)",
   "language": "python",
   "name": "python3"
  },
  "language_info": {
   "codemirror_mode": {
    "name": "ipython",
    "version": 3
   },
   "file_extension": ".py",
   "mimetype": "text/x-python",
   "name": "python",
   "nbconvert_exporter": "python",
   "pygments_lexer": "ipython3",
   "version": "3.12.4"
  }
 },
 "nbformat": 4,
 "nbformat_minor": 5
}
